{
  "nbformat": 4,
  "nbformat_minor": 0,
  "metadata": {
    "colab": {
      "provenance": [],
      "include_colab_link": true
    },
    "kernelspec": {
      "name": "python3",
      "display_name": "Python 3"
    }
  },
  "cells": [
    {
      "cell_type": "markdown",
      "metadata": {
        "id": "view-in-github",
        "colab_type": "text"
      },
      "source": [
        "<a href=\"https://colab.research.google.com/github/jeffdi/tt_ml_test/blob/main/Pytorch_test.ipynb\" target=\"_parent\"><img src=\"https://colab.research.google.com/assets/colab-badge.svg\" alt=\"Open In Colab\"/></a>"
      ]
    },
    {
      "cell_type": "markdown",
      "metadata": {
        "id": "H7gQFbUxOQtb"
      },
      "source": [
        "# An example implementation of a simple neural network using PyTorch and Tiny Tapeout\n",
        "\n",
        "In this notebook, we are going to train a simple neural network using PyTorch and implement it in silicon using Tiny Tapeout.\n",
        "\n",
        "---\n",
        "\n",
        "**Author:** TBD"
      ]
    },
    {
      "cell_type": "markdown",
      "metadata": {
        "id": "CkzttrQCwaSQ"
      },
      "source": [
        "## Importing the libraries\n",
        "\n",
        "Like with any other programming exercise, the first step is to import the necessary libraries. As we are going to be using Google Colab to program our neural network, we need to install and import the necessary PyTorch libraries."
      ]
    },
    {
      "cell_type": "code",
      "source": [
        "!git clone https://github.com/rohittp0/chipon\n",
        "%cd chipon/"
      ],
      "metadata": {
        "id": "KvsqqoLTBj3d"
      },
      "execution_count": null,
      "outputs": []
    },
    {
      "cell_type": "code",
      "metadata": {
        "id": "FuhJIaeXO2W9",
        "outputId": "44e11d2f-7900-4d4e-c64e-372731fb37f5",
        "colab": {
          "base_uri": "https://localhost:8080/"
        }
      },
      "source": [
        "import torch\n",
        "import torch.nn as nn\n",
        "\n",
        "import numpy as np\n",
        "\n",
        "import layers\n",
        "from constants import test_bench_template\n",
        "from main import Model\n",
        "\n",
        "## print out the pytorch version used\n",
        "print(torch.__version__)"
      ],
      "execution_count": 19,
      "outputs": [
        {
          "output_type": "stream",
          "name": "stdout",
          "text": [
            "2.2.1+cu121\n"
          ]
        }
      ]
    },
    {
      "cell_type": "markdown",
      "metadata": {
        "id": "0a2C_nneO_wp"
      },
      "source": [
        "## The Neural Network\n",
        "\n",
        "![alt text](https://drive.google.com/uc?export=view&id=1Lpi4VPBfAV3JkOLopcsGK4L8dyxmPF1b)\n",
        "\n",
        "Before building and training a neural network the first step is to process and prepare the data. In this notebook, we are going to use syntethic data (i.e., fake data) so we won't be using any real world data.\n",
        "\n",
        "For the sake of simplicity, we are going to use the following input and output pairs converted to tensors, which is how data is typically represented in the world of deep learning. The x values represent the input of dimension `(6,1)` and the y values represent the output of similar dimension. The example is taken from this [tutorial](https://github.com/lmoroney/dlaicourse/blob/master/Course%201%20-%20Part%202%20-%20Lesson%202%20-%20Notebook.ipynb).\n",
        "\n",
        "The objective of the neural network model that we are going to build and train is to automatically learn patterns that better characterize the relationship between the `x` and `y` values. Essentially, the model learns the relationship that exists between inputs and outputs which can then be used to predict the corresponding `y` value for any given input `x`."
      ]
    },
    {
      "cell_type": "code",
      "source": [
        "simple_model = nn.Sequential(\n",
        "        nn.Linear(2, 1),\n",
        "        nn.ReLU(),\n",
        "    )"
      ],
      "metadata": {
        "id": "E1NExkRLMeyG"
      },
      "execution_count": 15,
      "outputs": []
    },
    {
      "cell_type": "code",
      "source": [
        "simple_model[0].weight = nn.Parameter(torch.tensor([[1.0, -1.0]]))\n",
        "simple_model[0].bias = nn.Parameter(torch.tensor([1.0]))"
      ],
      "metadata": {
        "id": "459l5kDOMjZI"
      },
      "execution_count": 16,
      "outputs": []
    },
    {
      "cell_type": "code",
      "source": [
        "model = Model(simple_model)\n",
        "model.parse_layers()\n",
        "model.forward_range([[1.0, 100.0], [0.0, 1024.0]])"
      ],
      "metadata": {
        "id": "ZY1JoAO7MtMx"
      },
      "execution_count": 20,
      "outputs": []
    },
    {
      "cell_type": "code",
      "source": [
        "print(model)\n",
        "code = model.emit()"
      ],
      "metadata": {
        "colab": {
          "base_uri": "https://localhost:8080/"
        },
        "id": "Z3-XTl5kM7P4",
        "outputId": "9e1e44cc-8695-463c-cea0-d29624e6ee9c"
      },
      "execution_count": 21,
      "outputs": [
        {
          "output_type": "stream",
          "name": "stdout",
          "text": [
            "Linear(2 -> 1)\n",
            "ReLU((1,))\n"
          ]
        }
      ]
    },
    {
      "cell_type": "code",
      "source": [
        "print(code)"
      ],
      "metadata": {
        "colab": {
          "base_uri": "https://localhost:8080/"
        },
        "id": "IulboYgfNTKv",
        "outputId": "f2cc987e-b233-479a-972b-314ecf7f8746"
      },
      "execution_count": 23,
      "outputs": [
        {
          "output_type": "stream",
          "name": "stdout",
          "text": [
            "`timescale 1ns / 1ps\n",
            "\n",
            "module layer_0_linear_2_1(in0,in1, out0);\n",
            "    input [6:0] in0;\n",
            "    input [10:0] in1;\n",
            "\n",
            "    output [9:0] out0;\n",
            "\n",
            "    \n",
            "    reg [9:0] mul0;\n",
            "\n",
            "    reg [9:0] add0;\n",
            "\n",
            "        \n",
            "    always @(*)\n",
            "    begin\n",
            "        mul0 = mul0 + in0 * 1.0;\n",
            "        mul0 = mul0 + in1 * -1.0;\n",
            "\n",
            "        add0 = mul0 + 1.0;\n",
            "\n",
            "    end\n",
            "    assign out0 = add0;\n",
            "\n",
            "endmodule\n",
            "\n",
            "\n",
            "module layer_1_relu_1(in0, out0);\n",
            "    input [9:0] in0;\n",
            "\n",
            "    output reg [1:0] out0;\n",
            "\n",
            "                \n",
            "    always @(*) \n",
            "    begin\n",
            "        out0 = in0 > 0 ? in0 : 0;\n",
            "\n",
            "    end\n",
            "endmodule\n",
            "\n",
            "module top(in0,in1, out0);\n",
            "    input [6:0] in0;\n",
            "    input [10:0] in1;\n",
            "    output [1:0] out0;\n",
            "    wire [10:0] layer_0_out_0;\n",
            "    layer_0_linear_2_1 layer_0(in0,in1, layer_0_out_0);\n",
            "    wire [2:0] layer_1_out_0;\n",
            "    layer_1_relu_1 layer_1(layer_0_out_0, layer_1_out_0);\n",
            "    assign out0 = layer_1_out_0;\n",
            "endmodule\n"
          ]
        }
      ]
    },
    {
      "cell_type": "code",
      "source": [
        "with open('test.v', 'w') as f:\n",
        "    f.write(code)\n",
        "\n",
        "with open('test_tb.v', 'w') as f:\n",
        "    f.write(model.emit_test_bench())"
      ],
      "metadata": {
        "id": "vQDQWSSkNFHa"
      },
      "execution_count": 22,
      "outputs": []
    },
    {
      "cell_type": "code",
      "metadata": {
        "id": "JWFtgUX85iwO"
      },
      "source": [
        "## our data in tensor form\n",
        "x = torch.tensor([[-1.0],  [0.0], [1.0], [2.0], [3.0], [4.0]], dtype=torch.float)\n",
        "y = torch.tensor([[-3.0], [-1.0], [1.0], [3.0], [5.0], [7.0]], dtype=torch.float)"
      ],
      "execution_count": null,
      "outputs": []
    },
    {
      "cell_type": "code",
      "metadata": {
        "id": "NcQUjR_95z5J",
        "outputId": "7c69b035-b86b-40ec-c744-50314437c15d",
        "colab": {
          "base_uri": "https://localhost:8080/"
        }
      },
      "source": [
        "## print size of the input tensor\n",
        "x.size()"
      ],
      "execution_count": null,
      "outputs": [
        {
          "output_type": "execute_result",
          "data": {
            "text/plain": [
              "torch.Size([6, 1])"
            ]
          },
          "metadata": {},
          "execution_count": 5
        }
      ]
    },
    {
      "cell_type": "markdown",
      "metadata": {
        "id": "9CJXO5WX1QtQ"
      },
      "source": [
        "## The Neural Network Components\n",
        "As said earlier, we are going to first define and build out the components of our neural network before training the model.\n",
        "\n",
        "### Model\n",
        "\n",
        "Typically, when building a neural network model, we define the layers and weights which form the basic components of the model. Below we show an example of how to define a hidden layer named `layer1` with size `(1, 1)`. For the purpose of this tutorial, we won't explicitly define the `weights` and allow the built-in functions provided by PyTorch to handle that part for us. By the way, the `nn.Linear(...)` function applies a linear transformation ($y = xA^T + b$) to the data that was provided as its input. We ignore the bias for now by setting `bias=False`.\n",
        "\n",
        "\n",
        "\n"
      ]
    },
    {
      "cell_type": "code",
      "metadata": {
        "id": "N1Ii5JRz3Jud"
      },
      "source": [
        "## Neural network with 1 hidden layer\n",
        "layer1 = nn.Linear(1,1, bias=False)\n",
        "model = nn.Sequential(layer1)"
      ],
      "execution_count": null,
      "outputs": []
    },
    {
      "cell_type": "markdown",
      "metadata": {
        "id": "9HTWYD4aMBXQ"
      },
      "source": [
        "### Loss and Optimizer\n",
        "The loss function, `nn.MSELoss()`, is in charge of letting the model know how good it has learned the relationship between the input and output. The optimizer (in this case an `SGD`) primary role is to minimize or lower that loss value as it tunes its weights."
      ]
    },
    {
      "cell_type": "code",
      "metadata": {
        "id": "3hglFpejArxx"
      },
      "source": [
        "## loss function\n",
        "criterion = nn.MSELoss()\n",
        "\n",
        "## optimizer algorithm\n",
        "optimizer = torch.optim.SGD(model.parameters(), lr=0.01)"
      ],
      "execution_count": null,
      "outputs": []
    },
    {
      "cell_type": "markdown",
      "metadata": {
        "id": "FKj6jvZTUtGh"
      },
      "source": [
        "## Training the Neural Network Model\n",
        "We have all the components we need to train our model. Below is the code used to train our model.\n",
        "\n",
        "In simple terms, we train the model by feeding it the input and output pairs for a couple of rounds (i.e., `epoch`). After a series of forward and backward steps, the model somewhat learns the relationship between x and y values. This is notable by the decrease in the computed `loss`. For a more detailed explanation of this code check out this [tutorial](https://medium.com/dair-ai/a-simple-neural-network-from-scratch-with-pytorch-and-google-colab-c7f3830618e0)."
      ]
    },
    {
      "cell_type": "code",
      "metadata": {
        "id": "JeOr9i-aBzRv",
        "outputId": "5f6654b9-f171-4f00-f771-d2c00f14f2fb",
        "colab": {
          "base_uri": "https://localhost:8080/"
        }
      },
      "source": [
        "## training\n",
        "for ITER in range(150):\n",
        "    model = model.train()\n",
        "\n",
        "    ## forward\n",
        "    output = model(x)\n",
        "    loss = criterion(output, y)\n",
        "    optimizer.zero_grad()\n",
        "\n",
        "    ## backward + update model params\n",
        "    loss.backward()\n",
        "    optimizer.step()\n",
        "\n",
        "    model.eval()\n",
        "    print('Epoch: %d | Loss: %.4f' %(ITER, loss.detach().item()))"
      ],
      "execution_count": null,
      "outputs": [
        {
          "output_type": "stream",
          "name": "stdout",
          "text": [
            "Epoch: 0 | Loss: 5.4530\n",
            "Epoch: 1 | Loss: 4.4949\n",
            "Epoch: 2 | Loss: 3.7246\n",
            "Epoch: 3 | Loss: 3.1053\n",
            "Epoch: 4 | Loss: 2.6073\n",
            "Epoch: 5 | Loss: 2.2069\n",
            "Epoch: 6 | Loss: 1.8850\n",
            "Epoch: 7 | Loss: 1.6262\n",
            "Epoch: 8 | Loss: 1.4181\n",
            "Epoch: 9 | Loss: 1.2508\n",
            "Epoch: 10 | Loss: 1.1163\n",
            "Epoch: 11 | Loss: 1.0082\n",
            "Epoch: 12 | Loss: 0.9212\n",
            "Epoch: 13 | Loss: 0.8513\n",
            "Epoch: 14 | Loss: 0.7951\n",
            "Epoch: 15 | Loss: 0.7499\n",
            "Epoch: 16 | Loss: 0.7136\n",
            "Epoch: 17 | Loss: 0.6844\n",
            "Epoch: 18 | Loss: 0.6609\n",
            "Epoch: 19 | Loss: 0.6420\n",
            "Epoch: 20 | Loss: 0.6268\n",
            "Epoch: 21 | Loss: 0.6146\n",
            "Epoch: 22 | Loss: 0.6048\n",
            "Epoch: 23 | Loss: 0.5969\n",
            "Epoch: 24 | Loss: 0.5905\n",
            "Epoch: 25 | Loss: 0.5854\n",
            "Epoch: 26 | Loss: 0.5813\n",
            "Epoch: 27 | Loss: 0.5780\n",
            "Epoch: 28 | Loss: 0.5754\n",
            "Epoch: 29 | Loss: 0.5733\n",
            "Epoch: 30 | Loss: 0.5715\n",
            "Epoch: 31 | Loss: 0.5702\n",
            "Epoch: 32 | Loss: 0.5691\n",
            "Epoch: 33 | Loss: 0.5682\n",
            "Epoch: 34 | Loss: 0.5675\n",
            "Epoch: 35 | Loss: 0.5669\n",
            "Epoch: 36 | Loss: 0.5664\n",
            "Epoch: 37 | Loss: 0.5660\n",
            "Epoch: 38 | Loss: 0.5657\n",
            "Epoch: 39 | Loss: 0.5655\n",
            "Epoch: 40 | Loss: 0.5653\n",
            "Epoch: 41 | Loss: 0.5652\n",
            "Epoch: 42 | Loss: 0.5650\n",
            "Epoch: 43 | Loss: 0.5649\n",
            "Epoch: 44 | Loss: 0.5648\n",
            "Epoch: 45 | Loss: 0.5648\n",
            "Epoch: 46 | Loss: 0.5647\n",
            "Epoch: 47 | Loss: 0.5647\n",
            "Epoch: 48 | Loss: 0.5647\n",
            "Epoch: 49 | Loss: 0.5646\n",
            "Epoch: 50 | Loss: 0.5646\n",
            "Epoch: 51 | Loss: 0.5646\n",
            "Epoch: 52 | Loss: 0.5646\n",
            "Epoch: 53 | Loss: 0.5646\n",
            "Epoch: 54 | Loss: 0.5646\n",
            "Epoch: 55 | Loss: 0.5645\n",
            "Epoch: 56 | Loss: 0.5645\n",
            "Epoch: 57 | Loss: 0.5645\n",
            "Epoch: 58 | Loss: 0.5645\n",
            "Epoch: 59 | Loss: 0.5645\n",
            "Epoch: 60 | Loss: 0.5645\n",
            "Epoch: 61 | Loss: 0.5645\n",
            "Epoch: 62 | Loss: 0.5645\n",
            "Epoch: 63 | Loss: 0.5645\n",
            "Epoch: 64 | Loss: 0.5645\n",
            "Epoch: 65 | Loss: 0.5645\n",
            "Epoch: 66 | Loss: 0.5645\n",
            "Epoch: 67 | Loss: 0.5645\n",
            "Epoch: 68 | Loss: 0.5645\n",
            "Epoch: 69 | Loss: 0.5645\n",
            "Epoch: 70 | Loss: 0.5645\n",
            "Epoch: 71 | Loss: 0.5645\n",
            "Epoch: 72 | Loss: 0.5645\n",
            "Epoch: 73 | Loss: 0.5645\n",
            "Epoch: 74 | Loss: 0.5645\n",
            "Epoch: 75 | Loss: 0.5645\n",
            "Epoch: 76 | Loss: 0.5645\n",
            "Epoch: 77 | Loss: 0.5645\n",
            "Epoch: 78 | Loss: 0.5645\n",
            "Epoch: 79 | Loss: 0.5645\n",
            "Epoch: 80 | Loss: 0.5645\n",
            "Epoch: 81 | Loss: 0.5645\n",
            "Epoch: 82 | Loss: 0.5645\n",
            "Epoch: 83 | Loss: 0.5645\n",
            "Epoch: 84 | Loss: 0.5645\n",
            "Epoch: 85 | Loss: 0.5645\n",
            "Epoch: 86 | Loss: 0.5645\n",
            "Epoch: 87 | Loss: 0.5645\n",
            "Epoch: 88 | Loss: 0.5645\n",
            "Epoch: 89 | Loss: 0.5645\n",
            "Epoch: 90 | Loss: 0.5645\n",
            "Epoch: 91 | Loss: 0.5645\n",
            "Epoch: 92 | Loss: 0.5645\n",
            "Epoch: 93 | Loss: 0.5645\n",
            "Epoch: 94 | Loss: 0.5645\n",
            "Epoch: 95 | Loss: 0.5645\n",
            "Epoch: 96 | Loss: 0.5645\n",
            "Epoch: 97 | Loss: 0.5645\n",
            "Epoch: 98 | Loss: 0.5645\n",
            "Epoch: 99 | Loss: 0.5645\n",
            "Epoch: 100 | Loss: 0.5645\n",
            "Epoch: 101 | Loss: 0.5645\n",
            "Epoch: 102 | Loss: 0.5645\n",
            "Epoch: 103 | Loss: 0.5645\n",
            "Epoch: 104 | Loss: 0.5645\n",
            "Epoch: 105 | Loss: 0.5645\n",
            "Epoch: 106 | Loss: 0.5645\n",
            "Epoch: 107 | Loss: 0.5645\n",
            "Epoch: 108 | Loss: 0.5645\n",
            "Epoch: 109 | Loss: 0.5645\n",
            "Epoch: 110 | Loss: 0.5645\n",
            "Epoch: 111 | Loss: 0.5645\n",
            "Epoch: 112 | Loss: 0.5645\n",
            "Epoch: 113 | Loss: 0.5645\n",
            "Epoch: 114 | Loss: 0.5645\n",
            "Epoch: 115 | Loss: 0.5645\n",
            "Epoch: 116 | Loss: 0.5645\n",
            "Epoch: 117 | Loss: 0.5645\n",
            "Epoch: 118 | Loss: 0.5645\n",
            "Epoch: 119 | Loss: 0.5645\n",
            "Epoch: 120 | Loss: 0.5645\n",
            "Epoch: 121 | Loss: 0.5645\n",
            "Epoch: 122 | Loss: 0.5645\n",
            "Epoch: 123 | Loss: 0.5645\n",
            "Epoch: 124 | Loss: 0.5645\n",
            "Epoch: 125 | Loss: 0.5645\n",
            "Epoch: 126 | Loss: 0.5645\n",
            "Epoch: 127 | Loss: 0.5645\n",
            "Epoch: 128 | Loss: 0.5645\n",
            "Epoch: 129 | Loss: 0.5645\n",
            "Epoch: 130 | Loss: 0.5645\n",
            "Epoch: 131 | Loss: 0.5645\n",
            "Epoch: 132 | Loss: 0.5645\n",
            "Epoch: 133 | Loss: 0.5645\n",
            "Epoch: 134 | Loss: 0.5645\n",
            "Epoch: 135 | Loss: 0.5645\n",
            "Epoch: 136 | Loss: 0.5645\n",
            "Epoch: 137 | Loss: 0.5645\n",
            "Epoch: 138 | Loss: 0.5645\n",
            "Epoch: 139 | Loss: 0.5645\n",
            "Epoch: 140 | Loss: 0.5645\n",
            "Epoch: 141 | Loss: 0.5645\n",
            "Epoch: 142 | Loss: 0.5645\n",
            "Epoch: 143 | Loss: 0.5645\n",
            "Epoch: 144 | Loss: 0.5645\n",
            "Epoch: 145 | Loss: 0.5645\n",
            "Epoch: 146 | Loss: 0.5645\n",
            "Epoch: 147 | Loss: 0.5645\n",
            "Epoch: 148 | Loss: 0.5645\n",
            "Epoch: 149 | Loss: 0.5645\n"
          ]
        }
      ]
    },
    {
      "cell_type": "markdown",
      "metadata": {
        "id": "Bp50Q7J0Xkiw"
      },
      "source": [
        "## Testing the Model\n",
        "After training the model we have the ability to test the model predictive capability by passing it an input. Below is a simple example of how you could achieve this with our model. The result we obtained aligns with the results obtained in this [notebook](https://github.com/lmoroney/dlaicourse/blob/master/Course%201%20-%20Part%202%20-%20Lesson%202%20-%20Notebook.ipynb), which inspired this entire tutorial."
      ]
    },
    {
      "cell_type": "code",
      "metadata": {
        "id": "V1odfZpGFoBi",
        "outputId": "ec7f9578-7d6c-40e4-ae38-ff7ceedc1e06",
        "colab": {
          "base_uri": "https://localhost:8080/"
        }
      },
      "source": [
        "## test the model\n",
        "sample = torch.tensor([10.0], dtype=torch.float)\n",
        "predicted = model(sample)\n",
        "print(predicted.detach().item())"
      ],
      "execution_count": null,
      "outputs": [
        {
          "output_type": "stream",
          "name": "stdout",
          "text": [
            "17.096769332885742\n"
          ]
        }
      ]
    },
    {
      "cell_type": "markdown",
      "metadata": {
        "id": "ozX4V1GhPLyr"
      },
      "source": [
        "## Final Words\n",
        "\n",
        "Congratulations! In this tutorial you learned how to train a simple neural network using PyTorch. You also learned about the basic components that make up a neural network model such as the linear transformation layer, optimizer, and loss function. We then trained the model and tested its predictive capabilities. You are well on your way to become more knowledgeable about deep learning and PyTorch. I have provided a bunch of references below if you are interested in practising and learning more.\n",
        "\n",
        "*I would like to thank Laurence Moroney for his excellent [tutorial](https://github.com/lmoroney/dlaicourse/blob/master/Course%201%20-%20Part%202%20-%20Lesson%202%20-%20Notebook.ipynb) which I used as an inspiration for this tutorial.*"
      ]
    },
    {
      "cell_type": "markdown",
      "metadata": {
        "id": "LAABGiMHeDOr"
      },
      "source": [
        "## Exercises\n",
        "- Add more examples in the input and output tensors. In addition, try to change the dimensions of the data, say by adding an extra value in each array. What needs to be changed to successfully train the network with the new data?\n",
        "- The model converged really fast, which means it learned the relationship between x and y values after a couple of iterations. Do you think it makes sense to continue training? How would you automate the process of stopping the training after the model loss doesn't subtantially change?\n",
        "- In our example, we used a single hidden layer. Try to take a look at the PyTorch documentation to figure out what you need to do to get a model with more layers. What happens if you add more hidden layers?\n",
        "- We did not discuss the learning rate (`lr-0.001`) and the optimizer in great detail. Check out the [PyTorch documentation](https://pytorch.org/docs/stable/optim.html) to learn more about what other optimizers you can use.\n"
      ]
    },
    {
      "cell_type": "markdown",
      "metadata": {
        "id": "4-o4w9vpPHZz"
      },
      "source": [
        "## References\n",
        "- [The Hello World of Deep Learning with Neural Networks](https://github.com/lmoroney/dlaicourse/blob/master/Course%201%20-%20Part%202%20-%20Lesson%202%20-%20Notebook.ipynb)\n",
        "- [A Simple Neural Network from Scratch with PyTorch and Google Colab](https://medium.com/dair-ai/a-simple-neural-network-from-scratch-with-pytorch-and-google-colab-c7f3830618e0?source=collection_category---4------1-----------------------)\n",
        "- [PyTorch Official Docs](https://pytorch.org/docs/stable/nn.html)\n",
        "- [PyTorch 1.2 Quickstart with Google Colab](https://medium.com/dair-ai/pytorch-1-2-quickstart-with-google-colab-6690a30c38d)\n",
        "- [A Gentle Intoduction to PyTorch](https://medium.com/dair-ai/pytorch-1-2-introduction-guide-f6fa9bb7597c)"
      ]
    },
    {
      "cell_type": "code",
      "source": [],
      "metadata": {
        "id": "_vYe8qvT5M_2"
      },
      "execution_count": null,
      "outputs": []
    }
  ]
}