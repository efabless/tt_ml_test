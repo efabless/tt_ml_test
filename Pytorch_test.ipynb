{
  "nbformat": 4,
  "nbformat_minor": 0,
  "metadata": {
    "colab": {
      "provenance": [],
      "include_colab_link": true
    },
    "kernelspec": {
      "name": "python3",
      "display_name": "Python 3"
    }
  },
  "cells": [
    {
      "cell_type": "markdown",
      "metadata": {
        "id": "view-in-github",
        "colab_type": "text"
      },
      "source": [
        "<a href=\"https://colab.research.google.com/github/efabless/tt_ml_test/blob/main/Pytorch_test.ipynb\" target=\"_parent\"><img src=\"https://colab.research.google.com/assets/colab-badge.svg\" alt=\"Open In Colab\"/></a>"
      ]
    },
    {
      "cell_type": "markdown",
      "metadata": {
        "id": "H7gQFbUxOQtb"
      },
      "source": [
        "# An example implementation of a simple neural network using PyTorch and Tiny Tapeout\n",
        "\n",
        "In this notebook, we are going to train a simple neural network using PyTorch and implement it in silicon using Tiny Tapeout.\n",
        "\n",
        "This example reimplements the Hello World example presented in Chapter 4 of the TinyML book by Pat Warden.\n",
        "\n",
        "https://www.oreilly.com/library/view/tinyml/9781492052036/ch04.html\n",
        "\n",
        "---\n",
        "\n",
        "**Author:** TBD"
      ]
    },
    {
      "cell_type": "markdown",
      "metadata": {
        "id": "CkzttrQCwaSQ"
      },
      "source": [
        "## Importing dependencies\n",
        "\n",
        "In addition to PyTorch, we are going to use a Github project for converting a neural network model to Verilog.  \n",
        "\n",
        "https://github.com/rohittp0/chipon/tree/master\n",
        "\n"
      ]
    },
    {
      "cell_type": "code",
      "source": [
        "#!git clone https://github.com/rohittp0/chipon\n",
        "#%cd chipon/\n",
        "!git clone https://github.com/efabless/tt_ml_test\n",
        "%cd tt_ml_test/"
      ],
      "metadata": {
        "id": "KvsqqoLTBj3d"
      },
      "execution_count": null,
      "outputs": []
    },
    {
      "cell_type": "code",
      "metadata": {
        "id": "FuhJIaeXO2W9",
        "outputId": "019ff67a-665a-47a5-9b5a-084b7e187e0a",
        "colab": {
          "base_uri": "https://localhost:8080/"
        }
      },
      "source": [
        "import torch\n",
        "from torch import nn\n",
        "import torch.quantization as quant\n",
        "\n",
        "import numpy as np\n",
        "import matplotlib.pyplot as plt\n",
        "import math\n",
        "\n",
        "import layers\n",
        "from constants import test_bench_template\n",
        "from main import Model\n",
        "import os\n",
        "\n",
        "## print out the pytorch version used\n",
        "print(torch.__version__)"
      ],
      "execution_count": null,
      "outputs": [
        {
          "output_type": "stream",
          "name": "stdout",
          "text": [
            "2.2.1+cu121\n"
          ]
        }
      ]
    },
    {
      "cell_type": "markdown",
      "source": [
        "First generate the dataset representing a sinewave."
      ],
      "metadata": {
        "id": "-qIOuZ5xjIol"
      }
    },
    {
      "cell_type": "code",
      "source": [
        "# We'll generate this many sample datapoints\n",
        "SAMPLES = 1000\n",
        "\n",
        "# Set a \"seed\" value, so we get the same random numbers each time we run this\n",
        "# notebook. Any number can be used here.\n",
        "SEED = 1337\n",
        "np.random.seed(SEED)\n",
        "\n",
        "# Generate a uniformly distributed set of random numbers in the range from\n",
        "# 0 to 2π, which covers a complete sine wave oscillation\n",
        "x_values = np.random.uniform(low=0, high=2*math.pi, size=SAMPLES)\n",
        "x_values = np.float32(x_values)\n",
        "\n",
        "# Shuffle the values to guarantee they're not in order\n",
        "np.random.shuffle(x_values)\n",
        "\n",
        "# Calculate the corresponding sine values\n",
        "y_values = np.sin(x_values) + 1.2\n",
        "\n",
        "# Plot our data. The 'b.' argument tells the library to print blue dots.\n",
        "plt.plot(x_values, y_values, 'b.')\n",
        "plt.show()"
      ],
      "metadata": {
        "colab": {
          "base_uri": "https://localhost:8080/",
          "height": 430
        },
        "id": "eLIaQoeCjAb0",
        "outputId": "a8d480c9-079a-4f98-d57d-971a96f3cd1c"
      },
      "execution_count": null,
      "outputs": [
        {
          "output_type": "display_data",
          "data": {
            "text/plain": [
              "<Figure size 640x480 with 1 Axes>"
            ],
            "image/png": "[encoded data removed]"
          },
          "metadata": {}
        }
      ]
    },
    {
      "cell_type": "markdown",
      "source": [
        "Add noise to the data."
      ],
      "metadata": {
        "id": "L6QxbvfzjamZ"
      }
    },
    {
      "cell_type": "code",
      "source": [
        "# Add a small random number to each y value\n",
        "y_values += 0.1 * np.random.randn(*y_values.shape)\n",
        "\n",
        "# Plot our data\n",
        "plt.plot(x_values, y_values, 'b.')\n",
        "plt.show()"
      ],
      "metadata": {
        "colab": {
          "base_uri": "https://localhost:8080/",
          "height": 434
        },
        "id": "h0L0EnjkjYwZ",
        "outputId": "9ac6c996-4693-416c-df4b-f36f0be744f7"
      },
      "execution_count": null,
      "outputs": [
        {
          "output_type": "display_data",
          "data": {
            "text/plain": [
              "<Figure size 640x480 with 1 Axes>"
            ],
            "image/png": "[encoded data removed]"
          },
          "metadata": {}
        }
      ]
    },
    {
      "cell_type": "markdown",
      "source": [
        "Split the data into training, validation and test datasets"
      ],
      "metadata": {
        "id": "FaXWDmghjkcj"
      }
    },
    {
      "cell_type": "code",
      "source": [
        "# We'll use 60% of our data for training and 20% for testing. The remaining 20%\n",
        "# will be used for validation. Calculate the indices of each section.\n",
        "TRAIN_SPLIT =  int(0.6 * SAMPLES)\n",
        "TEST_SPLIT = int(0.2 * SAMPLES + TRAIN_SPLIT)\n",
        "\n",
        "# Use np.split to chop our data into three parts.\n",
        "# The second argument to np.split is an array of indices where the data will be\n",
        "# split. We provide two indices, so the data will be divided into three chunks.\n",
        "x_train_np, x_validate_np, x_test_np = np.split(x_values, [TRAIN_SPLIT, TEST_SPLIT])\n",
        "y_train_np, y_validate_np, y_test_np = np.split(y_values, [TRAIN_SPLIT, TEST_SPLIT])\n",
        "\n",
        "# Double check that our splits add up correctly\n",
        "assert (x_train_np.size + x_validate_np.size + x_test_np.size) ==  SAMPLES\n",
        "\n",
        "# Plot the data in each partition in different colors:\n",
        "plt.plot(x_train_np, y_train_np, 'b.', label=\"Train\")\n",
        "plt.plot(x_validate_np, y_validate_np, 'y.', label=\"Validate\")\n",
        "plt.plot(x_test_np, y_test_np, 'r.', label=\"Test\")\n",
        "plt.legend()\n",
        "plt.show()"
      ],
      "metadata": {
        "colab": {
          "base_uri": "https://localhost:8080/",
          "height": 434
        },
        "id": "fgMGtZdYji0H",
        "outputId": "4766af83-e7b4-4824-d1f7-f70982d44737"
      },
      "execution_count": null,
      "outputs": [
        {
          "output_type": "display_data",
          "data": {
            "text/plain": [
              "<Figure size 640x480 with 1 Axes>"
            ],
            "image/png": "[encoded data removed]"
          },
          "metadata": {}
        }
      ]
    },
    {
      "cell_type": "markdown",
      "source": [
        "Create the a simple sequential model with on layer of nodes."
      ],
      "metadata": {
        "id": "Vkv-EY0RQ7Cf"
      }
    },
    {
      "cell_type": "code",
      "source": [
        "# Define model architecture\n",
        "class SinePredictor(nn.Sequential):\n",
        "  def __init__(self, input_size, hidden_size, output_size):\n",
        "    super(SinePredictor, self).__init__()\n",
        "    self.fc1 = nn.Linear(input_size, hidden_size)\n",
        "    self.relu = nn.ReLU()\n",
        "    self.fc2 = nn.Linear(hidden_size, hidden_size)\n",
        "    self.fc3 = nn.Linear(hidden_size, output_size)\n",
        "\n",
        "  def forward(self, x):\n",
        "    x = self.relu(self.fc1(x))\n",
        "    x = self.relu(self.fc2(x))\n",
        "    x = self.fc3(x)\n",
        "    return x\n",
        "\n",
        "# Define hyperparameters\n",
        "input_size = 1  # Size of sine wave input (x-value)\n",
        "hidden_size = 16  # Number of neurons in the hidden layer\n",
        "output_size = 1  # Size of sine wave output (predicted y-value)\n",
        "\n",
        "# Create the model instance\n",
        "model = SinePredictor(input_size, hidden_size, output_size)\n",
        "\n",
        "# Define loss function and optimizer\n",
        "criterion = nn.MSELoss()  # Mean squared error loss for regression\n",
        "optimizer = torch.optim.Adam(model.parameters(), lr=0.01)  # Adam optimizer\n"
      ],
      "metadata": {
        "id": "SryyPsnBUXHg"
      },
      "execution_count": null,
      "outputs": []
    },
    {
      "cell_type": "code",
      "source": [
        "# Convert training data to tensors\n",
        "\n",
        "x_train = torch.tensor(x_train_np)[:, None]\n",
        "y_train = torch.tensor(y_train_np)[:, None]\n",
        "\n",
        "x_validate = torch.tensor(x_validate_np)[:, None]\n",
        "y_validate = torch.tensor(y_validate_np)[:, None]\n",
        "\n",
        "x_test = torch.tensor(x_test_np)[:, None]\n",
        "y_test = torch.tensor(y_test_np)[:, None]\n",
        "\n",
        "print(x_train.size())\n"
      ],
      "metadata": {
        "colab": {
          "base_uri": "https://localhost:8080/"
        },
        "id": "e_YdFAnmVFBE",
        "outputId": "704463ee-1151-42b4-faf5-fb1c0646e0ca"
      },
      "execution_count": null,
      "outputs": [
        {
          "output_type": "stream",
          "name": "stdout",
          "text": [
            "torch.Size([600, 1])\n"
          ]
        }
      ]
    },
    {
      "cell_type": "code",
      "source": [
        "# Training loop (modify epochs and batch size as needed)\n",
        "training_loss = []\n",
        "for epoch in range(200):\n",
        "  for i in range(0, len(x_train), 30):  # Loop through data in batches of 30\n",
        "    # Get a batch of data\n",
        "    inputs = x_train[i:i+30]\n",
        "    labels = y_train[i:i+30]\n",
        "\n",
        "    # Clear gradients\n",
        "    optimizer.zero_grad()\n",
        "\n",
        "    # Forward pass\n",
        "    outputs = model(inputs)\n",
        "\n",
        "    # Calculate loss\n",
        "    loss = criterion(outputs, labels)\n",
        "\n",
        "    # Backward pass and optimize\n",
        "    loss.backward()\n",
        "    optimizer.step()\n",
        "\n",
        "  training_loss.append(loss.data.item())\n",
        "\n",
        "\n",
        "# After training, predict on entire training data\n",
        "predicted_y = model(x_train)"
      ],
      "metadata": {
        "id": "lwBCxumKWKxO"
      },
      "execution_count": null,
      "outputs": []
    },
    {
      "cell_type": "code",
      "source": [
        "def print_size_of_model(model):\n",
        "    torch.save(model.state_dict(), \"temp_delme.p\")\n",
        "    print('Size (KB):', os.path.getsize(\"temp_delme.p\")/1e3)\n",
        "    os.remove('temp_delme.p')"
      ],
      "metadata": {
        "id": "_NgFKRd2x_nQ"
      },
      "execution_count": null,
      "outputs": []
    },
    {
      "cell_type": "code",
      "source": [
        "def test(m: nn.Module, x_data: torch.tensor, y_data: torch.tensor, total_iterations: int = None):\n",
        "    error = 0\n",
        "    m.eval()\n",
        "    if total_iterations:\n",
        "      N = total_iterations\n",
        "    else:\n",
        "      N = len(x_data)\n",
        "\n",
        "    with torch.no_grad():\n",
        "        for i in range(0, len(x_data)):\n",
        "            y_pred = m(x_data[i])\n",
        "            error += (y_data[i].item() - y_pred.item())**2\n",
        "    print(f'Accuracy: {round(error/len(x_data),3)}')"
      ],
      "metadata": {
        "id": "QQ-WeC-WrfKi"
      },
      "execution_count": null,
      "outputs": []
    },
    {
      "cell_type": "code",
      "source": [
        "SKIP = 10\n",
        "epochs = range(1, len(training_loss) + 1)\n",
        "plt.plot(epochs[SKIP:], training_loss[SKIP:], 'b.', label='Training loss')\n",
        "plt.title('Training loss')\n",
        "plt.xlabel('Epochs')\n",
        "plt.ylabel('Loss')\n",
        "plt.legend()\n",
        "plt.show()"
      ],
      "metadata": {
        "id": "vx6SH7sGgxAb",
        "outputId": "abe8124c-4818-4a16-863a-5ea1fabeacc7",
        "colab": {
          "base_uri": "https://localhost:8080/",
          "height": 472
        }
      },
      "execution_count": null,
      "outputs": [
        {
          "output_type": "display_data",
          "data": {
            "text/plain": [
              "<Figure size 640x480 with 1 Axes>"
            ],
            "image/png": "[encoded data removed]"
          },
          "metadata": {}
        }
      ]
    },
    {
      "cell_type": "code",
      "source": [
        "# Prepare data for plotting\n",
        "x_train_np = x_train.squeeze().numpy()  # Convert tensor to numpy array for plotting\n",
        "y_train_np = y_train.squeeze().numpy()\n",
        "predicted_y_np = predicted_y.squeeze().detach().numpy()\n",
        "\n",
        "# Plotting\n",
        "plt.plot(x_train_np, y_train_np, '.b', label='Actual Sine Wave')\n",
        "plt.plot(x_train_np, predicted_y_np, '.r', label='Predicted Sine Wave')\n",
        "plt.xlabel('x')\n",
        "plt.ylabel('y')\n",
        "plt.legend()\n",
        "plt.title('Predicted vs. Actual Sine Wave')\n",
        "plt.grid(True)\n",
        "plt.show()"
      ],
      "metadata": {
        "colab": {
          "base_uri": "https://localhost:8080/",
          "height": 472
        },
        "id": "kHgJyAQXZD2H",
        "outputId": "a6d3935b-c382-45f2-dfa7-99d268d80360"
      },
      "execution_count": null,
      "outputs": [
        {
          "output_type": "display_data",
          "data": {
            "text/plain": [
              "<Figure size 640x480 with 1 Axes>"
            ],
            "image/png": "[encoded data removed]"
          },
          "metadata": {}
        }
      ]
    },
    {
      "cell_type": "code",
      "source": [
        "# Print the weights matrix of the model before quantization\n",
        "print('Weights before quantization')\n",
        "print(model.fc1.weight)\n",
        "print(model.fc1.weight.dtype)"
      ],
      "metadata": {
        "colab": {
          "base_uri": "https://localhost:8080/"
        },
        "id": "jVukKYmSubUL",
        "outputId": "0585fe46-04c6-409c-c715-f50c6063f582"
      },
      "execution_count": null,
      "outputs": [
        {
          "output_type": "stream",
          "name": "stdout",
          "text": [
            "Weights before quantization\n",
            "Parameter containing:\n",
            "tensor([[-0.3115],\n",
            "        [-0.5262],\n",
            "        [-0.0863],\n",
            "        [ 0.7649],\n",
            "        [ 0.3897],\n",
            "        [-0.1687],\n",
            "        [-0.1454],\n",
            "        [ 0.5133],\n",
            "        [ 0.2175],\n",
            "        [ 0.3905],\n",
            "        [-0.2155],\n",
            "        [-0.4784],\n",
            "        [ 0.6830],\n",
            "        [ 0.2397],\n",
            "        [ 0.0755],\n",
            "        [ 0.7202]], requires_grad=True)\n",
            "torch.float32\n"
          ]
        }
      ]
    },
    {
      "cell_type": "code",
      "source": [
        "print('Size of the model before quantization')\n",
        "print_size_of_model(model)"
      ],
      "metadata": {
        "id": "H-PrUT5mygyK",
        "outputId": "7e1917d0-ccc7-4815-a81d-4572e1e7374f",
        "colab": {
          "base_uri": "https://localhost:8080/"
        }
      },
      "execution_count": null,
      "outputs": [
        {
          "output_type": "stream",
          "name": "stdout",
          "text": [
            "Size of the model before quantization\n",
            "Size (KB): 3.942\n"
          ]
        }
      ]
    },
    {
      "cell_type": "code",
      "source": [
        "test(model, x_train, y_train)"
      ],
      "metadata": {
        "colab": {
          "base_uri": "https://localhost:8080/"
        },
        "id": "lfkntcFKtE1h",
        "outputId": "07ee3fe4-aa04-4d5a-85c7-4bc7e5a2c9b7"
      },
      "execution_count": null,
      "outputs": [
        {
          "output_type": "stream",
          "name": "stdout",
          "text": [
            "Accuracy: 0.011\n"
          ]
        }
      ]
    },
    {
      "cell_type": "markdown",
      "source": [
        "We need to quantize the model to optimize for the hardware implementation."
      ],
      "metadata": {
        "id": "ZatX3aHVIsLD"
      }
    },
    {
      "cell_type": "code",
      "source": [
        "# Quantization after training\n",
        "class QuantizedSinePredictor(nn.Sequential):\n",
        "  def __init__(self, input_size, hidden_size, output_size):\n",
        "    super(QuantizedSinePredictor, self).__init__()\n",
        "    self.quant = torch.quantization.QuantStub()\n",
        "    self.fc1 = nn.Linear(input_size, hidden_size)\n",
        "    self.relu = nn.ReLU()\n",
        "    self.fc2 = nn.Linear(hidden_size, hidden_size)\n",
        "    self.fc3 = nn.Linear(hidden_size, output_size)\n",
        "    self.dequant = torch.quantization.DeQuantStub()\n",
        "\n",
        "  def forward(self, x):\n",
        "    x = self.quant(x)\n",
        "    x = self.relu(self.fc1(x))\n",
        "    x = self.relu(self.fc2(x))\n",
        "    x = self.fc3(x)\n",
        "    x = self.dequant(x)\n",
        "    return x"
      ],
      "metadata": {
        "id": "KBqdpPQyIpLp"
      },
      "execution_count": null,
      "outputs": []
    },
    {
      "cell_type": "code",
      "source": [
        "# Prepare for quantization\n",
        "model_quantized = QuantizedSinePredictor (input_size, hidden_size, output_size)\n",
        "\n",
        "# Copy weights from unquantized model\n",
        "model_quantized.load_state_dict(model.state_dict())\n",
        "model_quantized.eval()\n",
        "\n",
        "model_quantized.qconfig = torch.ao.quantization.default_qconfig\n",
        "model_quantized = torch.ao.quantization.prepare(model_quantized) # Insert observers\n",
        "model_quantized"
      ],
      "metadata": {
        "id": "AEkHT4e4vgH2",
        "outputId": "a10be15a-e464-4115-8ffe-d8adbe157aae",
        "colab": {
          "base_uri": "https://localhost:8080/"
        }
      },
      "execution_count": null,
      "outputs": [
        {
          "output_type": "execute_result",
          "data": {
            "text/plain": [
              "QuantizedSinePredictor(\n",
              "  (quant): QuantStub(\n",
              "    (activation_post_process): MinMaxObserver(min_val=inf, max_val=-inf)\n",
              "  )\n",
              "  (fc1): Linear(\n",
              "    in_features=1, out_features=16, bias=True\n",
              "    (activation_post_process): MinMaxObserver(min_val=inf, max_val=-inf)\n",
              "  )\n",
              "  (relu): ReLU()\n",
              "  (fc2): Linear(\n",
              "    in_features=16, out_features=16, bias=True\n",
              "    (activation_post_process): MinMaxObserver(min_val=inf, max_val=-inf)\n",
              "  )\n",
              "  (fc3): Linear(\n",
              "    in_features=16, out_features=1, bias=True\n",
              "    (activation_post_process): MinMaxObserver(min_val=inf, max_val=-inf)\n",
              "  )\n",
              "  (dequant): DeQuantStub()\n",
              ")"
            ]
          },
          "metadata": {},
          "execution_count": 42
        }
      ]
    },
    {
      "cell_type": "code",
      "source": [
        "test(model_quantized, x_train, y_train)"
      ],
      "metadata": {
        "id": "eefivZZYwVxI",
        "outputId": "67cb4f20-02c0-4a18-9992-3560a353c3ba",
        "colab": {
          "base_uri": "https://localhost:8080/"
        }
      },
      "execution_count": null,
      "outputs": [
        {
          "output_type": "stream",
          "name": "stdout",
          "text": [
            "Accuracy: 0.011\n"
          ]
        }
      ]
    },
    {
      "cell_type": "code",
      "source": [
        "print(f'Check statistics of the various layers')\n",
        "model_quantized"
      ],
      "metadata": {
        "id": "i5-CDV0DwlKP",
        "outputId": "97e432a5-25be-4581-e07a-82e3ebe69a05",
        "colab": {
          "base_uri": "https://localhost:8080/"
        }
      },
      "execution_count": null,
      "outputs": [
        {
          "output_type": "stream",
          "name": "stdout",
          "text": [
            "Check statistics of the various layers\n"
          ]
        },
        {
          "output_type": "execute_result",
          "data": {
            "text/plain": [
              "QuantizedSinePredictor(\n",
              "  (quant): QuantStub(\n",
              "    (activation_post_process): MinMaxObserver(min_val=0.005220395512878895, max_val=6.280028343200684)\n",
              "  )\n",
              "  (fc1): Linear(\n",
              "    in_features=1, out_features=16, bias=True\n",
              "    (activation_post_process): MinMaxObserver(min_val=-3.9672317504882812, max_val=4.516186714172363)\n",
              "  )\n",
              "  (relu): ReLU()\n",
              "  (fc2): Linear(\n",
              "    in_features=16, out_features=16, bias=True\n",
              "    (activation_post_process): MinMaxObserver(min_val=-2.61159086227417, max_val=4.8104376792907715)\n",
              "  )\n",
              "  (fc3): Linear(\n",
              "    in_features=16, out_features=1, bias=True\n",
              "    (activation_post_process): MinMaxObserver(min_val=0.23110011219978333, max_val=2.1613247394561768)\n",
              "  )\n",
              "  (dequant): DeQuantStub()\n",
              ")"
            ]
          },
          "metadata": {},
          "execution_count": 44
        }
      ]
    },
    {
      "cell_type": "code",
      "source": [
        "model_quantized = torch.ao.quantization.convert(model_quantized)"
      ],
      "metadata": {
        "id": "sHf4_zy9wvbQ"
      },
      "execution_count": null,
      "outputs": []
    },
    {
      "cell_type": "code",
      "source": [
        "print(f'Check statistics of the various layers')\n",
        "model_quantized"
      ],
      "metadata": {
        "id": "oQLF7hdsw1ne",
        "outputId": "8f2c2b30-5502-42de-91af-f9a2038c504d",
        "colab": {
          "base_uri": "https://localhost:8080/"
        }
      },
      "execution_count": null,
      "outputs": [
        {
          "output_type": "stream",
          "name": "stdout",
          "text": [
            "Check statistics of the various layers\n"
          ]
        },
        {
          "output_type": "execute_result",
          "data": {
            "text/plain": [
              "QuantizedSinePredictor(\n",
              "  (quant): Quantize(scale=tensor([0.0494]), zero_point=tensor([0]), dtype=torch.quint8)\n",
              "  (fc1): QuantizedLinear(in_features=1, out_features=16, scale=0.06679856777191162, zero_point=59, qscheme=torch.per_tensor_affine)\n",
              "  (relu): ReLU()\n",
              "  (fc2): QuantizedLinear(in_features=16, out_features=16, scale=0.0584411695599556, zero_point=45, qscheme=torch.per_tensor_affine)\n",
              "  (fc3): QuantizedLinear(in_features=16, out_features=1, scale=0.017018305137753487, zero_point=0, qscheme=torch.per_tensor_affine)\n",
              "  (dequant): DeQuantize()\n",
              ")"
            ]
          },
          "metadata": {},
          "execution_count": 46
        }
      ]
    },
    {
      "cell_type": "code",
      "source": [
        "# Print the weights matrix of the model after quantization\n",
        "print('Weights after quantization')\n",
        "print(torch.int_repr(model_quantized.fc1.weight()))"
      ],
      "metadata": {
        "id": "-NHDY4EBxCDp",
        "outputId": "bec62151-20cc-4d1e-bf74-72655bc80426",
        "colab": {
          "base_uri": "https://localhost:8080/"
        }
      },
      "execution_count": null,
      "outputs": [
        {
          "output_type": "stream",
          "name": "stdout",
          "text": [
            "Weights after quantization\n",
            "tensor([[-52],\n",
            "        [-88],\n",
            "        [-14],\n",
            "        [127],\n",
            "        [ 65],\n",
            "        [-28],\n",
            "        [-24],\n",
            "        [ 86],\n",
            "        [ 36],\n",
            "        [ 65],\n",
            "        [-36],\n",
            "        [-80],\n",
            "        [114],\n",
            "        [ 40],\n",
            "        [ 13],\n",
            "        [120]], dtype=torch.int8)\n"
          ]
        }
      ]
    },
    {
      "cell_type": "code",
      "source": [
        "print('Original weights: ')\n",
        "print(model.fc1.weight)\n",
        "print('')\n",
        "print(f'Dequantized weights: ')\n",
        "print(torch.dequantize(model_quantized.fc1.weight()))\n",
        "print('')"
      ],
      "metadata": {
        "id": "3fR06VvExYKA",
        "outputId": "95385293-6b15-4fe9-e584-b255e44620cb",
        "colab": {
          "base_uri": "https://localhost:8080/"
        }
      },
      "execution_count": null,
      "outputs": [
        {
          "output_type": "stream",
          "name": "stdout",
          "text": [
            "Original weights: \n",
            "Parameter containing:\n",
            "tensor([[-0.3115],\n",
            "        [-0.5262],\n",
            "        [-0.0863],\n",
            "        [ 0.7649],\n",
            "        [ 0.3897],\n",
            "        [-0.1687],\n",
            "        [-0.1454],\n",
            "        [ 0.5133],\n",
            "        [ 0.2175],\n",
            "        [ 0.3905],\n",
            "        [-0.2155],\n",
            "        [-0.4784],\n",
            "        [ 0.6830],\n",
            "        [ 0.2397],\n",
            "        [ 0.0755],\n",
            "        [ 0.7202]], requires_grad=True)\n",
            "\n",
            "Dequantized weights: \n",
            "tensor([[-0.3119],\n",
            "        [-0.5279],\n",
            "        [-0.0840],\n",
            "        [ 0.7619],\n",
            "        [ 0.3899],\n",
            "        [-0.1680],\n",
            "        [-0.1440],\n",
            "        [ 0.5159],\n",
            "        [ 0.2160],\n",
            "        [ 0.3899],\n",
            "        [-0.2160],\n",
            "        [-0.4799],\n",
            "        [ 0.6839],\n",
            "        [ 0.2400],\n",
            "        [ 0.0780],\n",
            "        [ 0.7199]])\n",
            "\n"
          ]
        }
      ]
    },
    {
      "cell_type": "code",
      "source": [
        "print('Size of the model after quantization')\n",
        "print_size_of_model(model_quantized)"
      ],
      "metadata": {
        "id": "MDiP2C9zxlmm",
        "outputId": "8215a7a9-8584-48c4-871b-4997981a9a48",
        "colab": {
          "base_uri": "https://localhost:8080/"
        }
      },
      "execution_count": null,
      "outputs": [
        {
          "output_type": "stream",
          "name": "stdout",
          "text": [
            "Size of the model after quantization\n",
            "Size (KB): 5.538\n"
          ]
        }
      ]
    },
    {
      "cell_type": "code",
      "source": [
        "print(y_train)"
      ],
      "metadata": {
        "colab": {
          "base_uri": "https://localhost:8080/"
        },
        "id": "48yZ6gYtOKsA",
        "outputId": "f8d4e259-a641-4c44-acd5-9a6e69f3bf09"
      },
      "execution_count": null,
      "outputs": [
        {
          "output_type": "stream",
          "name": "stdout",
          "text": [
            "tensor([[0.6269],\n",
            "        [2.1399],\n",
            "        [1.2970],\n",
            "        [1.7595],\n",
            "        [1.9234],\n",
            "        [1.6982],\n",
            "        [1.5603],\n",
            "        [2.0542],\n",
            "        [2.3460],\n",
            "        [0.5350],\n",
            "        [1.3673],\n",
            "        [0.2164],\n",
            "        [0.4950],\n",
            "        [0.2686],\n",
            "        [0.3788],\n",
            "        [2.2477],\n",
            "        [1.7689],\n",
            "        [1.9018],\n",
            "        [1.9731],\n",
            "        [1.7269],\n",
            "        [0.3286],\n",
            "        [0.7008],\n",
            "        [1.4858],\n",
            "        [2.0366],\n",
            "        [0.3961],\n",
            "        [0.6090],\n",
            "        [1.0289],\n",
            "        [1.5656],\n",
            "        [0.3055],\n",
            "        [2.0438],\n",
            "        [1.9572],\n",
            "        [2.0096],\n",
            "        [1.4821],\n",
            "        [0.2263],\n",
            "        [1.8033],\n",
            "        [2.1068],\n",
            "        [1.5735],\n",
            "        [2.1706],\n",
            "        [0.1478],\n",
            "        [0.2907],\n",
            "        [0.3380],\n",
            "        [0.2462],\n",
            "        [1.7311],\n",
            "        [1.9276],\n",
            "        [0.3842],\n",
            "        [0.6197],\n",
            "        [1.9803],\n",
            "        [1.0615],\n",
            "        [0.9092],\n",
            "        [0.8608],\n",
            "        [0.4297],\n",
            "        [1.2727],\n",
            "        [0.3084],\n",
            "        [0.2280],\n",
            "        [1.7767],\n",
            "        [1.6694],\n",
            "        [0.3037],\n",
            "        [2.0456],\n",
            "        [0.6204],\n",
            "        [0.2555],\n",
            "        [1.6786],\n",
            "        [2.1867],\n",
            "        [1.9969],\n",
            "        [1.6890],\n",
            "        [2.2768],\n",
            "        [0.8053],\n",
            "        [1.3324],\n",
            "        [0.0914],\n",
            "        [1.6449],\n",
            "        [2.3771],\n",
            "        [2.1856],\n",
            "        [0.7024],\n",
            "        [0.9951],\n",
            "        [1.5722],\n",
            "        [0.2066],\n",
            "        [0.7809],\n",
            "        [1.2359],\n",
            "        [1.2118],\n",
            "        [2.0801],\n",
            "        [0.5346],\n",
            "        [0.5878],\n",
            "        [0.8005],\n",
            "        [2.0795],\n",
            "        [1.9257],\n",
            "        [0.5364],\n",
            "        [1.4824],\n",
            "        [2.2216],\n",
            "        [0.7152],\n",
            "        [1.2153],\n",
            "        [2.0028],\n",
            "        [2.0256],\n",
            "        [0.2802],\n",
            "        [2.0490],\n",
            "        [1.4846],\n",
            "        [2.1217],\n",
            "        [1.9611],\n",
            "        [1.8539],\n",
            "        [1.4101],\n",
            "        [0.4058],\n",
            "        [0.2379],\n",
            "        [1.0869],\n",
            "        [0.0147],\n",
            "        [1.7976],\n",
            "        [1.8605],\n",
            "        [2.1328],\n",
            "        [2.0200],\n",
            "        [1.7060],\n",
            "        [0.5207],\n",
            "        [2.1366],\n",
            "        [0.1927],\n",
            "        [0.2624],\n",
            "        [1.3213],\n",
            "        [1.4559],\n",
            "        [0.3858],\n",
            "        [2.0623],\n",
            "        [0.2074],\n",
            "        [1.9433],\n",
            "        [1.1446],\n",
            "        [1.5025],\n",
            "        [2.0130],\n",
            "        [2.2498],\n",
            "        [0.7357],\n",
            "        [1.7656],\n",
            "        [0.9388],\n",
            "        [0.2528],\n",
            "        [1.7584],\n",
            "        [1.8065],\n",
            "        [1.9272],\n",
            "        [0.7925],\n",
            "        [2.1676],\n",
            "        [1.8808],\n",
            "        [1.6931],\n",
            "        [2.2034],\n",
            "        [2.3041],\n",
            "        [1.0249],\n",
            "        [2.0792],\n",
            "        [0.7079],\n",
            "        [1.6536],\n",
            "        [0.5383],\n",
            "        [2.0279],\n",
            "        [1.8949],\n",
            "        [2.0779],\n",
            "        [0.5718],\n",
            "        [1.0935],\n",
            "        [1.9817],\n",
            "        [1.8753],\n",
            "        [1.6890],\n",
            "        [0.3838],\n",
            "        [0.7813],\n",
            "        [1.0759],\n",
            "        [0.2652],\n",
            "        [0.5084],\n",
            "        [2.1461],\n",
            "        [0.4721],\n",
            "        [0.5554],\n",
            "        [0.5202],\n",
            "        [0.3975],\n",
            "        [1.5798],\n",
            "        [1.0435],\n",
            "        [0.1942],\n",
            "        [1.5476],\n",
            "        [0.1012],\n",
            "        [2.0973],\n",
            "        [0.4037],\n",
            "        [0.9032],\n",
            "        [1.1217],\n",
            "        [1.0902],\n",
            "        [2.2575],\n",
            "        [1.6030],\n",
            "        [2.3525],\n",
            "        [2.0225],\n",
            "        [2.2003],\n",
            "        [1.0868],\n",
            "        [1.6683],\n",
            "        [0.3681],\n",
            "        [1.0309],\n",
            "        [0.6686],\n",
            "        [2.1041],\n",
            "        [1.8528],\n",
            "        [0.8981],\n",
            "        [2.0147],\n",
            "        [0.4916],\n",
            "        [0.9168],\n",
            "        [1.5186],\n",
            "        [1.5722],\n",
            "        [1.0712],\n",
            "        [1.1588],\n",
            "        [1.2517],\n",
            "        [1.7374],\n",
            "        [1.7800],\n",
            "        [0.4360],\n",
            "        [1.4143],\n",
            "        [0.1096],\n",
            "        [0.2547],\n",
            "        [1.4140],\n",
            "        [0.9617],\n",
            "        [0.9173],\n",
            "        [1.4765],\n",
            "        [0.2957],\n",
            "        [1.6900],\n",
            "        [2.2350],\n",
            "        [0.6327],\n",
            "        [0.6550],\n",
            "        [2.1174],\n",
            "        [1.8542],\n",
            "        [1.8303],\n",
            "        [0.2948],\n",
            "        [1.9657],\n",
            "        [1.7025],\n",
            "        [0.4515],\n",
            "        [1.8093],\n",
            "        [0.7489],\n",
            "        [1.8086],\n",
            "        [1.8703],\n",
            "        [0.4970],\n",
            "        [0.2406],\n",
            "        [1.5183],\n",
            "        [1.4143],\n",
            "        [2.2346],\n",
            "        [1.3993],\n",
            "        [1.3251],\n",
            "        [0.7295],\n",
            "        [1.1880],\n",
            "        [0.2065],\n",
            "        [0.1515],\n",
            "        [2.0000],\n",
            "        [1.4083],\n",
            "        [0.2378],\n",
            "        [1.9656],\n",
            "        [0.6446],\n",
            "        [2.0780],\n",
            "        [2.3192],\n",
            "        [0.3471],\n",
            "        [0.5011],\n",
            "        [1.1718],\n",
            "        [1.3106],\n",
            "        [0.4141],\n",
            "        [0.1362],\n",
            "        [1.6858],\n",
            "        [2.1704],\n",
            "        [0.0932],\n",
            "        [0.1229],\n",
            "        [1.6267],\n",
            "        [0.2634],\n",
            "        [1.9516],\n",
            "        [0.7692],\n",
            "        [0.6566],\n",
            "        [0.4824],\n",
            "        [0.7296],\n",
            "        [2.0067],\n",
            "        [0.6867],\n",
            "        [1.2667],\n",
            "        [0.7062],\n",
            "        [1.3568],\n",
            "        [1.5129],\n",
            "        [0.3991],\n",
            "        [0.4929],\n",
            "        [1.6119],\n",
            "        [0.1477],\n",
            "        [0.6291],\n",
            "        [0.3100],\n",
            "        [1.7326],\n",
            "        [0.0860],\n",
            "        [2.0365],\n",
            "        [2.0126],\n",
            "        [1.9451],\n",
            "        [0.1387],\n",
            "        [0.5584],\n",
            "        [0.5287],\n",
            "        [0.4903],\n",
            "        [0.8336],\n",
            "        [0.3346],\n",
            "        [1.1232],\n",
            "        [1.8322],\n",
            "        [1.6685],\n",
            "        [1.5207],\n",
            "        [2.1022],\n",
            "        [0.9868],\n",
            "        [2.0850],\n",
            "        [2.0159],\n",
            "        [1.8080],\n",
            "        [1.8142],\n",
            "        [2.1642],\n",
            "        [0.3376],\n",
            "        [2.0962],\n",
            "        [0.3804],\n",
            "        [0.2074],\n",
            "        [0.3531],\n",
            "        [1.1094],\n",
            "        [0.1708],\n",
            "        [2.0046],\n",
            "        [0.4205],\n",
            "        [1.4794],\n",
            "        [1.6634],\n",
            "        [2.0655],\n",
            "        [0.4639],\n",
            "        [1.2464],\n",
            "        [2.1110],\n",
            "        [0.7704],\n",
            "        [0.2135],\n",
            "        [0.3259],\n",
            "        [0.7485],\n",
            "        [2.0857],\n",
            "        [2.1667],\n",
            "        [2.2608],\n",
            "        [2.1622],\n",
            "        [0.6555],\n",
            "        [2.0417],\n",
            "        [0.8021],\n",
            "        [0.8276],\n",
            "        [1.9976],\n",
            "        [0.1599],\n",
            "        [0.1380],\n",
            "        [2.2349],\n",
            "        [1.7063],\n",
            "        [0.8996],\n",
            "        [0.2072],\n",
            "        [0.5284],\n",
            "        [1.8907],\n",
            "        [2.2050],\n",
            "        [0.2721],\n",
            "        [1.4923],\n",
            "        [0.0823],\n",
            "        [0.0732],\n",
            "        [0.2023],\n",
            "        [1.9886],\n",
            "        [1.2297],\n",
            "        [1.4845],\n",
            "        [1.3863],\n",
            "        [0.8006],\n",
            "        [2.0889],\n",
            "        [0.2651],\n",
            "        [1.6185],\n",
            "        [0.3793],\n",
            "        [0.6701],\n",
            "        [0.7734],\n",
            "        [0.7946],\n",
            "        [2.1278],\n",
            "        [1.6346],\n",
            "        [0.2833],\n",
            "        [1.8896],\n",
            "        [1.0893],\n",
            "        [1.4933],\n",
            "        [1.2625],\n",
            "        [1.2167],\n",
            "        [1.2539],\n",
            "        [1.0871],\n",
            "        [2.0037],\n",
            "        [1.2853],\n",
            "        [0.2098],\n",
            "        [0.2986],\n",
            "        [2.2571],\n",
            "        [0.2462],\n",
            "        [0.2117],\n",
            "        [0.2134],\n",
            "        [0.6272],\n",
            "        [1.6362],\n",
            "        [2.3445],\n",
            "        [0.2906],\n",
            "        [0.0836],\n",
            "        [0.3386],\n",
            "        [2.1497],\n",
            "        [0.3730],\n",
            "        [0.5470],\n",
            "        [2.2230],\n",
            "        [0.4613],\n",
            "        [1.6951],\n",
            "        [1.1609],\n",
            "        [1.2841],\n",
            "        [0.2202],\n",
            "        [0.2137],\n",
            "        [0.9901],\n",
            "        [1.7063],\n",
            "        [0.5618],\n",
            "        [2.1932],\n",
            "        [2.1460],\n",
            "        [1.8380],\n",
            "        [0.5563],\n",
            "        [0.1418],\n",
            "        [0.4642],\n",
            "        [0.2539],\n",
            "        [1.0876],\n",
            "        [1.5027],\n",
            "        [0.6533],\n",
            "        [0.1011],\n",
            "        [0.1519],\n",
            "        [1.6455],\n",
            "        [0.3549],\n",
            "        [0.1778],\n",
            "        [0.2709],\n",
            "        [0.5184],\n",
            "        [1.3977],\n",
            "        [0.7975],\n",
            "        [0.3583],\n",
            "        [2.0789],\n",
            "        [0.2821],\n",
            "        [1.7332],\n",
            "        [0.7702],\n",
            "        [0.7061],\n",
            "        [1.0334],\n",
            "        [0.7399],\n",
            "        [1.6122],\n",
            "        [1.9517],\n",
            "        [0.4546],\n",
            "        [0.2686],\n",
            "        [0.1904],\n",
            "        [1.2078],\n",
            "        [0.4964],\n",
            "        [0.1293],\n",
            "        [1.0739],\n",
            "        [0.4126],\n",
            "        [0.6357],\n",
            "        [0.6708],\n",
            "        [0.9235],\n",
            "        [1.9199],\n",
            "        [1.6089],\n",
            "        [1.0532],\n",
            "        [1.5001],\n",
            "        [0.4675],\n",
            "        [0.6611],\n",
            "        [0.2308],\n",
            "        [0.8449],\n",
            "        [0.3219],\n",
            "        [2.0898],\n",
            "        [1.3343],\n",
            "        [1.8832],\n",
            "        [2.1646],\n",
            "        [1.6757],\n",
            "        [0.8862],\n",
            "        [0.4283],\n",
            "        [1.4256],\n",
            "        [1.9445],\n",
            "        [1.1104],\n",
            "        [0.4366],\n",
            "        [1.9614],\n",
            "        [2.1656],\n",
            "        [1.9307],\n",
            "        [1.3938],\n",
            "        [1.3843],\n",
            "        [1.3432],\n",
            "        [0.6802],\n",
            "        [0.2261],\n",
            "        [1.6368],\n",
            "        [0.7151],\n",
            "        [1.1724],\n",
            "        [0.5350],\n",
            "        [2.2593],\n",
            "        [1.0495],\n",
            "        [2.0004],\n",
            "        [0.5457],\n",
            "        [0.3107],\n",
            "        [2.0255],\n",
            "        [0.7936],\n",
            "        [1.9389],\n",
            "        [1.8737],\n",
            "        [1.5620],\n",
            "        [2.2814],\n",
            "        [1.6304],\n",
            "        [0.7424],\n",
            "        [1.7451],\n",
            "        [0.5830],\n",
            "        [1.0791],\n",
            "        [1.8484],\n",
            "        [1.9315],\n",
            "        [0.3753],\n",
            "        [1.6654],\n",
            "        [2.1706],\n",
            "        [1.4906],\n",
            "        [2.2470],\n",
            "        [1.2807],\n",
            "        [1.0075],\n",
            "        [2.2626],\n",
            "        [2.1151],\n",
            "        [1.2103],\n",
            "        [0.8573],\n",
            "        [0.6917],\n",
            "        [2.1790],\n",
            "        [0.2913],\n",
            "        [1.7742],\n",
            "        [1.8081],\n",
            "        [0.3352],\n",
            "        [1.7284],\n",
            "        [0.1894],\n",
            "        [1.0526],\n",
            "        [0.1174],\n",
            "        [1.4418],\n",
            "        [1.9574],\n",
            "        [2.3458],\n",
            "        [0.9368],\n",
            "        [1.4796],\n",
            "        [0.1730],\n",
            "        [2.0759],\n",
            "        [0.7305],\n",
            "        [0.0613],\n",
            "        [0.9240],\n",
            "        [2.0009],\n",
            "        [1.5255],\n",
            "        [2.1146],\n",
            "        [0.9833],\n",
            "        [1.4313],\n",
            "        [0.2691],\n",
            "        [1.6850],\n",
            "        [1.1344],\n",
            "        [0.2855],\n",
            "        [0.1877],\n",
            "        [0.6141],\n",
            "        [1.4960],\n",
            "        [2.2817],\n",
            "        [0.2711],\n",
            "        [0.9051],\n",
            "        [0.2419],\n",
            "        [2.2445],\n",
            "        [1.0443],\n",
            "        [1.9576],\n",
            "        [2.1073],\n",
            "        [1.1820],\n",
            "        [0.8517],\n",
            "        [1.2006],\n",
            "        [2.0861],\n",
            "        [0.7702],\n",
            "        [1.0838],\n",
            "        [0.4349],\n",
            "        [1.2170],\n",
            "        [0.3021],\n",
            "        [2.0046],\n",
            "        [1.1742],\n",
            "        [2.0798],\n",
            "        [2.2516],\n",
            "        [0.2452],\n",
            "        [1.0366],\n",
            "        [0.2020],\n",
            "        [1.1908],\n",
            "        [0.7110],\n",
            "        [0.2972],\n",
            "        [1.7126],\n",
            "        [0.4506],\n",
            "        [1.6111],\n",
            "        [0.6553],\n",
            "        [1.6955],\n",
            "        [1.7400],\n",
            "        [1.1103],\n",
            "        [1.9737],\n",
            "        [1.2784],\n",
            "        [1.1366],\n",
            "        [0.3107],\n",
            "        [1.6030],\n",
            "        [1.1178],\n",
            "        [2.1463],\n",
            "        [0.2977],\n",
            "        [0.5066],\n",
            "        [2.1934],\n",
            "        [0.0688],\n",
            "        [0.4002],\n",
            "        [0.5117],\n",
            "        [0.9427],\n",
            "        [0.4290],\n",
            "        [1.0505],\n",
            "        [1.2224],\n",
            "        [0.3510],\n",
            "        [1.8668],\n",
            "        [2.2049],\n",
            "        [1.7476],\n",
            "        [2.1822],\n",
            "        [2.2669],\n",
            "        [0.1722],\n",
            "        [2.0091],\n",
            "        [0.6419],\n",
            "        [0.3683],\n",
            "        [0.2430],\n",
            "        [1.5743],\n",
            "        [0.7522],\n",
            "        [2.1367],\n",
            "        [0.1248],\n",
            "        [2.2179],\n",
            "        [0.3234],\n",
            "        [2.0112],\n",
            "        [1.8707],\n",
            "        [0.5557],\n",
            "        [1.3358],\n",
            "        [1.2455],\n",
            "        [0.1829],\n",
            "        [1.9404],\n",
            "        [1.4550],\n",
            "        [0.7495],\n",
            "        [1.8222],\n",
            "        [1.6059],\n",
            "        [2.2085],\n",
            "        [0.5221],\n",
            "        [1.2913],\n",
            "        [2.2195],\n",
            "        [2.0295],\n",
            "        [1.4652],\n",
            "        [0.9287],\n",
            "        [0.4135],\n",
            "        [1.8472],\n",
            "        [2.0591],\n",
            "        [1.8839],\n",
            "        [1.5674],\n",
            "        [1.3694],\n",
            "        [2.1694]])\n"
          ]
        }
      ]
    },
    {
      "cell_type": "code",
      "source": [
        "def test_quant(m: nn.Module, x_data: torch.tensor, y_data: torch.tensor, total_iterations: int = None):\n",
        "    error = 0\n",
        "    m.eval()\n",
        "    if total_iterations:\n",
        "      N = total_iterations\n",
        "    else:\n",
        "      N = len(x_data)\n",
        "\n",
        "    y_pred = m(x_data)\n",
        "    with torch.no_grad():\n",
        "        for i in range(0, len(x_data)):\n",
        "            error += (y_data[i].item() - y_pred[i].item())**2\n",
        "    print(f'Accuracy: {round(error/len(x_data),3)}')"
      ],
      "metadata": {
        "id": "8uXKflPvL6ec"
      },
      "execution_count": null,
      "outputs": []
    },
    {
      "cell_type": "code",
      "source": [
        "print('Testing the model after quantization')\n",
        "test_quant(model_quantized, x_train, y_train)"
      ],
      "metadata": {
        "id": "RZdTPj_Zy1sk",
        "outputId": "c1a4aaa3-b91e-45f1-b53a-63b398a31615",
        "colab": {
          "base_uri": "https://localhost:8080/"
        }
      },
      "execution_count": null,
      "outputs": [
        {
          "output_type": "stream",
          "name": "stdout",
          "text": [
            "Testing the model after quantization\n",
            "Accuracy: 0.013\n"
          ]
        }
      ]
    },
    {
      "cell_type": "code",
      "source": [
        "model(torch.tensor([5.0]))"
      ],
      "metadata": {
        "id": "zoJAtNYS-J9_",
        "outputId": "8c28f248-dbb7-4b36-e531-39d02e53e48f",
        "colab": {
          "base_uri": "https://localhost:8080/"
        }
      },
      "execution_count": null,
      "outputs": [
        {
          "output_type": "execute_result",
          "data": {
            "text/plain": [
              "tensor([0.2452], grad_fn=<ViewBackward0>)"
            ]
          },
          "metadata": {},
          "execution_count": 31
        }
      ]
    },
    {
      "cell_type": "markdown",
      "source": [
        "Plot the predicted data from the quantized model"
      ],
      "metadata": {
        "id": "pEEiDp2yb0j_"
      }
    },
    {
      "cell_type": "code",
      "source": [
        "# Prepare data for plotting\n",
        "predicted_y_q = model_quantized(y_train)\n",
        "predicted_y_q_np = predicted_y_q.squeeze().detach().numpy()\n",
        "\n",
        "# Plotting\n",
        "plt.plot(x_train_np, y_train_np, '.b', label='Actual Sine Wave')\n",
        "plt.plot(x_train_np, predicted_y_q_np, '.r', label='Predicted Sine Wave')\n",
        "plt.xlabel('x')\n",
        "plt.ylabel('y')\n",
        "plt.legend()\n",
        "plt.title('Predicted vs. Actual Sine Wave')\n",
        "plt.grid(True)\n",
        "plt.show()"
      ],
      "metadata": {
        "id": "fP05wRqkbkDw",
        "outputId": "425b1d1e-015d-42fc-8a84-70a5b1f08a2f",
        "colab": {
          "base_uri": "https://localhost:8080/",
          "height": 472
        }
      },
      "execution_count": null,
      "outputs": [
        {
          "output_type": "display_data",
          "data": {
            "text/plain": [
              "<Figure size 640x480 with 1 Axes>"
            ],
            "image/png": "[encoded data removed]"
          },
          "metadata": {}
        }
      ]
    },
    {
      "cell_type": "markdown",
      "source": [
        "Not sure how this next step works, but it is what converts the model to Verilog."
      ],
      "metadata": {
        "id": "-0rcdaMBoXaB"
      }
    },
    {
      "cell_type": "code",
      "source": [
        "model_converter = Model(model_quantized)\n",
        "model_converter.parse_layers()\n",
        "model_converter.forward_range([[1.0, 100.0]])"
      ],
      "metadata": {
        "id": "ZY1JoAO7MtMx",
        "colab": {
          "base_uri": "https://localhost:8080/",
          "height": 305
        },
        "outputId": "ef2c528f-214a-45f3-817b-bd2522bafa2d"
      },
      "execution_count": null,
      "outputs": [
        {
          "output_type": "error",
          "ename": "ValueError",
          "evalue": "Unknown layer type Quantize(scale=tensor([0.0494]), zero_point=tensor([0]), dtype=torch.quint8)",
          "traceback": [
            "\u001b[0;31m---------------------------------------------------------------------------\u001b[0m",
            "\u001b[0;31mValueError\u001b[0m                                Traceback (most recent call last)",
            "\u001b[0;32m<ipython-input-59-2574305576e4>\u001b[0m in \u001b[0;36m<cell line: 2>\u001b[0;34m()\u001b[0m\n\u001b[1;32m      1\u001b[0m \u001b[0mmodel_converter\u001b[0m \u001b[0;34m=\u001b[0m \u001b[0mModel\u001b[0m\u001b[0;34m(\u001b[0m\u001b[0mmodel_quantized\u001b[0m\u001b[0;34m)\u001b[0m\u001b[0;34m\u001b[0m\u001b[0;34m\u001b[0m\u001b[0m\n\u001b[0;32m----> 2\u001b[0;31m \u001b[0mmodel_converter\u001b[0m\u001b[0;34m.\u001b[0m\u001b[0mparse_layers\u001b[0m\u001b[0;34m(\u001b[0m\u001b[0;34m)\u001b[0m\u001b[0;34m\u001b[0m\u001b[0;34m\u001b[0m\u001b[0m\n\u001b[0m\u001b[1;32m      3\u001b[0m \u001b[0mmodel_converter\u001b[0m\u001b[0;34m.\u001b[0m\u001b[0mforward_range\u001b[0m\u001b[0;34m(\u001b[0m\u001b[0;34m[\u001b[0m\u001b[0;34m[\u001b[0m\u001b[0;36m1.0\u001b[0m\u001b[0;34m,\u001b[0m \u001b[0;36m100.0\u001b[0m\u001b[0;34m]\u001b[0m\u001b[0;34m]\u001b[0m\u001b[0;34m)\u001b[0m\u001b[0;34m\u001b[0m\u001b[0;34m\u001b[0m\u001b[0m\n",
            "\u001b[0;32m/content/chipon/main.py\u001b[0m in \u001b[0;36mparse_layers\u001b[0;34m(self)\u001b[0m\n\u001b[1;32m     24\u001b[0m                 \u001b[0mself\u001b[0m\u001b[0;34m.\u001b[0m\u001b[0mlayers\u001b[0m\u001b[0;34m.\u001b[0m\u001b[0mappend\u001b[0m\u001b[0;34m(\u001b[0m\u001b[0mlayers\u001b[0m\u001b[0;34m.\u001b[0m\u001b[0mReLU\u001b[0m\u001b[0;34m(\u001b[0m\u001b[0mself\u001b[0m\u001b[0;34m.\u001b[0m\u001b[0mmodel\u001b[0m\u001b[0;34m[\u001b[0m\u001b[0mi\u001b[0m \u001b[0;34m-\u001b[0m \u001b[0;36m1\u001b[0m\u001b[0;34m]\u001b[0m\u001b[0;34m.\u001b[0m\u001b[0mout_features\u001b[0m\u001b[0;34m,\u001b[0m \u001b[0mi\u001b[0m\u001b[0;34m)\u001b[0m\u001b[0;34m)\u001b[0m\u001b[0;34m\u001b[0m\u001b[0;34m\u001b[0m\u001b[0m\n\u001b[1;32m     25\u001b[0m             \u001b[0;32melse\u001b[0m\u001b[0;34m:\u001b[0m\u001b[0;34m\u001b[0m\u001b[0;34m\u001b[0m\u001b[0m\n\u001b[0;32m---> 26\u001b[0;31m                 \u001b[0;32mraise\u001b[0m \u001b[0mValueError\u001b[0m\u001b[0;34m(\u001b[0m\u001b[0;34mf'Unknown layer type {layer}'\u001b[0m\u001b[0;34m)\u001b[0m\u001b[0;34m\u001b[0m\u001b[0;34m\u001b[0m\u001b[0m\n\u001b[0m\u001b[1;32m     27\u001b[0m \u001b[0;34m\u001b[0m\u001b[0m\n\u001b[1;32m     28\u001b[0m     \u001b[0;32mdef\u001b[0m \u001b[0mforward_range\u001b[0m\u001b[0;34m(\u001b[0m\u001b[0mself\u001b[0m\u001b[0;34m,\u001b[0m \u001b[0mranges\u001b[0m\u001b[0;34m:\u001b[0m \u001b[0mList\u001b[0m\u001b[0;34m[\u001b[0m\u001b[0mList\u001b[0m\u001b[0;34m[\u001b[0m\u001b[0mfloat\u001b[0m\u001b[0;34m]\u001b[0m\u001b[0;34m]\u001b[0m\u001b[0;34m)\u001b[0m\u001b[0;34m:\u001b[0m\u001b[0;34m\u001b[0m\u001b[0;34m\u001b[0m\u001b[0m\n",
            "\u001b[0;31mValueError\u001b[0m: Unknown layer type Quantize(scale=tensor([0.0494]), zero_point=tensor([0]), dtype=torch.quint8)"
          ]
        }
      ]
    },
    {
      "cell_type": "code",
      "source": [
        "print(model_converter)\n",
        "verilog = model_converter.emit()"
      ],
      "metadata": {
        "id": "Z3-XTl5kM7P4"
      },
      "execution_count": null,
      "outputs": []
    },
    {
      "cell_type": "code",
      "source": [
        "print(verilog)"
      ],
      "metadata": {
        "id": "IulboYgfNTKv"
      },
      "execution_count": null,
      "outputs": []
    },
    {
      "cell_type": "markdown",
      "source": [
        "Generate the test bench"
      ],
      "metadata": {
        "id": "NYrvQoLzgLRI"
      }
    },
    {
      "cell_type": "code",
      "source": [
        "verilog_tb = model_converter.emit_test_bench()\n",
        "print(verilog_tb)"
      ],
      "metadata": {
        "id": "6NwCG_bRfSqH"
      },
      "execution_count": null,
      "outputs": []
    },
    {
      "cell_type": "markdown",
      "source": [
        "The next steps saves the verilog module and the testbench to a file."
      ],
      "metadata": {
        "id": "-icXArIAoh4H"
      }
    },
    {
      "cell_type": "code",
      "source": [
        "with open('test.v', 'w') as f:\n",
        "    f.write(verilog)\n",
        "\n",
        "with open('test_tb.v', 'w') as f:\n",
        "    f.write(verilog_tb)"
      ],
      "metadata": {
        "id": "vQDQWSSkNFHa"
      },
      "execution_count": null,
      "outputs": []
    },
    {
      "cell_type": "markdown",
      "metadata": {
        "id": "4-o4w9vpPHZz"
      },
      "source": [
        "## References\n",
        "- [The Hello World of Deep Learning with Neural Networks](https://github.com/lmoroney/dlaicourse/blob/master/Course%201%20-%20Part%202%20-%20Lesson%202%20-%20Notebook.ipynb)\n",
        "- [A Simple Neural Network from Scratch with PyTorch and Google Colab](https://medium.com/dair-ai/a-simple-neural-network-from-scratch-with-pytorch-and-google-colab-c7f3830618e0?source=collection_category---4------1-----------------------)\n",
        "- [PyTorch Official Docs](https://pytorch.org/docs/stable/nn.html)\n",
        "- [PyTorch 1.2 Quickstart with Google Colab](https://medium.com/dair-ai/pytorch-1-2-quickstart-with-google-colab-6690a30c38d)\n",
        "- [A Gentle Intoduction to PyTorch](https://medium.com/dair-ai/pytorch-1-2-introduction-guide-f6fa9bb7597c)"
      ]
    },
    {
      "cell_type": "code",
      "source": [],
      "metadata": {
        "id": "_vYe8qvT5M_2"
      },
      "execution_count": null,
      "outputs": []
    }
  ]
}