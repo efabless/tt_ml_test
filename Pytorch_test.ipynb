{
  "nbformat": 4,
  "nbformat_minor": 0,
  "metadata": {
    "colab": {
      "provenance": [],
      "include_colab_link": true
    },
    "kernelspec": {
      "name": "python3",
      "display_name": "Python 3"
    }
  },
  "cells": [
    {
      "cell_type": "markdown",
      "metadata": {
        "id": "view-in-github",
        "colab_type": "text"
      },
      "source": [
        "<a href=\"https://colab.research.google.com/github/jeffdi/tt_ml_test/blob/main/Pytorch_test.ipynb\" target=\"_parent\"><img src=\"https://colab.research.google.com/assets/colab-badge.svg\" alt=\"Open In Colab\"/></a>"
      ]
    },
    {
      "cell_type": "markdown",
      "metadata": {
        "id": "H7gQFbUxOQtb"
      },
      "source": [
        "# An example implementation of a simple neural network using PyTorch and Tiny Tapeout\n",
        "\n",
        "In this notebook, we are going to train a simple neural network using PyTorch and implement it in silicon using Tiny Tapeout.\n",
        "\n",
        "This example reimplements the Hello World example presented in Chapter 4 of the TinyML book by Pat Warden.\n",
        "\n",
        "https://www.oreilly.com/library/view/tinyml/9781492052036/ch04.html\n",
        "\n",
        "---\n",
        "\n",
        "**Author:** TBD"
      ]
    },
    {
      "cell_type": "markdown",
      "metadata": {
        "id": "CkzttrQCwaSQ"
      },
      "source": [
        "## Importing dependencies\n",
        "\n",
        "In addition to PyTorch, we are going to use a Github project for converting a neural network model to Verilog.  \n",
        "\n",
        "https://github.com/rohittp0/chipon/tree/master\n",
        "\n"
      ]
    },
    {
      "cell_type": "code",
      "source": [
        "!git clone https://github.com/rohittp0/chipon\n",
        "%cd chipon/"
      ],
      "metadata": {
        "id": "KvsqqoLTBj3d",
        "colab": {
          "base_uri": "https://localhost:8080/"
        },
        "outputId": "3aefac8b-85a9-4983-d872-6838ff26fb7d"
      },
      "execution_count": 2,
      "outputs": [
        {
          "output_type": "stream",
          "name": "stdout",
          "text": [
            "Cloning into 'chipon'...\n",
            "remote: Enumerating objects: 40, done.\u001b[K\n",
            "remote: Counting objects: 100% (9/9), done.\u001b[K\n",
            "remote: Compressing objects: 100% (8/8), done.\u001b[K\n",
            "remote: Total 40 (delta 1), reused 4 (delta 1), pack-reused 31\u001b[K\n",
            "Receiving objects: 100% (40/40), 45.40 MiB | 24.90 MiB/s, done.\n",
            "Resolving deltas: 100% (8/8), done.\n",
            "/content/chipon\n"
          ]
        }
      ]
    },
    {
      "cell_type": "code",
      "metadata": {
        "id": "FuhJIaeXO2W9",
        "outputId": "1c9b355b-a266-421b-840a-45c788ab07ea",
        "colab": {
          "base_uri": "https://localhost:8080/"
        }
      },
      "source": [
        "import torch\n",
        "from torch import nn\n",
        "\n",
        "import numpy as np\n",
        "import matplotlib.pyplot as plt\n",
        "import math\n",
        "\n",
        "import layers\n",
        "from constants import test_bench_template\n",
        "from main import Model\n",
        "\n",
        "## print out the pytorch version used\n",
        "print(torch.__version__)"
      ],
      "execution_count": 3,
      "outputs": [
        {
          "output_type": "stream",
          "name": "stdout",
          "text": [
            "2.2.1+cu121\n"
          ]
        }
      ]
    },
    {
      "cell_type": "markdown",
      "source": [
        "First generate the dataset representing a sinewave."
      ],
      "metadata": {
        "id": "-qIOuZ5xjIol"
      }
    },
    {
      "cell_type": "code",
      "source": [
        "# We'll generate this many sample datapoints\n",
        "SAMPLES = 1000\n",
        "\n",
        "# Set a \"seed\" value, so we get the same random numbers each time we run this\n",
        "# notebook. Any number can be used here.\n",
        "SEED = 1337\n",
        "np.random.seed(SEED)\n",
        "\n",
        "# Generate a uniformly distributed set of random numbers in the range from\n",
        "# 0 to 2π, which covers a complete sine wave oscillation\n",
        "x_values = np.random.uniform(low=0, high=2*math.pi, size=SAMPLES)\n",
        "x_values = np.float32(x_values)\n",
        "\n",
        "# Shuffle the values to guarantee they're not in order\n",
        "np.random.shuffle(x_values)\n",
        "\n",
        "# Calculate the corresponding sine values\n",
        "y_values = np.sin(x_values)\n",
        "\n",
        "# Plot our data. The 'b.' argument tells the library to print blue dots.\n",
        "plt.plot(x_values, y_values, 'b.')\n",
        "plt.show()"
      ],
      "metadata": {
        "colab": {
          "base_uri": "https://localhost:8080/",
          "height": 430
        },
        "id": "eLIaQoeCjAb0",
        "outputId": "51747902-313d-4279-a9ad-66c4d0d88b7d"
      },
      "execution_count": 4,
      "outputs": [
        {
          "output_type": "display_data",
          "data": {
            "text/plain": [
              "<Figure size 640x480 with 1 Axes>"
            ],
            "image/png": "[encoded data removed]"
          },
          "metadata": {}
        }
      ]
    },
    {
      "cell_type": "markdown",
      "source": [
        "Add noise to the data."
      ],
      "metadata": {
        "id": "L6QxbvfzjamZ"
      }
    },
    {
      "cell_type": "code",
      "source": [
        "# Add a small random number to each y value\n",
        "y_values += 0.1 * np.random.randn(*y_values.shape)\n",
        "\n",
        "# Plot our data\n",
        "plt.plot(x_values, y_values, 'b.')\n",
        "plt.show()"
      ],
      "metadata": {
        "colab": {
          "base_uri": "https://localhost:8080/",
          "height": 430
        },
        "id": "h0L0EnjkjYwZ",
        "outputId": "1487c026-6e03-4f41-fade-b3db4738cb28"
      },
      "execution_count": 5,
      "outputs": [
        {
          "output_type": "display_data",
          "data": {
            "text/plain": [
              "<Figure size 640x480 with 1 Axes>"
            ],
            "image/png": "[encoded data removed]"
          },
          "metadata": {}
        }
      ]
    },
    {
      "cell_type": "markdown",
      "source": [
        "Split the data into training, validation and test datasets"
      ],
      "metadata": {
        "id": "FaXWDmghjkcj"
      }
    },
    {
      "cell_type": "code",
      "source": [
        "# We'll use 60% of our data for training and 20% for testing. The remaining 20%\n",
        "# will be used for validation. Calculate the indices of each section.\n",
        "TRAIN_SPLIT =  int(0.6 * SAMPLES)\n",
        "TEST_SPLIT = int(0.2 * SAMPLES + TRAIN_SPLIT)\n",
        "\n",
        "# Use np.split to chop our data into three parts.\n",
        "# The second argument to np.split is an array of indices where the data will be\n",
        "# split. We provide two indices, so the data will be divided into three chunks.\n",
        "x_train, x_validate, x_test = np.split(x_values, [TRAIN_SPLIT, TEST_SPLIT])\n",
        "y_train, y_validate, y_test = np.split(y_values, [TRAIN_SPLIT, TEST_SPLIT])\n",
        "\n",
        "# Double check that our splits add up correctly\n",
        "assert (x_train.size + x_validate.size + x_test.size) ==  SAMPLES\n",
        "\n",
        "# Plot the data in each partition in different colors:\n",
        "plt.plot(x_train, y_train, 'b.', label=\"Train\")\n",
        "#plt.plot(x_validate, y_validate, 'y.', label=\"Validate\")\n",
        "#plt.plot(x_test, y_test, 'r.', label=\"Test\")\n",
        "plt.legend()\n",
        "plt.show()"
      ],
      "metadata": {
        "colab": {
          "base_uri": "https://localhost:8080/",
          "height": 430
        },
        "id": "fgMGtZdYji0H",
        "outputId": "2d5c1f29-3b6b-42ca-dd98-17ff47b3c853"
      },
      "execution_count": 12,
      "outputs": [
        {
          "output_type": "display_data",
          "data": {
            "text/plain": [
              "<Figure size 640x480 with 1 Axes>"
            ],
            "image/png": "[encoded data removed]"
          },
          "metadata": {}
        }
      ]
    },
    {
      "cell_type": "markdown",
      "source": [
        "Create the a simple sequential model with on layer of nodes."
      ],
      "metadata": {
        "id": "Vkv-EY0RQ7Cf"
      }
    },
    {
      "cell_type": "code",
      "source": [
        "# Define model architecture\n",
        "class SinePredictor(nn.Sequential):\n",
        "  def __init__(self, input_size, hidden_size, output_size):\n",
        "    super(SinePredictor, self).__init__()\n",
        "    self.fc1 = nn.Linear(input_size, hidden_size)\n",
        "    self.relu = nn.ReLU()\n",
        "    self.fc2 = nn.Linear(hidden_size, hidden_size)\n",
        "    self.fc3 = nn.Linear(hidden_size, output_size)\n",
        "\n",
        "  def forward(self, x):\n",
        "    x = self.relu(self.fc1(x))\n",
        "    x = self.relu(self.fc2(x))\n",
        "    x = self.fc3(x)\n",
        "    return x\n",
        "\n",
        "# Define hyperparameters\n",
        "input_size = 1  # Size of sine wave input (x-value)\n",
        "hidden_size = 16  # Number of neurons in the hidden layer\n",
        "output_size = 1  # Size of sine wave output (predicted y-value)\n",
        "\n",
        "# Create the model instance\n",
        "model = SinePredictor(input_size, hidden_size, output_size)\n",
        "\n",
        "# Define loss function and optimizer\n",
        "criterion = nn.MSELoss()  # Mean squared error loss for regression\n",
        "optimizer = torch.optim.Adam(model.parameters(), lr=0.01)  # Adam optimizer\n"
      ],
      "metadata": {
        "id": "SryyPsnBUXHg"
      },
      "execution_count": 13,
      "outputs": []
    },
    {
      "cell_type": "code",
      "source": [
        "# Generate sample data (replace with your data generation process)\n",
        "#x_train = torch.linspace(0, 10, 600)[:, None]  # Sample x values between 0 and 10\n",
        "#y_train = torch.sin(x_train)  # Corresponding sine wave y values\n",
        "\n",
        "x_train = torch.tensor(x_train)[:, None]\n",
        "y_train = torch.tensor(y_train)[:, None]\n",
        "\n",
        "print(x_train.size())\n"
      ],
      "metadata": {
        "colab": {
          "base_uri": "https://localhost:8080/"
        },
        "id": "e_YdFAnmVFBE",
        "outputId": "af7dc691-2ca5-4f1b-ab07-50343af8d454"
      },
      "execution_count": 14,
      "outputs": [
        {
          "output_type": "stream",
          "name": "stdout",
          "text": [
            "torch.Size([600, 1])\n"
          ]
        }
      ]
    },
    {
      "cell_type": "code",
      "source": [
        "# Training loop (modify epochs and batch size as needed)\n",
        "for epoch in range(200):\n",
        "  for i in range(0, len(x_train), 30):  # Loop through data in batches of 30\n",
        "    # Get a batch of data\n",
        "    inputs = x_train[i:i+30]\n",
        "    labels = y_train[i:i+30]\n",
        "\n",
        "    # Clear gradients\n",
        "    optimizer.zero_grad()\n",
        "\n",
        "    # Forward pass\n",
        "    outputs = model(inputs)\n",
        "\n",
        "    # Calculate loss\n",
        "    loss = criterion(outputs, labels)\n",
        "\n",
        "    # Backward pass and optimize\n",
        "    loss.backward()\n",
        "    optimizer.step()\n",
        "\n",
        "# After training, predict on entire training data\n",
        "predicted_y = model(x_train)"
      ],
      "metadata": {
        "id": "lwBCxumKWKxO"
      },
      "execution_count": 15,
      "outputs": []
    },
    {
      "cell_type": "code",
      "source": [
        "# Prepare data for plotting\n",
        "x_train_np = x_train.squeeze().numpy()  # Convert tensor to numpy array for plotting\n",
        "y_train_np = y_train.squeeze().numpy()\n",
        "predicted_y_np = predicted_y.squeeze().detach().numpy()\n",
        "\n",
        "# Plotting\n",
        "plt.plot(x_train_np, y_train_np, '.b', label='Actual Sine Wave')\n",
        "plt.plot(x_train_np, predicted_y_np, '.r', label='Predicted Sine Wave')\n",
        "plt.xlabel('x')\n",
        "plt.ylabel('y')\n",
        "plt.legend()\n",
        "plt.title('Predicted vs. Actual Sine Wave')\n",
        "plt.grid(True)\n",
        "plt.show()"
      ],
      "metadata": {
        "colab": {
          "base_uri": "https://localhost:8080/",
          "height": 472
        },
        "id": "kHgJyAQXZD2H",
        "outputId": "f0b51b7e-2b7a-48d0-fe2e-40ced33c07b7"
      },
      "execution_count": 16,
      "outputs": [
        {
          "output_type": "display_data",
          "data": {
            "text/plain": [
              "<Figure size 640x480 with 1 Axes>"
            ],
            "image/png": "[encoded data removed]"
          },
          "metadata": {}
        }
      ]
    },
    {
      "cell_type": "markdown",
      "source": [
        "Not sure how this next step works, but it is what converts the model to Verilog."
      ],
      "metadata": {
        "id": "-0rcdaMBoXaB"
      }
    },
    {
      "cell_type": "code",
      "source": [
        "model_converter = Model(model)\n",
        "model_converter.parse_layers()\n",
        "model_converter.forward_range([[1.0, 100.0]])"
      ],
      "metadata": {
        "id": "ZY1JoAO7MtMx"
      },
      "execution_count": 17,
      "outputs": []
    },
    {
      "cell_type": "code",
      "source": [
        "print(model_converter)\n",
        "verilog = model_converter.emit()"
      ],
      "metadata": {
        "colab": {
          "base_uri": "https://localhost:8080/"
        },
        "id": "Z3-XTl5kM7P4",
        "outputId": "c401e122-1e60-4f94-d131-4936dedeaa5d"
      },
      "execution_count": 18,
      "outputs": [
        {
          "output_type": "stream",
          "name": "stdout",
          "text": [
            "Linear(1 -> 16)\n",
            "ReLU((16,))\n",
            "Linear(16 -> 16)\n",
            "Linear(16 -> 1)\n"
          ]
        }
      ]
    },
    {
      "cell_type": "code",
      "source": [
        "print(verilog)"
      ],
      "metadata": {
        "colab": {
          "base_uri": "https://localhost:8080/"
        },
        "id": "IulboYgfNTKv",
        "outputId": "df750b4a-0ca7-4196-feba-15bef8dfc4d3"
      },
      "execution_count": 19,
      "outputs": [
        {
          "output_type": "stream",
          "name": "stdout",
          "text": [
            "`timescale 1ns / 1ps\n",
            "\n",
            "module layer_0_linear_1_16(in0, out0,out1,out2,out3,out4,out5,out6,out7,out8,out9,out10,out11,out12,out13,out14,out15);\n",
            "    input [6:0] in0;\n",
            "\n",
            "    output [5:0] out0;\n",
            "    output [5:0] out1;\n",
            "    output [6:0] out2;\n",
            "    output [4:0] out3;\n",
            "    output [4:0] out4;\n",
            "    output [5:0] out5;\n",
            "    output [4:0] out6;\n",
            "    output [2:0] out7;\n",
            "    output [6:0] out8;\n",
            "    output [5:0] out9;\n",
            "    output [3:0] out10;\n",
            "    output [3:0] out11;\n",
            "    output [5:0] out12;\n",
            "    output [4:0] out13;\n",
            "    output [5:0] out14;\n",
            "    output [4:0] out15;\n",
            "\n",
            "    \n",
            "    reg [5:0] mul0;\n",
            "    reg [5:0] mul1;\n",
            "    reg [6:0] mul2;\n",
            "    reg [4:0] mul3;\n",
            "    reg [4:0] mul4;\n",
            "    reg [5:0] mul5;\n",
            "    reg [4:0] mul6;\n",
            "    reg [2:0] mul7;\n",
            "    reg [6:0] mul8;\n",
            "    reg [5:0] mul9;\n",
            "    reg [3:0] mul10;\n",
            "    reg [3:0] mul11;\n",
            "    reg [5:0] mul12;\n",
            "    reg [4:0] mul13;\n",
            "    reg [5:0] mul14;\n",
            "    reg [4:0] mul15;\n",
            "\n",
            "    reg [5:0] add0;\n",
            "    reg [5:0] add1;\n",
            "    reg [6:0] add2;\n",
            "    reg [4:0] add3;\n",
            "    reg [4:0] add4;\n",
            "    reg [5:0] add5;\n",
            "    reg [4:0] add6;\n",
            "    reg [2:0] add7;\n",
            "    reg [6:0] add8;\n",
            "    reg [5:0] add9;\n",
            "    reg [3:0] add10;\n",
            "    reg [3:0] add11;\n",
            "    reg [5:0] add12;\n",
            "    reg [4:0] add13;\n",
            "    reg [5:0] add14;\n",
            "    reg [4:0] add15;\n",
            "\n",
            "        \n",
            "    always @(*)\n",
            "    begin\n",
            "        mul0 = mul0 + in0 * -0.33410701155662537;\n",
            "        mul1 = mul1 + in0 * -0.565618097782135;\n",
            "        mul2 = mul2 + in0 * -0.8345259428024292;\n",
            "        mul3 = mul3 + in0 * -0.1846316009759903;\n",
            "        mul4 = mul4 + in0 * -0.2255035638809204;\n",
            "        mul5 = mul5 + in0 * -0.6060891151428223;\n",
            "        mul6 = mul6 + in0 * -0.19587966799736023;\n",
            "        mul7 = mul7 + in0 * -0.06049730256199837;\n",
            "        mul8 = mul8 + in0 * -0.6763715744018555;\n",
            "        mul9 = mul9 + in0 * 0.5138482451438904;\n",
            "        mul10 = mul10 + in0 * -0.07749728113412857;\n",
            "        mul11 = mul11 + in0 * -0.1122363805770874;\n",
            "        mul12 = mul12 + in0 * 0.5483525991439819;\n",
            "        mul13 = mul13 + in0 * -0.23050238192081451;\n",
            "        mul14 = mul14 + in0 * 0.49676528573036194;\n",
            "        mul15 = mul15 + in0 * -0.16224712133407593;\n",
            "\n",
            "        add0 = mul0 + 1.1988075971603394;\n",
            "        add1 = mul1 + 0.7139034271240234;\n",
            "        add2 = mul2 + -0.6352934837341309;\n",
            "        add3 = mul3 + 1.6024664640426636;\n",
            "        add4 = mul4 + -0.780370831489563;\n",
            "        add5 = mul5 + 1.0300030708312988;\n",
            "        add6 = mul6 + 1.2267910242080688;\n",
            "        add7 = mul7 + 1.0045864582061768;\n",
            "        add8 = mul8 + -0.0067212581634521484;\n",
            "        add9 = mul9 + -1.2108262777328491;\n",
            "        add10 = mul10 + 0.498360812664032;\n",
            "        add11 = mul11 + -0.9838204383850098;\n",
            "        add12 = mul12 + -1.6235928535461426;\n",
            "        add13 = mul13 + 1.5021859407424927;\n",
            "        add14 = mul14 + -0.0051317778415977955;\n",
            "        add15 = mul15 + 1.1756995916366577;\n",
            "\n",
            "    end\n",
            "    assign out0 = add0;\n",
            "  assign out1 = add1;\n",
            "  assign out2 = add2;\n",
            "  assign out3 = add3;\n",
            "  assign out4 = add4;\n",
            "  assign out5 = add5;\n",
            "  assign out6 = add6;\n",
            "  assign out7 = add7;\n",
            "  assign out8 = add8;\n",
            "  assign out9 = add9;\n",
            "  assign out10 = add10;\n",
            "  assign out11 = add11;\n",
            "  assign out12 = add12;\n",
            "  assign out13 = add13;\n",
            "  assign out14 = add14;\n",
            "  assign out15 = add15;\n",
            "\n",
            "endmodule\n",
            "\n",
            "\n",
            "module layer_1_relu_16(in0,in1,in2,in3,in4,in5,in6,in7,in8,in9,in10,in11,in12,in13,in14,in15, out0,out1,out2,out3,out4,out5,out6,out7,out8,out9,out10,out11,out12,out13,out14,out15);\n",
            "    input [5:0] in0;\n",
            "    input [5:0] in1;\n",
            "    input [6:0] in2;\n",
            "    input [4:0] in3;\n",
            "    input [4:0] in4;\n",
            "    input [5:0] in5;\n",
            "    input [4:0] in6;\n",
            "    input [2:0] in7;\n",
            "    input [6:0] in8;\n",
            "    input [5:0] in9;\n",
            "    input [3:0] in10;\n",
            "    input [3:0] in11;\n",
            "    input [5:0] in12;\n",
            "    input [4:0] in13;\n",
            "    input [5:0] in14;\n",
            "    input [4:0] in15;\n",
            "\n",
            "    output reg [0:0] out0;\n",
            "    output reg [0:0] out1;\n",
            "    output reg [-1:0] out2;\n",
            "    output reg [1:0] out3;\n",
            "    output reg [-1:0] out4;\n",
            "    output reg [0:0] out5;\n",
            "    output reg [1:0] out6;\n",
            "    output reg [0:0] out7;\n",
            "    output reg [-1:0] out8;\n",
            "    output reg [5:0] out9;\n",
            "    output reg [0:0] out10;\n",
            "    output reg [-1:0] out11;\n",
            "    output reg [5:0] out12;\n",
            "    output reg [1:0] out13;\n",
            "    output reg [5:0] out14;\n",
            "    output reg [1:0] out15;\n",
            "\n",
            "                \n",
            "    always @(*) \n",
            "    begin\n",
            "        out0 = in0 > 0 ? in0 : 0;\n",
            "        out1 = in1 > 0 ? in1 : 0;\n",
            "        out2 = in2 > 0 ? in2 : 0;\n",
            "        out3 = in3 > 0 ? in3 : 0;\n",
            "        out4 = in4 > 0 ? in4 : 0;\n",
            "        out5 = in5 > 0 ? in5 : 0;\n",
            "        out6 = in6 > 0 ? in6 : 0;\n",
            "        out7 = in7 > 0 ? in7 : 0;\n",
            "        out8 = in8 > 0 ? in8 : 0;\n",
            "        out9 = in9 > 0 ? in9 : 0;\n",
            "        out10 = in10 > 0 ? in10 : 0;\n",
            "        out11 = in11 > 0 ? in11 : 0;\n",
            "        out12 = in12 > 0 ? in12 : 0;\n",
            "        out13 = in13 > 0 ? in13 : 0;\n",
            "        out14 = in14 > 0 ? in14 : 0;\n",
            "        out15 = in15 > 0 ? in15 : 0;\n",
            "\n",
            "    end\n",
            "endmodule\n",
            "\n",
            "\n",
            "module layer_2_linear_16_16(in0,in1,in2,in3,in4,in5,in6,in7,in8,in9,in10,in11,in12,in13,in14,in15, out0,out1,out2,out3,out4,out5,out6,out7,out8,out9,out10,out11,out12,out13,out14,out15);\n",
            "    input [0:0] in0;\n",
            "    input [0:0] in1;\n",
            "    input [-1:0] in2;\n",
            "    input [1:0] in3;\n",
            "    input [-1:0] in4;\n",
            "    input [0:0] in5;\n",
            "    input [1:0] in6;\n",
            "    input [0:0] in7;\n",
            "    input [-1:0] in8;\n",
            "    input [5:0] in9;\n",
            "    input [0:0] in10;\n",
            "    input [-1:0] in11;\n",
            "    input [5:0] in12;\n",
            "    input [1:0] in13;\n",
            "    input [5:0] in14;\n",
            "    input [1:0] in15;\n",
            "\n",
            "    output [5:0] out0;\n",
            "    output [1:0] out1;\n",
            "    output [4:0] out2;\n",
            "    output [6:0] out3;\n",
            "    output [5:0] out4;\n",
            "    output [0:0] out5;\n",
            "    output [6:0] out6;\n",
            "    output [2:0] out7;\n",
            "    output [3:0] out8;\n",
            "    output [6:0] out9;\n",
            "    output [3:0] out10;\n",
            "    output [6:0] out11;\n",
            "    output [3:0] out12;\n",
            "    output [4:0] out13;\n",
            "    output [3:0] out14;\n",
            "    output [4:0] out15;\n",
            "\n",
            "    \n",
            "    reg [5:0] mul0;\n",
            "    reg [1:0] mul1;\n",
            "    reg [4:0] mul2;\n",
            "    reg [6:0] mul3;\n",
            "    reg [5:0] mul4;\n",
            "    reg [0:0] mul5;\n",
            "    reg [6:0] mul6;\n",
            "    reg [2:0] mul7;\n",
            "    reg [3:0] mul8;\n",
            "    reg [6:0] mul9;\n",
            "    reg [3:0] mul10;\n",
            "    reg [6:0] mul11;\n",
            "    reg [3:0] mul12;\n",
            "    reg [4:0] mul13;\n",
            "    reg [3:0] mul14;\n",
            "    reg [4:0] mul15;\n",
            "\n",
            "    reg [5:0] add0;\n",
            "    reg [1:0] add1;\n",
            "    reg [4:0] add2;\n",
            "    reg [6:0] add3;\n",
            "    reg [5:0] add4;\n",
            "    reg [0:0] add5;\n",
            "    reg [6:0] add6;\n",
            "    reg [2:0] add7;\n",
            "    reg [3:0] add8;\n",
            "    reg [6:0] add9;\n",
            "    reg [3:0] add10;\n",
            "    reg [6:0] add11;\n",
            "    reg [3:0] add12;\n",
            "    reg [4:0] add13;\n",
            "    reg [3:0] add14;\n",
            "    reg [4:0] add15;\n",
            "\n",
            "        \n",
            "    always @(*)\n",
            "    begin\n",
            "        mul0 = mul0 + in0 * -0.7709361910820007;\n",
            "        mul0 = mul0 + in1 * -0.1619623303413391;\n",
            "        mul0 = mul0 + in2 * -0.16763916611671448;\n",
            "        mul0 = mul0 + in3 * 0.804016649723053;\n",
            "        mul0 = mul0 + in4 * -0.03577917814254761;\n",
            "        mul0 = mul0 + in5 * -0.20811207592487335;\n",
            "        mul0 = mul0 + in6 * 0.34925785660743713;\n",
            "        mul0 = mul0 + in7 * 0.163739413022995;\n",
            "        mul0 = mul0 + in8 * 0.24047115445137024;\n",
            "        mul0 = mul0 + in9 * -0.18161524832248688;\n",
            "        mul0 = mul0 + in10 * 0.4168829917907715;\n",
            "        mul0 = mul0 + in11 * -0.14576196670532227;\n",
            "        mul0 = mul0 + in12 * -0.4504678547382355;\n",
            "        mul0 = mul0 + in13 * 0.36411914229393005;\n",
            "        mul0 = mul0 + in14 * 0.013082128949463367;\n",
            "        mul0 = mul0 + in15 * 0.7029777765274048;\n",
            "        mul1 = mul1 + in0 * -0.12520523369312286;\n",
            "        mul1 = mul1 + in1 * -0.22225847840309143;\n",
            "        mul1 = mul1 + in2 * 0.12043944001197815;\n",
            "        mul1 = mul1 + in3 * 0.15363729000091553;\n",
            "        mul1 = mul1 + in4 * 0.18187284469604492;\n",
            "        mul1 = mul1 + in5 * 0.20487754046916962;\n",
            "        mul1 = mul1 + in6 * -0.16148537397384644;\n",
            "        mul1 = mul1 + in7 * 0.11744602769613266;\n",
            "        mul1 = mul1 + in8 * -0.24388733506202698;\n",
            "        mul1 = mul1 + in9 * 0.1524028778076172;\n",
            "        mul1 = mul1 + in10 * -0.13675759732723236;\n",
            "        mul1 = mul1 + in11 * -0.0679035484790802;\n",
            "        mul1 = mul1 + in12 * 0.053587574511766434;\n",
            "        mul1 = mul1 + in13 * -0.02663116715848446;\n",
            "        mul1 = mul1 + in14 * -0.27598679065704346;\n",
            "        mul1 = mul1 + in15 * -0.30501511693000793;\n",
            "        mul2 = mul2 + in0 * -0.09093979001045227;\n",
            "        mul2 = mul2 + in1 * -0.14842915534973145;\n",
            "        mul2 = mul2 + in2 * 0.03872036933898926;\n",
            "        mul2 = mul2 + in3 * 0.14269760251045227;\n",
            "        mul2 = mul2 + in4 * 0.02395668625831604;\n",
            "        mul2 = mul2 + in5 * 0.2297704815864563;\n",
            "        mul2 = mul2 + in6 * -0.12376144528388977;\n",
            "        mul2 = mul2 + in7 * -0.05866461992263794;\n",
            "        mul2 = mul2 + in8 * 0.17351865768432617;\n",
            "        mul2 = mul2 + in9 * -0.17525357007980347;\n",
            "        mul2 = mul2 + in10 * 0.0032566189765930176;\n",
            "        mul2 = mul2 + in11 * -0.06687229871749878;\n",
            "        mul2 = mul2 + in12 * -0.1609886884689331;\n",
            "        mul2 = mul2 + in13 * -0.2499878704547882;\n",
            "        mul2 = mul2 + in14 * -0.030488967895507812;\n",
            "        mul2 = mul2 + in15 * 0.007902979850769043;\n",
            "        mul3 = mul3 + in0 * 0.3739891052246094;\n",
            "        mul3 = mul3 + in1 * -0.5457338094711304;\n",
            "        mul3 = mul3 + in2 * 0.2073346972465515;\n",
            "        mul3 = mul3 + in3 * 0.7421115040779114;\n",
            "        mul3 = mul3 + in4 * -0.051531434059143066;\n",
            "        mul3 = mul3 + in5 * -0.378447949886322;\n",
            "        mul3 = mul3 + in6 * 0.33529555797576904;\n",
            "        mul3 = mul3 + in7 * 0.32462963461875916;\n",
            "        mul3 = mul3 + in8 * 0.13807645440101624;\n",
            "        mul3 = mul3 + in9 * -0.5275139808654785;\n",
            "        mul3 = mul3 + in10 * 0.29683518409729004;\n",
            "        mul3 = mul3 + in11 * 0.16195565462112427;\n",
            "        mul3 = mul3 + in12 * -0.6590888500213623;\n",
            "        mul3 = mul3 + in13 * 0.5753952860832214;\n",
            "        mul3 = mul3 + in14 * 0.010005599819123745;\n",
            "        mul3 = mul3 + in15 * 0.5738070607185364;\n",
            "        mul4 = mul4 + in0 * -0.5952176451683044;\n",
            "        mul4 = mul4 + in1 * 0.4067806899547577;\n",
            "        mul4 = mul4 + in2 * -0.19079720973968506;\n",
            "        mul4 = mul4 + in3 * 0.8790844678878784;\n",
            "        mul4 = mul4 + in4 * 0.17830625176429749;\n",
            "        mul4 = mul4 + in5 * 0.3296314477920532;\n",
            "        mul4 = mul4 + in6 * 0.3209555149078369;\n",
            "        mul4 = mul4 + in7 * 0.42352360486984253;\n",
            "        mul4 = mul4 + in8 * -0.22166746854782104;\n",
            "        mul4 = mul4 + in9 * -0.3607757091522217;\n",
            "        mul4 = mul4 + in10 * 0.0955972969532013;\n",
            "        mul4 = mul4 + in11 * 0.08974882960319519;\n",
            "        mul4 = mul4 + in12 * -0.6013844609260559;\n",
            "        mul4 = mul4 + in13 * 0.5049023032188416;\n",
            "        mul4 = mul4 + in14 * 0.15834899246692657;\n",
            "        mul4 = mul4 + in15 * 0.4609633982181549;\n",
            "        mul5 = mul5 + in0 * 0.3164744973182678;\n",
            "        mul5 = mul5 + in1 * 0.017872212454676628;\n",
            "        mul5 = mul5 + in2 * 0.23910823464393616;\n",
            "        mul5 = mul5 + in3 * -0.0902823731303215;\n",
            "        mul5 = mul5 + in4 * 0.22959095239639282;\n",
            "        mul5 = mul5 + in5 * 0.36819058656692505;\n",
            "        mul5 = mul5 + in6 * -0.027695585042238235;\n",
            "        mul5 = mul5 + in7 * -0.23484660685062408;\n",
            "        mul5 = mul5 + in8 * -0.21515211462974548;\n",
            "        mul5 = mul5 + in9 * 0.11861510574817657;\n",
            "        mul5 = mul5 + in10 * -0.11804257333278656;\n",
            "        mul5 = mul5 + in11 * -0.22509166598320007;\n",
            "        mul5 = mul5 + in12 * -0.0052875797264277935;\n",
            "        mul5 = mul5 + in13 * 0.14609450101852417;\n",
            "        mul5 = mul5 + in14 * -0.10165620595216751;\n",
            "        mul5 = mul5 + in15 * -0.11775777488946915;\n",
            "        mul6 = mul6 + in0 * 0.3674042820930481;\n",
            "        mul6 = mul6 + in1 * 0.49419617652893066;\n",
            "        mul6 = mul6 + in2 * -0.13831982016563416;\n",
            "        mul6 = mul6 + in3 * -0.16821794211864471;\n",
            "        mul6 = mul6 + in4 * -0.1306697130203247;\n",
            "        mul6 = mul6 + in5 * 0.34007275104522705;\n",
            "        mul6 = mul6 + in6 * 0.08078987151384354;\n",
            "        mul6 = mul6 + in7 * -0.34506985545158386;\n",
            "        mul6 = mul6 + in8 * 0.10879600048065186;\n",
            "        mul6 = mul6 + in9 * -0.4531393349170685;\n",
            "        mul6 = mul6 + in10 * -0.42832979559898376;\n",
            "        mul6 = mul6 + in11 * 0.10481002926826477;\n",
            "        mul6 = mul6 + in12 * -0.06960168480873108;\n",
            "        mul6 = mul6 + in13 * 0.03390657156705856;\n",
            "        mul6 = mul6 + in14 * -1.0467381477355957;\n",
            "        mul6 = mul6 + in15 * 0.09386023879051208;\n",
            "        mul7 = mul7 + in0 * -0.17993465065956116;\n",
            "        mul7 = mul7 + in1 * 0.11787742376327515;\n",
            "        mul7 = mul7 + in2 * 0.18409883975982666;\n",
            "        mul7 = mul7 + in3 * -0.17725789546966553;\n",
            "        mul7 = mul7 + in4 * -0.16499802470207214;\n",
            "        mul7 = mul7 + in5 * 0.22743305563926697;\n",
            "        mul7 = mul7 + in6 * -0.1301359087228775;\n",
            "        mul7 = mul7 + in7 * -0.02337629906833172;\n",
            "        mul7 = mul7 + in8 * -0.08841311931610107;\n",
            "        mul7 = mul7 + in9 * -0.02743573673069477;\n",
            "        mul7 = mul7 + in10 * 0.09255781024694443;\n",
            "        mul7 = mul7 + in11 * -0.007331252098083496;\n",
            "        mul7 = mul7 + in12 * 0.005974029190838337;\n",
            "        mul7 = mul7 + in13 * -0.29697945713996887;\n",
            "        mul7 = mul7 + in14 * -0.07079599052667618;\n",
            "        mul7 = mul7 + in15 * -0.28102993965148926;\n",
            "        mul8 = mul8 + in0 * 0.1848585456609726;\n",
            "        mul8 = mul8 + in1 * -0.10689256340265274;\n",
            "        mul8 = mul8 + in2 * -0.08972117304801941;\n",
            "        mul8 = mul8 + in3 * -0.22968550026416779;\n",
            "        mul8 = mul8 + in4 * -0.23621737957000732;\n",
            "        mul8 = mul8 + in5 * 0.15016503632068634;\n",
            "        mul8 = mul8 + in6 * 0.03146755322813988;\n",
            "        mul8 = mul8 + in7 * -0.18789027631282806;\n",
            "        mul8 = mul8 + in8 * -0.09914824366569519;\n",
            "        mul8 = mul8 + in9 * -0.1634763777256012;\n",
            "        mul8 = mul8 + in10 * 0.11668618768453598;\n",
            "        mul8 = mul8 + in11 * 0.03171220421791077;\n",
            "        mul8 = mul8 + in12 * 0.035329669713974;\n",
            "        mul8 = mul8 + in13 * -0.029519276693463326;\n",
            "        mul8 = mul8 + in14 * -0.03603167459368706;\n",
            "        mul8 = mul8 + in15 * -0.1845468133687973;\n",
            "        mul9 = mul9 + in0 * 0.4141142964363098;\n",
            "        mul9 = mul9 + in1 * -0.360635906457901;\n",
            "        mul9 = mul9 + in2 * -0.1324411928653717;\n",
            "        mul9 = mul9 + in3 * 0.46896615624427795;\n",
            "        mul9 = mul9 + in4 * 0.0912412703037262;\n",
            "        mul9 = mul9 + in5 * -0.7518870830535889;\n",
            "        mul9 = mul9 + in6 * 0.5178216099739075;\n",
            "        mul9 = mul9 + in7 * 0.3715304732322693;\n",
            "        mul9 = mul9 + in8 * -0.21959400177001953;\n",
            "        mul9 = mul9 + in9 * -0.5785850882530212;\n",
            "        mul9 = mul9 + in10 * 0.06780355423688889;\n",
            "        mul9 = mul9 + in11 * -0.15196043252944946;\n",
            "        mul9 = mul9 + in12 * -1.0110595226287842;\n",
            "        mul9 = mul9 + in13 * 0.20215041935443878;\n",
            "        mul9 = mul9 + in14 * -0.03265518322587013;\n",
            "        mul9 = mul9 + in15 * 0.547782301902771;\n",
            "        mul10 = mul10 + in0 * -0.7154662609100342;\n",
            "        mul10 = mul10 + in1 * -0.2471572905778885;\n",
            "        mul10 = mul10 + in2 * 0.004760950803756714;\n",
            "        mul10 = mul10 + in3 * -0.04892934858798981;\n",
            "        mul10 = mul10 + in4 * 0.19615060091018677;\n",
            "        mul10 = mul10 + in5 * 0.11362923681735992;\n",
            "        mul10 = mul10 + in6 * 0.1368769407272339;\n",
            "        mul10 = mul10 + in7 * 0.009422393515706062;\n",
            "        mul10 = mul10 + in8 * 0.15736621618270874;\n",
            "        mul10 = mul10 + in9 * -0.18981124460697174;\n",
            "        mul10 = mul10 + in10 * 0.23472285270690918;\n",
            "        mul10 = mul10 + in11 * -0.07309511303901672;\n",
            "        mul10 = mul10 + in12 * -0.1999416947364807;\n",
            "        mul10 = mul10 + in13 * 0.07410973310470581;\n",
            "        mul10 = mul10 + in14 * 0.17064973711967468;\n",
            "        mul10 = mul10 + in15 * 0.1156434491276741;\n",
            "        mul11 = mul11 + in0 * 0.5176141262054443;\n",
            "        mul11 = mul11 + in1 * 0.32365286350250244;\n",
            "        mul11 = mul11 + in2 * -0.19864103198051453;\n",
            "        mul11 = mul11 + in3 * 0.36687299609184265;\n",
            "        mul11 = mul11 + in4 * 0.12682348489761353;\n",
            "        mul11 = mul11 + in5 * 0.6968438625335693;\n",
            "        mul11 = mul11 + in6 * 0.0045628719963133335;\n",
            "        mul11 = mul11 + in7 * 0.09397104382514954;\n",
            "        mul11 = mul11 + in8 * 0.18548181653022766;\n",
            "        mul11 = mul11 + in9 * -0.5506880879402161;\n",
            "        mul11 = mul11 + in10 * -0.2451649010181427;\n",
            "        mul11 = mul11 + in11 * -0.18065404891967773;\n",
            "        mul11 = mul11 + in12 * -0.21770243346691132;\n",
            "        mul11 = mul11 + in13 * 0.0338871143758297;\n",
            "        mul11 = mul11 + in14 * -0.6809014678001404;\n",
            "        mul11 = mul11 + in15 * 0.05121919885277748;\n",
            "        mul12 = mul12 + in0 * 0.13010545074939728;\n",
            "        mul12 = mul12 + in1 * -0.22543089091777802;\n",
            "        mul12 = mul12 + in2 * 0.018750786781311035;\n",
            "        mul12 = mul12 + in3 * 0.08110737055540085;\n",
            "        mul12 = mul12 + in4 * -0.24941551685333252;\n",
            "        mul12 = mul12 + in5 * 0.07483017444610596;\n",
            "        mul12 = mul12 + in6 * -0.13503333926200867;\n",
            "        mul12 = mul12 + in7 * 0.15694767236709595;\n",
            "        mul12 = mul12 + in8 * -0.16187140345573425;\n",
            "        mul12 = mul12 + in9 * -0.23433232307434082;\n",
            "        mul12 = mul12 + in10 * -0.008481998927891254;\n",
            "        mul12 = mul12 + in11 * -0.05385175347328186;\n",
            "        mul12 = mul12 + in12 * 0.15333759784698486;\n",
            "        mul12 = mul12 + in13 * -0.31530725955963135;\n",
            "        mul12 = mul12 + in14 * -0.17866460978984833;\n",
            "        mul12 = mul12 + in15 * 0.10958652943372726;\n",
            "        mul13 = mul13 + in0 * -0.6759533882141113;\n",
            "        mul13 = mul13 + in1 * -0.21209371089935303;\n",
            "        mul13 = mul13 + in2 * 0.0332777202129364;\n",
            "        mul13 = mul13 + in3 * 0.4574136435985565;\n",
            "        mul13 = mul13 + in4 * 0.24326536059379578;\n",
            "        mul13 = mul13 + in5 * -0.15419115126132965;\n",
            "        mul13 = mul13 + in6 * 0.4941117763519287;\n",
            "        mul13 = mul13 + in7 * 0.40389370918273926;\n",
            "        mul13 = mul13 + in8 * 0.0912807285785675;\n",
            "        mul13 = mul13 + in9 * -0.11181256175041199;\n",
            "        mul13 = mul13 + in10 * 0.0770602598786354;\n",
            "        mul13 = mul13 + in11 * -0.049345970153808594;\n",
            "        mul13 = mul13 + in12 * -0.5097317099571228;\n",
            "        mul13 = mul13 + in13 * 0.535053014755249;\n",
            "        mul13 = mul13 + in14 * 0.10526683926582336;\n",
            "        mul13 = mul13 + in15 * 0.4970536530017853;\n",
            "        mul14 = mul14 + in0 * 0.048135340213775635;\n",
            "        mul14 = mul14 + in1 * 0.17040681838989258;\n",
            "        mul14 = mul14 + in2 * 0.09802591800689697;\n",
            "        mul14 = mul14 + in3 * -0.016878128051757812;\n",
            "        mul14 = mul14 + in4 * -0.16915810108184814;\n",
            "        mul14 = mul14 + in5 * -0.12115228176116943;\n",
            "        mul14 = mul14 + in6 * -0.21134963631629944;\n",
            "        mul14 = mul14 + in7 * -0.1748775839805603;\n",
            "        mul14 = mul14 + in8 * -0.11105147004127502;\n",
            "        mul14 = mul14 + in9 * -0.18511375784873962;\n",
            "        mul14 = mul14 + in10 * -0.02588886022567749;\n",
            "        mul14 = mul14 + in11 * 0.07860830426216125;\n",
            "        mul14 = mul14 + in12 * -0.09773066639900208;\n",
            "        mul14 = mul14 + in13 * 0.053614646196365356;\n",
            "        mul14 = mul14 + in14 * 0.09098827838897705;\n",
            "        mul14 = mul14 + in15 * -0.11474809050559998;\n",
            "        mul15 = mul15 + in0 * 0.09272947907447815;\n",
            "        mul15 = mul15 + in1 * 0.03202196955680847;\n",
            "        mul15 = mul15 + in2 * 0.22412529587745667;\n",
            "        mul15 = mul15 + in3 * 0.04759135842323303;\n",
            "        mul15 = mul15 + in4 * -0.17462000250816345;\n",
            "        mul15 = mul15 + in5 * 0.00519070029258728;\n",
            "        mul15 = mul15 + in6 * 0.016577482223510742;\n",
            "        mul15 = mul15 + in7 * -0.21846893429756165;\n",
            "        mul15 = mul15 + in8 * -0.203158438205719;\n",
            "        mul15 = mul15 + in9 * -0.20579484105110168;\n",
            "        mul15 = mul15 + in10 * -0.19984135031700134;\n",
            "        mul15 = mul15 + in11 * -0.0023581087589263916;\n",
            "        mul15 = mul15 + in12 * -0.21602964401245117;\n",
            "        mul15 = mul15 + in13 * -0.08151629567146301;\n",
            "        mul15 = mul15 + in14 * -0.10404565930366516;\n",
            "        mul15 = mul15 + in15 * 0.006941020488739014;\n",
            "\n",
            "        add0 = mul0 + 0.5429956316947937;\n",
            "        add1 = mul1 + -0.048238445073366165;\n",
            "        add2 = mul2 + -0.2097589671611786;\n",
            "        add3 = mul3 + 0.29580041766166687;\n",
            "        add4 = mul4 + 0.5653702616691589;\n",
            "        add5 = mul5 + -0.1394723504781723;\n",
            "        add6 = mul6 + 0.016918938606977463;\n",
            "        add7 = mul7 + -0.30407997965812683;\n",
            "        add8 = mul8 + -0.10541568696498871;\n",
            "        add9 = mul9 + 0.18627886474132538;\n",
            "        add10 = mul10 + 0.16467028856277466;\n",
            "        add11 = mul11 + -0.009910660795867443;\n",
            "        add12 = mul12 + -0.16827832162380219;\n",
            "        add13 = mul13 + 0.24293583631515503;\n",
            "        add14 = mul14 + 0.21271151304244995;\n",
            "        add15 = mul15 + -0.1479915976524353;\n",
            "\n",
            "    end\n",
            "    assign out0 = add0;\n",
            "  assign out1 = add1;\n",
            "  assign out2 = add2;\n",
            "  assign out3 = add3;\n",
            "  assign out4 = add4;\n",
            "  assign out5 = add5;\n",
            "  assign out6 = add6;\n",
            "  assign out7 = add7;\n",
            "  assign out8 = add8;\n",
            "  assign out9 = add9;\n",
            "  assign out10 = add10;\n",
            "  assign out11 = add11;\n",
            "  assign out12 = add12;\n",
            "  assign out13 = add13;\n",
            "  assign out14 = add14;\n",
            "  assign out15 = add15;\n",
            "\n",
            "endmodule\n",
            "\n",
            "\n",
            "module layer_3_linear_16_1(in0,in1,in2,in3,in4,in5,in6,in7,in8,in9,in10,in11,in12,in13,in14,in15, out0);\n",
            "    input [5:0] in0;\n",
            "    input [1:0] in1;\n",
            "    input [4:0] in2;\n",
            "    input [6:0] in3;\n",
            "    input [5:0] in4;\n",
            "    input [0:0] in5;\n",
            "    input [6:0] in6;\n",
            "    input [2:0] in7;\n",
            "    input [3:0] in8;\n",
            "    input [6:0] in9;\n",
            "    input [3:0] in10;\n",
            "    input [6:0] in11;\n",
            "    input [3:0] in12;\n",
            "    input [4:0] in13;\n",
            "    input [3:0] in14;\n",
            "    input [4:0] in15;\n",
            "\n",
            "    output [2:0] out0;\n",
            "\n",
            "    \n",
            "    reg [2:0] mul0;\n",
            "\n",
            "    reg [2:0] add0;\n",
            "\n",
            "        \n",
            "    always @(*)\n",
            "    begin\n",
            "        mul0 = mul0 + in0 * -0.2968082129955292;\n",
            "        mul0 = mul0 + in1 * 0.10861674696207047;\n",
            "        mul0 = mul0 + in2 * 0.020187675952911377;\n",
            "        mul0 = mul0 + in3 * 0.711622953414917;\n",
            "        mul0 = mul0 + in4 * -0.38830000162124634;\n",
            "        mul0 = mul0 + in5 * -0.010764812119305134;\n",
            "        mul0 = mul0 + in6 * -0.31365886330604553;\n",
            "        mul0 = mul0 + in7 * 0.100882887840271;\n",
            "        mul0 = mul0 + in8 * -0.1587507426738739;\n",
            "        mul0 = mul0 + in9 * 0.5421087145805359;\n",
            "        mul0 = mul0 + in10 * -0.019853517413139343;\n",
            "        mul0 = mul0 + in11 * -0.28436270356178284;\n",
            "        mul0 = mul0 + in12 * 0.06576860696077347;\n",
            "        mul0 = mul0 + in13 * -0.2573982775211334;\n",
            "        mul0 = mul0 + in14 * 0.09584131836891174;\n",
            "        mul0 = mul0 + in15 * -0.23105460405349731;\n",
            "\n",
            "        add0 = mul0 + -0.06973129510879517;\n",
            "\n",
            "    end\n",
            "    assign out0 = add0;\n",
            "\n",
            "endmodule\n",
            "\n",
            "module top(in0, out0);\n",
            "    input [6:0] in0;\n",
            "    output [2:0] out0;\n",
            "    wire [6:0] layer_0_out_0;\n",
            "    wire [6:0] layer_0_out_1;\n",
            "    wire [7:0] layer_0_out_2;\n",
            "    wire [5:0] layer_0_out_3;\n",
            "    wire [5:0] layer_0_out_4;\n",
            "    wire [6:0] layer_0_out_5;\n",
            "    wire [5:0] layer_0_out_6;\n",
            "    wire [3:0] layer_0_out_7;\n",
            "    wire [7:0] layer_0_out_8;\n",
            "    wire [6:0] layer_0_out_9;\n",
            "    wire [4:0] layer_0_out_10;\n",
            "    wire [4:0] layer_0_out_11;\n",
            "    wire [6:0] layer_0_out_12;\n",
            "    wire [5:0] layer_0_out_13;\n",
            "    wire [6:0] layer_0_out_14;\n",
            "    wire [5:0] layer_0_out_15;\n",
            "    layer_0_linear_1_16 layer_0(in0, layer_0_out_0,layer_0_out_1,layer_0_out_2,layer_0_out_3,layer_0_out_4,layer_0_out_5,layer_0_out_6,layer_0_out_7,layer_0_out_8,layer_0_out_9,layer_0_out_10,layer_0_out_11,layer_0_out_12,layer_0_out_13,layer_0_out_14,layer_0_out_15);\n",
            "    wire [1:0] layer_1_out_0;\n",
            "    wire [1:0] layer_1_out_1;\n",
            "    wire [0:0] layer_1_out_2;\n",
            "    wire [2:0] layer_1_out_3;\n",
            "    wire [0:0] layer_1_out_4;\n",
            "    wire [1:0] layer_1_out_5;\n",
            "    wire [2:0] layer_1_out_6;\n",
            "    wire [1:0] layer_1_out_7;\n",
            "    wire [0:0] layer_1_out_8;\n",
            "    wire [6:0] layer_1_out_9;\n",
            "    wire [1:0] layer_1_out_10;\n",
            "    wire [0:0] layer_1_out_11;\n",
            "    wire [6:0] layer_1_out_12;\n",
            "    wire [2:0] layer_1_out_13;\n",
            "    wire [6:0] layer_1_out_14;\n",
            "    wire [2:0] layer_1_out_15;\n",
            "    layer_1_relu_16 layer_1(layer_0_out_0,layer_0_out_1,layer_0_out_2,layer_0_out_3,layer_0_out_4,layer_0_out_5,layer_0_out_6,layer_0_out_7,layer_0_out_8,layer_0_out_9,layer_0_out_10,layer_0_out_11,layer_0_out_12,layer_0_out_13,layer_0_out_14,layer_0_out_15, layer_1_out_0,layer_1_out_1,layer_1_out_2,layer_1_out_3,layer_1_out_4,layer_1_out_5,layer_1_out_6,layer_1_out_7,layer_1_out_8,layer_1_out_9,layer_1_out_10,layer_1_out_11,layer_1_out_12,layer_1_out_13,layer_1_out_14,layer_1_out_15);\n",
            "    wire [6:0] layer_2_out_0;\n",
            "    wire [2:0] layer_2_out_1;\n",
            "    wire [5:0] layer_2_out_2;\n",
            "    wire [7:0] layer_2_out_3;\n",
            "    wire [6:0] layer_2_out_4;\n",
            "    wire [1:0] layer_2_out_5;\n",
            "    wire [7:0] layer_2_out_6;\n",
            "    wire [3:0] layer_2_out_7;\n",
            "    wire [4:0] layer_2_out_8;\n",
            "    wire [7:0] layer_2_out_9;\n",
            "    wire [4:0] layer_2_out_10;\n",
            "    wire [7:0] layer_2_out_11;\n",
            "    wire [4:0] layer_2_out_12;\n",
            "    wire [5:0] layer_2_out_13;\n",
            "    wire [4:0] layer_2_out_14;\n",
            "    wire [5:0] layer_2_out_15;\n",
            "    layer_2_linear_16_16 layer_2(layer_1_out_0,layer_1_out_1,layer_1_out_2,layer_1_out_3,layer_1_out_4,layer_1_out_5,layer_1_out_6,layer_1_out_7,layer_1_out_8,layer_1_out_9,layer_1_out_10,layer_1_out_11,layer_1_out_12,layer_1_out_13,layer_1_out_14,layer_1_out_15, layer_2_out_0,layer_2_out_1,layer_2_out_2,layer_2_out_3,layer_2_out_4,layer_2_out_5,layer_2_out_6,layer_2_out_7,layer_2_out_8,layer_2_out_9,layer_2_out_10,layer_2_out_11,layer_2_out_12,layer_2_out_13,layer_2_out_14,layer_2_out_15);\n",
            "    wire [3:0] layer_3_out_0;\n",
            "    layer_3_linear_16_1 layer_3(layer_2_out_0,layer_2_out_1,layer_2_out_2,layer_2_out_3,layer_2_out_4,layer_2_out_5,layer_2_out_6,layer_2_out_7,layer_2_out_8,layer_2_out_9,layer_2_out_10,layer_2_out_11,layer_2_out_12,layer_2_out_13,layer_2_out_14,layer_2_out_15, layer_3_out_0);\n",
            "    assign out0 = layer_3_out_0;\n",
            "endmodule\n"
          ]
        }
      ]
    },
    {
      "cell_type": "markdown",
      "source": [
        "Generate the test bench"
      ],
      "metadata": {
        "id": "NYrvQoLzgLRI"
      }
    },
    {
      "cell_type": "code",
      "source": [
        "verilog_tb = model_converter.emit_test_bench()\n",
        "print(verilog_tb)"
      ],
      "metadata": {
        "colab": {
          "base_uri": "https://localhost:8080/"
        },
        "id": "6NwCG_bRfSqH",
        "outputId": "bd793a41-eb91-46f4-feaf-a9a4069f3758"
      },
      "execution_count": 20,
      "outputs": [
        {
          "output_type": "stream",
          "name": "stdout",
          "text": [
            "`timescale 1ns / 1ps\n",
            "\n",
            "module tb_top;\n",
            "        input [6:0] in0;\n",
            "        output [2:0] out0;\n",
            "\n",
            "    top dut(\n",
            "        in0,\n",
            "        out0\n",
            "    );\n",
            "\n",
            "    initial begin\n",
            "        $dumpfile(\"tb_top.vcd\");\n",
            "        $dumpvars(0, tb_top);\n",
            "        \n",
            "        // Wait a bit before starting simulation\n",
            "        #2;\n",
            "        \n",
            "                assign in0 = 0;\n",
            "\n",
            "        $finish;\n",
            "    end\n",
            "endmodule\n",
            "\n"
          ]
        }
      ]
    },
    {
      "cell_type": "markdown",
      "source": [
        "The next steps saves the verilog module and the testbench to a file."
      ],
      "metadata": {
        "id": "-icXArIAoh4H"
      }
    },
    {
      "cell_type": "code",
      "source": [
        "with open('test.v', 'w') as f:\n",
        "    f.write(verilog)\n",
        "\n",
        "with open('test_tb.v', 'w') as f:\n",
        "    f.write(verilog_tb)"
      ],
      "metadata": {
        "id": "vQDQWSSkNFHa"
      },
      "execution_count": 21,
      "outputs": []
    },
    {
      "cell_type": "markdown",
      "metadata": {
        "id": "4-o4w9vpPHZz"
      },
      "source": [
        "## References\n",
        "- [The Hello World of Deep Learning with Neural Networks](https://github.com/lmoroney/dlaicourse/blob/master/Course%201%20-%20Part%202%20-%20Lesson%202%20-%20Notebook.ipynb)\n",
        "- [A Simple Neural Network from Scratch with PyTorch and Google Colab](https://medium.com/dair-ai/a-simple-neural-network-from-scratch-with-pytorch-and-google-colab-c7f3830618e0?source=collection_category---4------1-----------------------)\n",
        "- [PyTorch Official Docs](https://pytorch.org/docs/stable/nn.html)\n",
        "- [PyTorch 1.2 Quickstart with Google Colab](https://medium.com/dair-ai/pytorch-1-2-quickstart-with-google-colab-6690a30c38d)\n",
        "- [A Gentle Intoduction to PyTorch](https://medium.com/dair-ai/pytorch-1-2-introduction-guide-f6fa9bb7597c)"
      ]
    },
    {
      "cell_type": "code",
      "source": [],
      "metadata": {
        "id": "_vYe8qvT5M_2"
      },
      "execution_count": null,
      "outputs": []
    }
  ]
}