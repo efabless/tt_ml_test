{
  "nbformat": 4,
  "nbformat_minor": 0,
  "metadata": {
    "colab": {
      "provenance": [],
      "include_colab_link": true
    },
    "kernelspec": {
      "name": "python3",
      "display_name": "Python 3"
    }
  },
  "cells": [
    {
      "cell_type": "markdown",
      "metadata": {
        "id": "view-in-github",
        "colab_type": "text"
      },
      "source": [
        "<a href=\"https://colab.research.google.com/github/jeffdi/tt_ml_test/blob/main/Pytorch_test.ipynb\" target=\"_parent\"><img src=\"https://colab.research.google.com/assets/colab-badge.svg\" alt=\"Open In Colab\"/></a>"
      ]
    },
    {
      "cell_type": "markdown",
      "metadata": {
        "id": "H7gQFbUxOQtb"
      },
      "source": [
        "# An example implementation of a simple neural network using PyTorch and Tiny Tapeout\n",
        "\n",
        "In this notebook, we are going to train a simple neural network using PyTorch and implement it in silicon using Tiny Tapeout.\n",
        "\n",
        "This example reimplements the Hello World example presented in Chapter 4 of the TinyML book by Pat Warden.\n",
        "\n",
        "https://www.oreilly.com/library/view/tinyml/9781492052036/ch04.html\n",
        "\n",
        "---\n",
        "\n",
        "**Author:** TBD"
      ]
    },
    {
      "cell_type": "markdown",
      "metadata": {
        "id": "CkzttrQCwaSQ"
      },
      "source": [
        "## Importing dependencies\n",
        "\n",
        "In addition to PyTorch, we are going to use a Github project for converting a neural network model to Verilog.  \n",
        "\n",
        "https://github.com/rohittp0/chipon/tree/master\n",
        "\n"
      ]
    },
    {
      "cell_type": "code",
      "source": [
        "!git clone https://github.com/rohittp0/chipon\n",
        "%cd chipon/"
      ],
      "metadata": {
        "id": "KvsqqoLTBj3d",
        "colab": {
          "base_uri": "https://localhost:8080/"
        },
        "outputId": "f5a5540d-9e7c-42bd-f687-80786c14f359"
      },
      "execution_count": 24,
      "outputs": [
        {
          "output_type": "stream",
          "name": "stdout",
          "text": [
            "Cloning into 'chipon'...\n",
            "remote: Enumerating objects: 40, done.\u001b[K\n",
            "remote: Counting objects: 100% (9/9), done.\u001b[K\n",
            "remote: Compressing objects: 100% (8/8), done.\u001b[K\n",
            "remote: Total 40 (delta 1), reused 4 (delta 1), pack-reused 31\u001b[K\n",
            "Receiving objects: 100% (40/40), 45.40 MiB | 21.10 MiB/s, done.\n",
            "Resolving deltas: 100% (8/8), done.\n",
            "/content/chipon/chipon\n"
          ]
        }
      ]
    },
    {
      "cell_type": "code",
      "metadata": {
        "id": "FuhJIaeXO2W9",
        "outputId": "e4455f18-931f-4cba-980a-8be2efc65f8a",
        "colab": {
          "base_uri": "https://localhost:8080/"
        }
      },
      "source": [
        "import torch\n",
        "from torch import nn\n",
        "\n",
        "import numpy as np\n",
        "import matplotlib.pyplot as plt\n",
        "import math\n",
        "\n",
        "import layers\n",
        "from constants import test_bench_template\n",
        "from main import Model\n",
        "\n",
        "## print out the pytorch version used\n",
        "print(torch.__version__)"
      ],
      "execution_count": 82,
      "outputs": [
        {
          "output_type": "stream",
          "name": "stdout",
          "text": [
            "2.2.1+cu121\n"
          ]
        }
      ]
    },
    {
      "cell_type": "markdown",
      "source": [
        "First generate the dataset representing a sinewave."
      ],
      "metadata": {
        "id": "-qIOuZ5xjIol"
      }
    },
    {
      "cell_type": "code",
      "source": [
        "# We'll generate this many sample datapoints\n",
        "SAMPLES = 1000\n",
        "\n",
        "# Set a \"seed\" value, so we get the same random numbers each time we run this\n",
        "# notebook. Any number can be used here.\n",
        "SEED = 1337\n",
        "np.random.seed(SEED)\n",
        "\n",
        "# Generate a uniformly distributed set of random numbers in the range from\n",
        "# 0 to 2π, which covers a complete sine wave oscillation\n",
        "x_values = np.random.uniform(low=0, high=2*math.pi, size=SAMPLES)\n",
        "x_values = np.float32(x_values)\n",
        "\n",
        "# Shuffle the values to guarantee they're not in order\n",
        "np.random.shuffle(x_values)\n",
        "\n",
        "# Calculate the corresponding sine values\n",
        "y_values = np.sin(x_values)\n",
        "\n",
        "# Plot our data. The 'b.' argument tells the library to print blue dots.\n",
        "plt.plot(x_values, y_values, 'b.')\n",
        "plt.show()"
      ],
      "metadata": {
        "colab": {
          "base_uri": "https://localhost:8080/",
          "height": 430
        },
        "id": "eLIaQoeCjAb0",
        "outputId": "4946e95b-f8ff-409f-963d-5d48e44f635f"
      },
      "execution_count": 63,
      "outputs": [
        {
          "output_type": "display_data",
          "data": {
            "text/plain": [
              "<Figure size 640x480 with 1 Axes>"
            ],
            "image/png": "[encoded data removed]"
          },
          "metadata": {}
        }
      ]
    },
    {
      "cell_type": "markdown",
      "source": [
        "Add noise to the data."
      ],
      "metadata": {
        "id": "L6QxbvfzjamZ"
      }
    },
    {
      "cell_type": "code",
      "source": [
        "# Add a small random number to each y value\n",
        "y_values += 0.1 * np.random.randn(*y_values.shape)\n",
        "\n",
        "# Plot our data\n",
        "plt.plot(x_values, y_values, 'b.')\n",
        "plt.show()"
      ],
      "metadata": {
        "colab": {
          "base_uri": "https://localhost:8080/",
          "height": 430
        },
        "id": "h0L0EnjkjYwZ",
        "outputId": "76a982c8-290e-4ed6-a138-4b9403803731"
      },
      "execution_count": 65,
      "outputs": [
        {
          "output_type": "display_data",
          "data": {
            "text/plain": [
              "<Figure size 640x480 with 1 Axes>"
            ],
            "image/png": "[encoded data removed]"
          },
          "metadata": {}
        }
      ]
    },
    {
      "cell_type": "markdown",
      "source": [
        "Split the data into training, validation and test datasets"
      ],
      "metadata": {
        "id": "FaXWDmghjkcj"
      }
    },
    {
      "cell_type": "code",
      "source": [
        "# We'll use 60% of our data for training and 20% for testing. The remaining 20%\n",
        "# will be used for validation. Calculate the indices of each section.\n",
        "TRAIN_SPLIT =  int(0.6 * SAMPLES)\n",
        "TEST_SPLIT = int(0.2 * SAMPLES + TRAIN_SPLIT)\n",
        "\n",
        "# Use np.split to chop our data into three parts.\n",
        "# The second argument to np.split is an array of indices where the data will be\n",
        "# split. We provide two indices, so the data will be divided into three chunks.\n",
        "x_train, x_validate, x_test = np.split(x_values, [TRAIN_SPLIT, TEST_SPLIT])\n",
        "y_train, y_validate, y_test = np.split(y_values, [TRAIN_SPLIT, TEST_SPLIT])\n",
        "\n",
        "# Double check that our splits add up correctly\n",
        "assert (x_train.size + x_validate.size + x_test.size) ==  SAMPLES\n",
        "\n",
        "# Plot the data in each partition in different colors:\n",
        "plt.plot(x_train, y_train, 'b.', label=\"Train\")\n",
        "#plt.plot(x_validate, y_validate, 'y.', label=\"Validate\")\n",
        "#plt.plot(x_test, y_test, 'r.', label=\"Test\")\n",
        "plt.legend()\n",
        "plt.show()"
      ],
      "metadata": {
        "colab": {
          "base_uri": "https://localhost:8080/",
          "height": 430
        },
        "id": "fgMGtZdYji0H",
        "outputId": "ca1e5493-a970-4df3-a56d-a4b8b7a3ca45"
      },
      "execution_count": 150,
      "outputs": [
        {
          "output_type": "display_data",
          "data": {
            "text/plain": [
              "<Figure size 640x480 with 1 Axes>"
            ],
            "image/png": "[encoded data removed]"
          },
          "metadata": {}
        }
      ]
    },
    {
      "cell_type": "markdown",
      "source": [
        "Create the a simple sequential model with on layer of nodes."
      ],
      "metadata": {
        "id": "Vkv-EY0RQ7Cf"
      }
    },
    {
      "cell_type": "code",
      "source": [
        "# Define model architecture\n",
        "class SinePredictor(nn.Sequential):\n",
        "  def __init__(self, input_size, hidden_size, output_size):\n",
        "    super(SinePredictor, self).__init__()\n",
        "    self.fc1 = nn.Linear(input_size, hidden_size)\n",
        "    self.relu = nn.ReLU()\n",
        "    self.fc2 = nn.Linear(hidden_size, hidden_size)\n",
        "    self.fc3 = nn.Linear(hidden_size, output_size)\n",
        "\n",
        "  def forward(self, x):\n",
        "    x = self.relu(self.fc1(x))\n",
        "    x = self.relu(self.fc2(x))\n",
        "    x = self.fc3(x)\n",
        "    return x\n",
        "\n",
        "# Define hyperparameters\n",
        "input_size = 1  # Size of sine wave input (x-value)\n",
        "hidden_size = 16  # Number of neurons in the hidden layer\n",
        "output_size = 1  # Size of sine wave output (predicted y-value)\n",
        "\n",
        "# Create the model instance\n",
        "model = SinePredictor(input_size, hidden_size, output_size)\n",
        "\n",
        "# Define loss function and optimizer\n",
        "criterion = nn.MSELoss()  # Mean squared error loss for regression\n",
        "optimizer = torch.optim.Adam(model.parameters(), lr=0.01)  # Adam optimizer\n"
      ],
      "metadata": {
        "id": "SryyPsnBUXHg"
      },
      "execution_count": 151,
      "outputs": []
    },
    {
      "cell_type": "code",
      "source": [
        "# Generate sample data (replace with your data generation process)\n",
        "#x_train = torch.linspace(0, 10, 600)[:, None]  # Sample x values between 0 and 10\n",
        "#y_train = torch.sin(x_train)  # Corresponding sine wave y values\n",
        "\n",
        "x_train = torch.tensor(x_train)[:, None]\n",
        "y_train = torch.tensor(y_train)\n",
        "\n",
        "print(x_train.size())\n"
      ],
      "metadata": {
        "colab": {
          "base_uri": "https://localhost:8080/"
        },
        "id": "e_YdFAnmVFBE",
        "outputId": "b2b40339-9851-42b7-f72d-06323dd2a1b1"
      },
      "execution_count": 152,
      "outputs": [
        {
          "output_type": "stream",
          "name": "stdout",
          "text": [
            "torch.Size([600, 1])\n"
          ]
        }
      ]
    },
    {
      "cell_type": "code",
      "source": [
        "# Training loop (modify epochs and batch size as needed)\n",
        "for epoch in range(200):\n",
        "  for i in range(0, len(x_train), 64):  # Loop through data in batches of 30\n",
        "    # Get a batch of data\n",
        "    inputs = x_train[i:i+64]\n",
        "    labels = y_train[i:i+64]\n",
        "\n",
        "    # Clear gradients\n",
        "    optimizer.zero_grad()\n",
        "\n",
        "    # Forward pass\n",
        "    outputs = model(inputs)\n",
        "\n",
        "    # Calculate loss\n",
        "    loss = criterion(outputs, labels)\n",
        "\n",
        "    # Backward pass and optimize\n",
        "    loss.backward()\n",
        "    optimizer.step()\n",
        "\n",
        "# After training, predict on entire training data\n",
        "predicted_y = model(x_train)"
      ],
      "metadata": {
        "id": "lwBCxumKWKxO"
      },
      "execution_count": 155,
      "outputs": []
    },
    {
      "cell_type": "code",
      "source": [
        "# Prepare data for plotting\n",
        "x_train_np = x_train.squeeze().numpy()  # Convert tensor to numpy array for plotting\n",
        "y_train_np = y_train.squeeze().numpy()\n",
        "predicted_y_np = predicted_y.squeeze().detach().numpy()\n",
        "\n",
        "# Plotting\n",
        "plt.plot(x_train_np, y_train_np, '.b', label='Actual Sine Wave')\n",
        "plt.plot(x_train_np, predicted_y_np, '.r', label='Predicted Sine Wave')\n",
        "plt.xlabel('x')\n",
        "plt.ylabel('y')\n",
        "plt.legend()\n",
        "plt.title('Predicted vs. Actual Sine Wave')\n",
        "plt.grid(True)\n",
        "plt.show()"
      ],
      "metadata": {
        "colab": {
          "base_uri": "https://localhost:8080/",
          "height": 472
        },
        "id": "kHgJyAQXZD2H",
        "outputId": "40df4f46-8348-49bd-e04c-691dd2d5d26a"
      },
      "execution_count": 163,
      "outputs": [
        {
          "output_type": "display_data",
          "data": {
            "text/plain": [
              "<Figure size 640x480 with 1 Axes>"
            ],
            "image/png": "[encoded data removed]"
          },
          "metadata": {}
        }
      ]
    },
    {
      "cell_type": "markdown",
      "source": [
        "Not sure how this next step works, but it is what converts the model to Verilog."
      ],
      "metadata": {
        "id": "-0rcdaMBoXaB"
      }
    },
    {
      "cell_type": "code",
      "source": [
        "model_converter = Model(model)\n",
        "model_converter.parse_layers()\n",
        "model_converter.forward_range([[1.0, 100.0]])"
      ],
      "metadata": {
        "id": "ZY1JoAO7MtMx"
      },
      "execution_count": 157,
      "outputs": []
    },
    {
      "cell_type": "code",
      "source": [
        "print(model_converter)\n",
        "verilog = model_converter.emit()"
      ],
      "metadata": {
        "colab": {
          "base_uri": "https://localhost:8080/"
        },
        "id": "Z3-XTl5kM7P4",
        "outputId": "80178773-e28f-45cc-dcae-261e97b7e6ba"
      },
      "execution_count": 158,
      "outputs": [
        {
          "output_type": "stream",
          "name": "stdout",
          "text": [
            "Linear(1 -> 16)\n",
            "ReLU((16,))\n",
            "Linear(16 -> 16)\n",
            "Linear(16 -> 1)\n"
          ]
        }
      ]
    },
    {
      "cell_type": "code",
      "source": [
        "print(verilog)"
      ],
      "metadata": {
        "colab": {
          "base_uri": "https://localhost:8080/"
        },
        "id": "IulboYgfNTKv",
        "outputId": "6488bd06-c087-4ce6-8df5-964caa83bdf5"
      },
      "execution_count": 159,
      "outputs": [
        {
          "output_type": "stream",
          "name": "stdout",
          "text": [
            "`timescale 1ns / 1ps\n",
            "\n",
            "module layer_0_linear_1_16(in0, out0,out1,out2,out3,out4,out5,out6,out7,out8,out9,out10,out11,out12,out13,out14,out15);\n",
            "    input [6:0] in0;\n",
            "\n",
            "    output [3:0] out0;\n",
            "    output [2:0] out1;\n",
            "    output [2:0] out2;\n",
            "    output [8:0] out3;\n",
            "    output [4:0] out4;\n",
            "    output [6:0] out5;\n",
            "    output [5:0] out6;\n",
            "    output [4:0] out7;\n",
            "    output [5:0] out8;\n",
            "    output [5:0] out9;\n",
            "    output [5:0] out10;\n",
            "    output [5:0] out11;\n",
            "    output [6:0] out12;\n",
            "    output [4:0] out13;\n",
            "    output [2:0] out14;\n",
            "    output [4:0] out15;\n",
            "\n",
            "    \n",
            "    reg [3:0] mul0;\n",
            "    reg [2:0] mul1;\n",
            "    reg [2:0] mul2;\n",
            "    reg [8:0] mul3;\n",
            "    reg [4:0] mul4;\n",
            "    reg [6:0] mul5;\n",
            "    reg [5:0] mul6;\n",
            "    reg [4:0] mul7;\n",
            "    reg [5:0] mul8;\n",
            "    reg [5:0] mul9;\n",
            "    reg [5:0] mul10;\n",
            "    reg [5:0] mul11;\n",
            "    reg [6:0] mul12;\n",
            "    reg [4:0] mul13;\n",
            "    reg [2:0] mul14;\n",
            "    reg [4:0] mul15;\n",
            "\n",
            "    reg [3:0] add0;\n",
            "    reg [2:0] add1;\n",
            "    reg [2:0] add2;\n",
            "    reg [8:0] add3;\n",
            "    reg [4:0] add4;\n",
            "    reg [6:0] add5;\n",
            "    reg [5:0] add6;\n",
            "    reg [4:0] add7;\n",
            "    reg [5:0] add8;\n",
            "    reg [5:0] add9;\n",
            "    reg [5:0] add10;\n",
            "    reg [5:0] add11;\n",
            "    reg [6:0] add12;\n",
            "    reg [4:0] add13;\n",
            "    reg [2:0] add14;\n",
            "    reg [4:0] add15;\n",
            "\n",
            "        \n",
            "    always @(*)\n",
            "    begin\n",
            "        mul0 = mul0 + in0 * -0.11329466849565506;\n",
            "        mul1 = mul1 + in0 * -0.041598688811063766;\n",
            "        mul2 = mul2 + in0 * 0.03672186657786369;\n",
            "        mul3 = mul3 + in0 * -4.187891483306885;\n",
            "        mul4 = mul4 + in0 * 0.28581756353378296;\n",
            "        mul5 = mul5 + in0 * 0.6541001796722412;\n",
            "        mul6 = mul6 + in0 * -0.433165043592453;\n",
            "        mul7 = mul7 + in0 * -0.2317586988210678;\n",
            "        mul8 = mul8 + in0 * -0.6201025247573853;\n",
            "        mul9 = mul9 + in0 * 0.36692744493484497;\n",
            "        mul10 = mul10 + in0 * -0.4759054183959961;\n",
            "        mul11 = mul11 + in0 * -0.5305337309837341;\n",
            "        mul12 = mul12 + in0 * -0.6454101800918579;\n",
            "        mul13 = mul13 + in0 * -0.1847553700208664;\n",
            "        mul14 = mul14 + in0 * -0.05082068219780922;\n",
            "        mul15 = mul15 + in0 * 0.23261626064777374;\n",
            "\n",
            "        add0 = mul0 + 0.38979995250701904;\n",
            "        add1 = mul1 + 0.2076733559370041;\n",
            "        add2 = mul2 + -0.2728232443332672;\n",
            "        add3 = mul3 + 0.36504706740379333;\n",
            "        add4 = mul4 + -0.5066778063774109;\n",
            "        add5 = mul5 + -1.0099074840545654;\n",
            "        add6 = mul6 + -0.042557597160339355;\n",
            "        add7 = mul7 + -0.03520321846008301;\n",
            "        add8 = mul8 + -0.7739169597625732;\n",
            "        add9 = mul9 + 0.5852826833724976;\n",
            "        add10 = mul10 + -0.3731454610824585;\n",
            "        add11 = mul11 + 0.41449272632598877;\n",
            "        add12 = mul12 + -0.7719360589981079;\n",
            "        add13 = mul13 + 0.22556725144386292;\n",
            "        add14 = mul14 + 0.017322435975074768;\n",
            "        add15 = mul15 + -0.5866097807884216;\n",
            "\n",
            "    end\n",
            "    assign out0 = add0;\n",
            "  assign out1 = add1;\n",
            "  assign out2 = add2;\n",
            "  assign out3 = add3;\n",
            "  assign out4 = add4;\n",
            "  assign out5 = add5;\n",
            "  assign out6 = add6;\n",
            "  assign out7 = add7;\n",
            "  assign out8 = add8;\n",
            "  assign out9 = add9;\n",
            "  assign out10 = add10;\n",
            "  assign out11 = add11;\n",
            "  assign out12 = add12;\n",
            "  assign out13 = add13;\n",
            "  assign out14 = add14;\n",
            "  assign out15 = add15;\n",
            "\n",
            "endmodule\n",
            "\n",
            "\n",
            "module layer_1_relu_16(in0,in1,in2,in3,in4,in5,in6,in7,in8,in9,in10,in11,in12,in13,in14,in15, out0,out1,out2,out3,out4,out5,out6,out7,out8,out9,out10,out11,out12,out13,out14,out15);\n",
            "    input [3:0] in0;\n",
            "    input [2:0] in1;\n",
            "    input [2:0] in2;\n",
            "    input [8:0] in3;\n",
            "    input [4:0] in4;\n",
            "    input [6:0] in5;\n",
            "    input [5:0] in6;\n",
            "    input [4:0] in7;\n",
            "    input [5:0] in8;\n",
            "    input [5:0] in9;\n",
            "    input [5:0] in10;\n",
            "    input [5:0] in11;\n",
            "    input [6:0] in12;\n",
            "    input [4:0] in13;\n",
            "    input [2:0] in14;\n",
            "    input [4:0] in15;\n",
            "\n",
            "    output reg [0:0] out0;\n",
            "    output reg [0:0] out1;\n",
            "    output reg [2:0] out2;\n",
            "    output reg [-1:0] out3;\n",
            "    output reg [4:0] out4;\n",
            "    output reg [6:0] out5;\n",
            "    output reg [-1:0] out6;\n",
            "    output reg [-1:0] out7;\n",
            "    output reg [-1:0] out8;\n",
            "    output reg [5:0] out9;\n",
            "    output reg [-1:0] out10;\n",
            "    output reg [-1:0] out11;\n",
            "    output reg [-1:0] out12;\n",
            "    output reg [0:0] out13;\n",
            "    output reg [-1:0] out14;\n",
            "    output reg [4:0] out15;\n",
            "\n",
            "                \n",
            "    always @(*) \n",
            "    begin\n",
            "        out0 = in0 > 0 ? in0 : 0;\n",
            "        out1 = in1 > 0 ? in1 : 0;\n",
            "        out2 = in2 > 0 ? in2 : 0;\n",
            "        out3 = in3 > 0 ? in3 : 0;\n",
            "        out4 = in4 > 0 ? in4 : 0;\n",
            "        out5 = in5 > 0 ? in5 : 0;\n",
            "        out6 = in6 > 0 ? in6 : 0;\n",
            "        out7 = in7 > 0 ? in7 : 0;\n",
            "        out8 = in8 > 0 ? in8 : 0;\n",
            "        out9 = in9 > 0 ? in9 : 0;\n",
            "        out10 = in10 > 0 ? in10 : 0;\n",
            "        out11 = in11 > 0 ? in11 : 0;\n",
            "        out12 = in12 > 0 ? in12 : 0;\n",
            "        out13 = in13 > 0 ? in13 : 0;\n",
            "        out14 = in14 > 0 ? in14 : 0;\n",
            "        out15 = in15 > 0 ? in15 : 0;\n",
            "\n",
            "    end\n",
            "endmodule\n",
            "\n",
            "\n",
            "module layer_2_linear_16_16(in0,in1,in2,in3,in4,in5,in6,in7,in8,in9,in10,in11,in12,in13,in14,in15, out0,out1,out2,out3,out4,out5,out6,out7,out8,out9,out10,out11,out12,out13,out14,out15);\n",
            "    input [0:0] in0;\n",
            "    input [0:0] in1;\n",
            "    input [2:0] in2;\n",
            "    input [-1:0] in3;\n",
            "    input [4:0] in4;\n",
            "    input [6:0] in5;\n",
            "    input [-1:0] in6;\n",
            "    input [-1:0] in7;\n",
            "    input [-1:0] in8;\n",
            "    input [5:0] in9;\n",
            "    input [-1:0] in10;\n",
            "    input [-1:0] in11;\n",
            "    input [-1:0] in12;\n",
            "    input [0:0] in13;\n",
            "    input [-1:0] in14;\n",
            "    input [4:0] in15;\n",
            "\n",
            "    output [2:0] out0;\n",
            "    output [2:0] out1;\n",
            "    output [4:0] out2;\n",
            "    output [4:0] out3;\n",
            "    output [0:0] out4;\n",
            "    output [4:0] out5;\n",
            "    output [3:0] out6;\n",
            "    output [2:0] out7;\n",
            "    output [3:0] out8;\n",
            "    output [0:0] out9;\n",
            "    output [1:0] out10;\n",
            "    output [4:0] out11;\n",
            "    output [4:0] out12;\n",
            "    output [3:0] out13;\n",
            "    output [2:0] out14;\n",
            "    output [3:0] out15;\n",
            "\n",
            "    \n",
            "    reg [2:0] mul0;\n",
            "    reg [2:0] mul1;\n",
            "    reg [4:0] mul2;\n",
            "    reg [4:0] mul3;\n",
            "    reg [0:0] mul4;\n",
            "    reg [4:0] mul5;\n",
            "    reg [3:0] mul6;\n",
            "    reg [2:0] mul7;\n",
            "    reg [3:0] mul8;\n",
            "    reg [0:0] mul9;\n",
            "    reg [1:0] mul10;\n",
            "    reg [4:0] mul11;\n",
            "    reg [4:0] mul12;\n",
            "    reg [3:0] mul13;\n",
            "    reg [2:0] mul14;\n",
            "    reg [3:0] mul15;\n",
            "\n",
            "    reg [2:0] add0;\n",
            "    reg [2:0] add1;\n",
            "    reg [4:0] add2;\n",
            "    reg [4:0] add3;\n",
            "    reg [0:0] add4;\n",
            "    reg [4:0] add5;\n",
            "    reg [3:0] add6;\n",
            "    reg [2:0] add7;\n",
            "    reg [3:0] add8;\n",
            "    reg [0:0] add9;\n",
            "    reg [1:0] add10;\n",
            "    reg [4:0] add11;\n",
            "    reg [4:0] add12;\n",
            "    reg [3:0] add13;\n",
            "    reg [2:0] add14;\n",
            "    reg [3:0] add15;\n",
            "\n",
            "        \n",
            "    always @(*)\n",
            "    begin\n",
            "        mul0 = mul0 + in0 * -0.19982288777828217;\n",
            "        mul0 = mul0 + in1 * -0.1843058466911316;\n",
            "        mul0 = mul0 + in2 * -0.019000301137566566;\n",
            "        mul0 = mul0 + in3 * 0.1862553358078003;\n",
            "        mul0 = mul0 + in4 * -0.15894101560115814;\n",
            "        mul0 = mul0 + in5 * -0.015442205592989922;\n",
            "        mul0 = mul0 + in6 * -0.16471818089485168;\n",
            "        mul0 = mul0 + in7 * 0.013883829116821289;\n",
            "        mul0 = mul0 + in8 * 0.05251675844192505;\n",
            "        mul0 = mul0 + in9 * 0.04555033892393112;\n",
            "        mul0 = mul0 + in10 * -0.11439621448516846;\n",
            "        mul0 = mul0 + in11 * 0.010422110557556152;\n",
            "        mul0 = mul0 + in12 * 0.01921120285987854;\n",
            "        mul0 = mul0 + in13 * -0.009866088628768921;\n",
            "        mul0 = mul0 + in14 * -0.14312979578971863;\n",
            "        mul0 = mul0 + in15 * -0.06248655170202255;\n",
            "        mul1 = mul1 + in0 * 0.13425616919994354;\n",
            "        mul1 = mul1 + in1 * -0.2027888298034668;\n",
            "        mul1 = mul1 + in2 * -0.24388258159160614;\n",
            "        mul1 = mul1 + in3 * -0.03647851198911667;\n",
            "        mul1 = mul1 + in4 * 0.06691934913396835;\n",
            "        mul1 = mul1 + in5 * -0.011851191520690918;\n",
            "        mul1 = mul1 + in6 * -0.19137272238731384;\n",
            "        mul1 = mul1 + in7 * 0.07708309590816498;\n",
            "        mul1 = mul1 + in8 * -0.030887961387634277;\n",
            "        mul1 = mul1 + in9 * -0.21995417773723602;\n",
            "        mul1 = mul1 + in10 * -0.18668398261070251;\n",
            "        mul1 = mul1 + in11 * -0.14223040640354156;\n",
            "        mul1 = mul1 + in12 * 0.1746068298816681;\n",
            "        mul1 = mul1 + in13 * 0.061039261519908905;\n",
            "        mul1 = mul1 + in14 * -0.26952508091926575;\n",
            "        mul1 = mul1 + in15 * 0.13304990530014038;\n",
            "        mul2 = mul2 + in0 * -0.3450632095336914;\n",
            "        mul2 = mul2 + in1 * -0.325954407453537;\n",
            "        mul2 = mul2 + in2 * 0.10098927468061447;\n",
            "        mul2 = mul2 + in3 * -1.5530312061309814;\n",
            "        mul2 = mul2 + in4 * 0.06930159777402878;\n",
            "        mul2 = mul2 + in5 * -0.3371831178665161;\n",
            "        mul2 = mul2 + in6 * -0.03298826515674591;\n",
            "        mul2 = mul2 + in7 * 0.046676844358444214;\n",
            "        mul2 = mul2 + in8 * -0.22038999199867249;\n",
            "        mul2 = mul2 + in9 * 0.0359012596309185;\n",
            "        mul2 = mul2 + in10 * 0.11454668641090393;\n",
            "        mul2 = mul2 + in11 * -0.6209958791732788;\n",
            "        mul2 = mul2 + in12 * -0.18839967250823975;\n",
            "        mul2 = mul2 + in13 * -0.31279611587524414;\n",
            "        mul2 = mul2 + in14 * -0.24349002540111542;\n",
            "        mul2 = mul2 + in15 * 0.0006142820930108428;\n",
            "        mul3 = mul3 + in0 * -0.053858645260334015;\n",
            "        mul3 = mul3 + in1 * -0.230902299284935;\n",
            "        mul3 = mul3 + in2 * -0.25230860710144043;\n",
            "        mul3 = mul3 + in3 * -0.1486770659685135;\n",
            "        mul3 = mul3 + in4 * -0.14937208592891693;\n",
            "        mul3 = mul3 + in5 * -0.26630789041519165;\n",
            "        mul3 = mul3 + in6 * 0.07337205857038498;\n",
            "        mul3 = mul3 + in7 * -0.2287682145833969;\n",
            "        mul3 = mul3 + in8 * 0.07808393239974976;\n",
            "        mul3 = mul3 + in9 * 0.13860595226287842;\n",
            "        mul3 = mul3 + in10 * -0.14991605281829834;\n",
            "        mul3 = mul3 + in11 * 0.030147554352879524;\n",
            "        mul3 = mul3 + in12 * -0.0309503972530365;\n",
            "        mul3 = mul3 + in13 * -0.224444180727005;\n",
            "        mul3 = mul3 + in14 * -0.20560558140277863;\n",
            "        mul3 = mul3 + in15 * -0.07184990495443344;\n",
            "        mul4 = mul4 + in0 * -0.1696666181087494;\n",
            "        mul4 = mul4 + in1 * -0.14269647002220154;\n",
            "        mul4 = mul4 + in2 * 0.16977547109127045;\n",
            "        mul4 = mul4 + in3 * -0.07990008592605591;\n",
            "        mul4 = mul4 + in4 * -0.09533264487981796;\n",
            "        mul4 = mul4 + in5 * 0.10072051733732224;\n",
            "        mul4 = mul4 + in6 * 0.20516926050186157;\n",
            "        mul4 = mul4 + in7 * 0.006533235311508179;\n",
            "        mul4 = mul4 + in8 * -0.1999405026435852;\n",
            "        mul4 = mul4 + in9 * -0.08306884765625;\n",
            "        mul4 = mul4 + in10 * 0.19161257147789001;\n",
            "        mul4 = mul4 + in11 * -0.1051541268825531;\n",
            "        mul4 = mul4 + in12 * -0.0840180516242981;\n",
            "        mul4 = mul4 + in13 * -0.028061985969543457;\n",
            "        mul4 = mul4 + in14 * 0.14701935648918152;\n",
            "        mul4 = mul4 + in15 * -0.025438452139496803;\n",
            "        mul5 = mul5 + in0 * -0.3310469686985016;\n",
            "        mul5 = mul5 + in1 * -0.2519587576389313;\n",
            "        mul5 = mul5 + in2 * -0.29444828629493713;\n",
            "        mul5 = mul5 + in3 * -0.24071627855300903;\n",
            "        mul5 = mul5 + in4 * -0.039363499730825424;\n",
            "        mul5 = mul5 + in5 * -0.3681642711162567;\n",
            "        mul5 = mul5 + in6 * 0.018711775541305542;\n",
            "        mul5 = mul5 + in7 * 0.09372594952583313;\n",
            "        mul5 = mul5 + in8 * 0.19165197014808655;\n",
            "        mul5 = mul5 + in9 * 0.005335803143680096;\n",
            "        mul5 = mul5 + in10 * -0.1446901261806488;\n",
            "        mul5 = mul5 + in11 * -0.2605741322040558;\n",
            "        mul5 = mul5 + in12 * 0.12262219190597534;\n",
            "        mul5 = mul5 + in13 * -0.1890137642621994;\n",
            "        mul5 = mul5 + in14 * -0.3089964687824249;\n",
            "        mul5 = mul5 + in15 * 0.10161782056093216;\n",
            "        mul6 = mul6 + in0 * -0.0265541672706604;\n",
            "        mul6 = mul6 + in1 * -0.09352836012840271;\n",
            "        mul6 = mul6 + in2 * 0.01498490571975708;\n",
            "        mul6 = mul6 + in3 * -0.112263023853302;\n",
            "        mul6 = mul6 + in4 * -0.24829351902008057;\n",
            "        mul6 = mul6 + in5 * 0.12229761481285095;\n",
            "        mul6 = mul6 + in6 * 0.22162997722625732;\n",
            "        mul6 = mul6 + in7 * -0.08783560991287231;\n",
            "        mul6 = mul6 + in8 * 0.03707060217857361;\n",
            "        mul6 = mul6 + in9 * -0.1648705005645752;\n",
            "        mul6 = mul6 + in10 * 0.20384246110916138;\n",
            "        mul6 = mul6 + in11 * 0.13679826259613037;\n",
            "        mul6 = mul6 + in12 * 0.12377619743347168;\n",
            "        mul6 = mul6 + in13 * 0.07286864519119263;\n",
            "        mul6 = mul6 + in14 * 0.21113964915275574;\n",
            "        mul6 = mul6 + in15 * -0.14259696006774902;\n",
            "        mul7 = mul7 + in0 * -0.23447242379188538;\n",
            "        mul7 = mul7 + in1 * 0.13311541080474854;\n",
            "        mul7 = mul7 + in2 * -0.1905439794063568;\n",
            "        mul7 = mul7 + in3 * -0.20714035630226135;\n",
            "        mul7 = mul7 + in4 * -0.0060329437255859375;\n",
            "        mul7 = mul7 + in5 * -0.06470277905464172;\n",
            "        mul7 = mul7 + in6 * -0.24778413772583008;\n",
            "        mul7 = mul7 + in7 * -0.19523471593856812;\n",
            "        mul7 = mul7 + in8 * -0.09700551629066467;\n",
            "        mul7 = mul7 + in9 * -0.12878692150115967;\n",
            "        mul7 = mul7 + in10 * 0.20994123816490173;\n",
            "        mul7 = mul7 + in11 * -0.03932470083236694;\n",
            "        mul7 = mul7 + in12 * 0.1384996771812439;\n",
            "        mul7 = mul7 + in13 * -0.0746752917766571;\n",
            "        mul7 = mul7 + in14 * -0.10560140013694763;\n",
            "        mul7 = mul7 + in15 * 0.14341536164283752;\n",
            "        mul8 = mul8 + in0 * 0.15509971976280212;\n",
            "        mul8 = mul8 + in1 * -0.1242094337940216;\n",
            "        mul8 = mul8 + in2 * 0.1868857443332672;\n",
            "        mul8 = mul8 + in3 * -0.22904157638549805;\n",
            "        mul8 = mul8 + in4 * -0.02923831343650818;\n",
            "        mul8 = mul8 + in5 * -0.20943719148635864;\n",
            "        mul8 = mul8 + in6 * -0.1127018928527832;\n",
            "        mul8 = mul8 + in7 * 0.1761714220046997;\n",
            "        mul8 = mul8 + in8 * 0.017757058143615723;\n",
            "        mul8 = mul8 + in9 * 0.050184667110443115;\n",
            "        mul8 = mul8 + in10 * 0.07173579931259155;\n",
            "        mul8 = mul8 + in11 * -0.20477738976478577;\n",
            "        mul8 = mul8 + in12 * -0.010076701641082764;\n",
            "        mul8 = mul8 + in13 * -0.14053526520729065;\n",
            "        mul8 = mul8 + in14 * 0.1531364917755127;\n",
            "        mul8 = mul8 + in15 * -0.02501949667930603;\n",
            "        mul9 = mul9 + in0 * -0.2113822102546692;\n",
            "        mul9 = mul9 + in1 * 0.09701508283615112;\n",
            "        mul9 = mul9 + in2 * 0.04732348024845123;\n",
            "        mul9 = mul9 + in3 * 0.19907701015472412;\n",
            "        mul9 = mul9 + in4 * 0.060490671545267105;\n",
            "        mul9 = mul9 + in5 * 0.0903061106801033;\n",
            "        mul9 = mul9 + in6 * 0.009573936462402344;\n",
            "        mul9 = mul9 + in7 * -0.11533379554748535;\n",
            "        mul9 = mul9 + in8 * 0.14206448197364807;\n",
            "        mul9 = mul9 + in9 * -0.2292601317167282;\n",
            "        mul9 = mul9 + in10 * 0.07536393404006958;\n",
            "        mul9 = mul9 + in11 * 0.13531804084777832;\n",
            "        mul9 = mul9 + in12 * -0.1357395052909851;\n",
            "        mul9 = mul9 + in13 * -0.004741549491882324;\n",
            "        mul9 = mul9 + in14 * -0.11499027162790298;\n",
            "        mul9 = mul9 + in15 * 0.025440793484449387;\n",
            "        mul10 = mul10 + in0 * 0.029808109626173973;\n",
            "        mul10 = mul10 + in1 * 0.03703108802437782;\n",
            "        mul10 = mul10 + in2 * -0.03460770100355148;\n",
            "        mul10 = mul10 + in3 * 0.13260626792907715;\n",
            "        mul10 = mul10 + in4 * -0.24772652983665466;\n",
            "        mul10 = mul10 + in5 * 0.06314267218112946;\n",
            "        mul10 = mul10 + in6 * 0.19484585523605347;\n",
            "        mul10 = mul10 + in7 * -0.011803741566836834;\n",
            "        mul10 = mul10 + in8 * -0.03320366144180298;\n",
            "        mul10 = mul10 + in9 * 0.12857241928577423;\n",
            "        mul10 = mul10 + in10 * -0.21733081340789795;\n",
            "        mul10 = mul10 + in11 * 0.051991771906614304;\n",
            "        mul10 = mul10 + in12 * -0.2323276698589325;\n",
            "        mul10 = mul10 + in13 * -0.2089672088623047;\n",
            "        mul10 = mul10 + in14 * 0.15429937839508057;\n",
            "        mul10 = mul10 + in15 * 0.057849496603012085;\n",
            "        mul11 = mul11 + in0 * 0.11641476303339005;\n",
            "        mul11 = mul11 + in1 * 0.08186033368110657;\n",
            "        mul11 = mul11 + in2 * 0.12461034208536148;\n",
            "        mul11 = mul11 + in3 * -6.5052876472473145;\n",
            "        mul11 = mul11 + in4 * -0.060383595526218414;\n",
            "        mul11 = mul11 + in5 * -0.36853137612342834;\n",
            "        mul11 = mul11 + in6 * -0.07123148441314697;\n",
            "        mul11 = mul11 + in7 * 0.09428978711366653;\n",
            "        mul11 = mul11 + in8 * 0.12387445569038391;\n",
            "        mul11 = mul11 + in9 * 0.14680033922195435;\n",
            "        mul11 = mul11 + in10 * 0.24792948365211487;\n",
            "        mul11 = mul11 + in11 * 0.04610947147011757;\n",
            "        mul11 = mul11 + in12 * 0.10894221067428589;\n",
            "        mul11 = mul11 + in13 * 0.06814984977245331;\n",
            "        mul11 = mul11 + in14 * 0.028148841112852097;\n",
            "        mul11 = mul11 + in15 * -0.13835151493549347;\n",
            "        mul12 = mul12 + in0 * 0.047863155603408813;\n",
            "        mul12 = mul12 + in1 * -0.4285406470298767;\n",
            "        mul12 = mul12 + in2 * -0.07429420202970505;\n",
            "        mul12 = mul12 + in3 * 0.0082741379737854;\n",
            "        mul12 = mul12 + in4 * 0.021780965849757195;\n",
            "        mul12 = mul12 + in5 * -0.03532775118947029;\n",
            "        mul12 = mul12 + in6 * 0.2154647409915924;\n",
            "        mul12 = mul12 + in7 * 0.03817230463027954;\n",
            "        mul12 = mul12 + in8 * 0.0915837287902832;\n",
            "        mul12 = mul12 + in9 * -0.4555000960826874;\n",
            "        mul12 = mul12 + in10 * 0.14311105012893677;\n",
            "        mul12 = mul12 + in11 * -0.01854342222213745;\n",
            "        mul12 = mul12 + in12 * -0.09690102934837341;\n",
            "        mul12 = mul12 + in13 * -0.04675823450088501;\n",
            "        mul12 = mul12 + in14 * -0.14637377858161926;\n",
            "        mul12 = mul12 + in15 * -0.06310992687940598;\n",
            "        mul13 = mul13 + in0 * -0.30683478713035583;\n",
            "        mul13 = mul13 + in1 * 0.05497836694121361;\n",
            "        mul13 = mul13 + in2 * 0.07997438311576843;\n",
            "        mul13 = mul13 + in3 * -0.1989719718694687;\n",
            "        mul13 = mul13 + in4 * 0.1531795710325241;\n",
            "        mul13 = mul13 + in5 * -0.18675929307937622;\n",
            "        mul13 = mul13 + in6 * 0.16550077497959137;\n",
            "        mul13 = mul13 + in7 * -0.11511164903640747;\n",
            "        mul13 = mul13 + in8 * -0.026504456996917725;\n",
            "        mul13 = mul13 + in9 * -0.10788240283727646;\n",
            "        mul13 = mul13 + in10 * 0.1748032569885254;\n",
            "        mul13 = mul13 + in11 * 0.08813723921775818;\n",
            "        mul13 = mul13 + in12 * -0.16487932205200195;\n",
            "        mul13 = mul13 + in13 * -0.37958839535713196;\n",
            "        mul13 = mul13 + in14 * 0.14728319644927979;\n",
            "        mul13 = mul13 + in15 * 0.15431879460811615;\n",
            "        mul14 = mul14 + in0 * -0.11893848329782486;\n",
            "        mul14 = mul14 + in1 * 0.18846654891967773;\n",
            "        mul14 = mul14 + in2 * 0.07101200520992279;\n",
            "        mul14 = mul14 + in3 * 0.14533376693725586;\n",
            "        mul14 = mul14 + in4 * 0.10075511038303375;\n",
            "        mul14 = mul14 + in5 * -0.09923024475574493;\n",
            "        mul14 = mul14 + in6 * 0.006905633956193924;\n",
            "        mul14 = mul14 + in7 * 0.0842665582895279;\n",
            "        mul14 = mul14 + in8 * -0.19302964210510254;\n",
            "        mul14 = mul14 + in9 * 0.10434433072805405;\n",
            "        mul14 = mul14 + in10 * 0.016990333795547485;\n",
            "        mul14 = mul14 + in11 * -0.27085545659065247;\n",
            "        mul14 = mul14 + in12 * -0.19913232326507568;\n",
            "        mul14 = mul14 + in13 * -0.1987295299768448;\n",
            "        mul14 = mul14 + in14 * 0.028832927346229553;\n",
            "        mul14 = mul14 + in15 * -0.16029997169971466;\n",
            "        mul15 = mul15 + in0 * -0.23629719018936157;\n",
            "        mul15 = mul15 + in1 * 0.10358747839927673;\n",
            "        mul15 = mul15 + in2 * 0.02151399850845337;\n",
            "        mul15 = mul15 + in3 * -0.20861414074897766;\n",
            "        mul15 = mul15 + in4 * 0.025026261806488037;\n",
            "        mul15 = mul15 + in5 * -0.07630583643913269;\n",
            "        mul15 = mul15 + in6 * 0.0027763545513153076;\n",
            "        mul15 = mul15 + in7 * -0.0914408266544342;\n",
            "        mul15 = mul15 + in8 * 0.18240270018577576;\n",
            "        mul15 = mul15 + in9 * -0.2355198860168457;\n",
            "        mul15 = mul15 + in10 * 0.13312840461730957;\n",
            "        mul15 = mul15 + in11 * 0.21890494227409363;\n",
            "        mul15 = mul15 + in12 * -0.03151345252990723;\n",
            "        mul15 = mul15 + in13 * -0.0015676617622375488;\n",
            "        mul15 = mul15 + in14 * 0.08062195777893066;\n",
            "        mul15 = mul15 + in15 * 0.14926305413246155;\n",
            "\n",
            "        add0 = mul0 + -0.3705289661884308;\n",
            "        add1 = mul1 + 0.16373476386070251;\n",
            "        add2 = mul2 + 0.25529730319976807;\n",
            "        add3 = mul3 + -0.12697525322437286;\n",
            "        add4 = mul4 + -0.2635543942451477;\n",
            "        add5 = mul5 + -0.13753215968608856;\n",
            "        add6 = mul6 + -0.19474315643310547;\n",
            "        add7 = mul7 + -0.13614404201507568;\n",
            "        add8 = mul8 + -0.23267051577568054;\n",
            "        add9 = mul9 + 0.004069605842232704;\n",
            "        add10 = mul10 + -0.28561219573020935;\n",
            "        add11 = mul11 + 0.23293481767177582;\n",
            "        add12 = mul12 + -0.11637675017118454;\n",
            "        add13 = mul13 + 0.09700211882591248;\n",
            "        add14 = mul14 + -0.2210070937871933;\n",
            "        add15 = mul15 + -0.021152883768081665;\n",
            "\n",
            "    end\n",
            "    assign out0 = add0;\n",
            "  assign out1 = add1;\n",
            "  assign out2 = add2;\n",
            "  assign out3 = add3;\n",
            "  assign out4 = add4;\n",
            "  assign out5 = add5;\n",
            "  assign out6 = add6;\n",
            "  assign out7 = add7;\n",
            "  assign out8 = add8;\n",
            "  assign out9 = add9;\n",
            "  assign out10 = add10;\n",
            "  assign out11 = add11;\n",
            "  assign out12 = add12;\n",
            "  assign out13 = add13;\n",
            "  assign out14 = add14;\n",
            "  assign out15 = add15;\n",
            "\n",
            "endmodule\n",
            "\n",
            "\n",
            "module layer_3_linear_16_1(in0,in1,in2,in3,in4,in5,in6,in7,in8,in9,in10,in11,in12,in13,in14,in15, out0);\n",
            "    input [2:0] in0;\n",
            "    input [2:0] in1;\n",
            "    input [4:0] in2;\n",
            "    input [4:0] in3;\n",
            "    input [0:0] in4;\n",
            "    input [4:0] in5;\n",
            "    input [3:0] in6;\n",
            "    input [2:0] in7;\n",
            "    input [3:0] in8;\n",
            "    input [0:0] in9;\n",
            "    input [1:0] in10;\n",
            "    input [4:0] in11;\n",
            "    input [4:0] in12;\n",
            "    input [3:0] in13;\n",
            "    input [2:0] in14;\n",
            "    input [3:0] in15;\n",
            "\n",
            "    output [1:0] out0;\n",
            "\n",
            "    \n",
            "    reg [1:0] mul0;\n",
            "\n",
            "    reg [1:0] add0;\n",
            "\n",
            "        \n",
            "    always @(*)\n",
            "    begin\n",
            "        mul0 = mul0 + in0 * -0.028679540380835533;\n",
            "        mul0 = mul0 + in1 * 0.07419867813587189;\n",
            "        mul0 = mul0 + in2 * 0.034594032913446426;\n",
            "        mul0 = mul0 + in3 * -0.0537559799849987;\n",
            "        mul0 = mul0 + in4 * 0.029939984902739525;\n",
            "        mul0 = mul0 + in5 * -0.11877565830945969;\n",
            "        mul0 = mul0 + in6 * -0.11509445309638977;\n",
            "        mul0 = mul0 + in7 * 0.19190284609794617;\n",
            "        mul0 = mul0 + in8 * 0.08322688937187195;\n",
            "        mul0 = mul0 + in9 * 0.10904482752084732;\n",
            "        mul0 = mul0 + in10 * 0.0002599462168291211;\n",
            "        mul0 = mul0 + in11 * 0.09158492833375931;\n",
            "        mul0 = mul0 + in12 * -0.057637378573417664;\n",
            "        mul0 = mul0 + in13 * -0.08951195329427719;\n",
            "        mul0 = mul0 + in14 * -0.003041245276108384;\n",
            "        mul0 = mul0 + in15 * -0.15326255559921265;\n",
            "\n",
            "        add0 = mul0 + -0.011302759870886803;\n",
            "\n",
            "    end\n",
            "    assign out0 = add0;\n",
            "\n",
            "endmodule\n",
            "\n",
            "module top(in0, out0);\n",
            "    input [6:0] in0;\n",
            "    output [1:0] out0;\n",
            "    wire [4:0] layer_0_out_0;\n",
            "    wire [3:0] layer_0_out_1;\n",
            "    wire [3:0] layer_0_out_2;\n",
            "    wire [9:0] layer_0_out_3;\n",
            "    wire [5:0] layer_0_out_4;\n",
            "    wire [7:0] layer_0_out_5;\n",
            "    wire [6:0] layer_0_out_6;\n",
            "    wire [5:0] layer_0_out_7;\n",
            "    wire [6:0] layer_0_out_8;\n",
            "    wire [6:0] layer_0_out_9;\n",
            "    wire [6:0] layer_0_out_10;\n",
            "    wire [6:0] layer_0_out_11;\n",
            "    wire [7:0] layer_0_out_12;\n",
            "    wire [5:0] layer_0_out_13;\n",
            "    wire [3:0] layer_0_out_14;\n",
            "    wire [5:0] layer_0_out_15;\n",
            "    layer_0_linear_1_16 layer_0(in0, layer_0_out_0,layer_0_out_1,layer_0_out_2,layer_0_out_3,layer_0_out_4,layer_0_out_5,layer_0_out_6,layer_0_out_7,layer_0_out_8,layer_0_out_9,layer_0_out_10,layer_0_out_11,layer_0_out_12,layer_0_out_13,layer_0_out_14,layer_0_out_15);\n",
            "    wire [1:0] layer_1_out_0;\n",
            "    wire [1:0] layer_1_out_1;\n",
            "    wire [3:0] layer_1_out_2;\n",
            "    wire [0:0] layer_1_out_3;\n",
            "    wire [5:0] layer_1_out_4;\n",
            "    wire [7:0] layer_1_out_5;\n",
            "    wire [0:0] layer_1_out_6;\n",
            "    wire [0:0] layer_1_out_7;\n",
            "    wire [0:0] layer_1_out_8;\n",
            "    wire [6:0] layer_1_out_9;\n",
            "    wire [0:0] layer_1_out_10;\n",
            "    wire [0:0] layer_1_out_11;\n",
            "    wire [0:0] layer_1_out_12;\n",
            "    wire [1:0] layer_1_out_13;\n",
            "    wire [0:0] layer_1_out_14;\n",
            "    wire [5:0] layer_1_out_15;\n",
            "    layer_1_relu_16 layer_1(layer_0_out_0,layer_0_out_1,layer_0_out_2,layer_0_out_3,layer_0_out_4,layer_0_out_5,layer_0_out_6,layer_0_out_7,layer_0_out_8,layer_0_out_9,layer_0_out_10,layer_0_out_11,layer_0_out_12,layer_0_out_13,layer_0_out_14,layer_0_out_15, layer_1_out_0,layer_1_out_1,layer_1_out_2,layer_1_out_3,layer_1_out_4,layer_1_out_5,layer_1_out_6,layer_1_out_7,layer_1_out_8,layer_1_out_9,layer_1_out_10,layer_1_out_11,layer_1_out_12,layer_1_out_13,layer_1_out_14,layer_1_out_15);\n",
            "    wire [3:0] layer_2_out_0;\n",
            "    wire [3:0] layer_2_out_1;\n",
            "    wire [5:0] layer_2_out_2;\n",
            "    wire [5:0] layer_2_out_3;\n",
            "    wire [1:0] layer_2_out_4;\n",
            "    wire [5:0] layer_2_out_5;\n",
            "    wire [4:0] layer_2_out_6;\n",
            "    wire [3:0] layer_2_out_7;\n",
            "    wire [4:0] layer_2_out_8;\n",
            "    wire [1:0] layer_2_out_9;\n",
            "    wire [2:0] layer_2_out_10;\n",
            "    wire [5:0] layer_2_out_11;\n",
            "    wire [5:0] layer_2_out_12;\n",
            "    wire [4:0] layer_2_out_13;\n",
            "    wire [3:0] layer_2_out_14;\n",
            "    wire [4:0] layer_2_out_15;\n",
            "    layer_2_linear_16_16 layer_2(layer_1_out_0,layer_1_out_1,layer_1_out_2,layer_1_out_3,layer_1_out_4,layer_1_out_5,layer_1_out_6,layer_1_out_7,layer_1_out_8,layer_1_out_9,layer_1_out_10,layer_1_out_11,layer_1_out_12,layer_1_out_13,layer_1_out_14,layer_1_out_15, layer_2_out_0,layer_2_out_1,layer_2_out_2,layer_2_out_3,layer_2_out_4,layer_2_out_5,layer_2_out_6,layer_2_out_7,layer_2_out_8,layer_2_out_9,layer_2_out_10,layer_2_out_11,layer_2_out_12,layer_2_out_13,layer_2_out_14,layer_2_out_15);\n",
            "    wire [2:0] layer_3_out_0;\n",
            "    layer_3_linear_16_1 layer_3(layer_2_out_0,layer_2_out_1,layer_2_out_2,layer_2_out_3,layer_2_out_4,layer_2_out_5,layer_2_out_6,layer_2_out_7,layer_2_out_8,layer_2_out_9,layer_2_out_10,layer_2_out_11,layer_2_out_12,layer_2_out_13,layer_2_out_14,layer_2_out_15, layer_3_out_0);\n",
            "    assign out0 = layer_3_out_0;\n",
            "endmodule\n"
          ]
        }
      ]
    },
    {
      "cell_type": "markdown",
      "source": [
        "Generate the test bench"
      ],
      "metadata": {
        "id": "NYrvQoLzgLRI"
      }
    },
    {
      "cell_type": "code",
      "source": [
        "verilog_tb = model_converter.emit_test_bench()\n",
        "print(verilog_tb)"
      ],
      "metadata": {
        "colab": {
          "base_uri": "https://localhost:8080/"
        },
        "id": "6NwCG_bRfSqH",
        "outputId": "5a11b7be-e23b-448a-fc8f-078e61cc1780"
      },
      "execution_count": 160,
      "outputs": [
        {
          "output_type": "stream",
          "name": "stdout",
          "text": [
            "`timescale 1ns / 1ps\n",
            "\n",
            "module tb_top;\n",
            "        input [6:0] in0;\n",
            "        output [1:0] out0;\n",
            "\n",
            "    top dut(\n",
            "        in0,\n",
            "        out0\n",
            "    );\n",
            "\n",
            "    initial begin\n",
            "        $dumpfile(\"tb_top.vcd\");\n",
            "        $dumpvars(0, tb_top);\n",
            "        \n",
            "        // Wait a bit before starting simulation\n",
            "        #2;\n",
            "        \n",
            "                assign in0 = 0;\n",
            "\n",
            "        $finish;\n",
            "    end\n",
            "endmodule\n",
            "\n"
          ]
        }
      ]
    },
    {
      "cell_type": "markdown",
      "source": [
        "The next steps saves the verilog module and the testbench to a file."
      ],
      "metadata": {
        "id": "-icXArIAoh4H"
      }
    },
    {
      "cell_type": "code",
      "source": [
        "with open('test.v', 'w') as f:\n",
        "    f.write(verilog)\n",
        "\n",
        "with open('test_tb.v', 'w') as f:\n",
        "    f.write(verilog_tb)"
      ],
      "metadata": {
        "id": "vQDQWSSkNFHa"
      },
      "execution_count": 161,
      "outputs": []
    },
    {
      "cell_type": "markdown",
      "metadata": {
        "id": "4-o4w9vpPHZz"
      },
      "source": [
        "## References\n",
        "- [The Hello World of Deep Learning with Neural Networks](https://github.com/lmoroney/dlaicourse/blob/master/Course%201%20-%20Part%202%20-%20Lesson%202%20-%20Notebook.ipynb)\n",
        "- [A Simple Neural Network from Scratch with PyTorch and Google Colab](https://medium.com/dair-ai/a-simple-neural-network-from-scratch-with-pytorch-and-google-colab-c7f3830618e0?source=collection_category---4------1-----------------------)\n",
        "- [PyTorch Official Docs](https://pytorch.org/docs/stable/nn.html)\n",
        "- [PyTorch 1.2 Quickstart with Google Colab](https://medium.com/dair-ai/pytorch-1-2-quickstart-with-google-colab-6690a30c38d)\n",
        "- [A Gentle Intoduction to PyTorch](https://medium.com/dair-ai/pytorch-1-2-introduction-guide-f6fa9bb7597c)"
      ]
    },
    {
      "cell_type": "code",
      "source": [],
      "metadata": {
        "id": "_vYe8qvT5M_2"
      },
      "execution_count": null,
      "outputs": []
    }
  ]
}