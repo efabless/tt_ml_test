{
 "cells": [
  {
   "cell_type": "code",
   "outputs": [],
   "source": [
    "from torch import nn\n",
    "import torch"
   ],
   "metadata": {
    "collapsed": false,
    "ExecuteTime": {
     "end_time": "2024-03-16T11:59:39.841306Z",
     "start_time": "2024-03-16T11:59:39.838053Z"
    }
   },
   "execution_count": 4
  },
  {
   "cell_type": "code",
   "outputs": [],
   "source": [
    "simple_model = nn.Sequential(\n",
    "    nn.Linear(2, 1),\n",
    "    nn.ReLU()\n",
    ")"
   ],
   "metadata": {
    "collapsed": false,
    "ExecuteTime": {
     "end_time": "2024-03-16T11:59:41.175945Z",
     "start_time": "2024-03-16T11:59:41.171153Z"
    }
   },
   "execution_count": 5
  },
  {
   "cell_type": "code",
   "outputs": [],
   "source": [
    "x = []\n",
    "y = []\n",
    "\n",
    "for i in range(1, 100):\n",
    "    for j in range(1024):\n",
    "        x.append([i, j])\n",
    "        y.append([0 if j - i > 1 else 1])\n",
    "        \n",
    "x = torch.tensor(x, dtype=torch.float32)\n",
    "y = torch.tensor(y, dtype=torch.float32)\n",
    "\n",
    "x = (x - x.mean()) / x.std()"
   ],
   "metadata": {
    "collapsed": false,
    "ExecuteTime": {
     "end_time": "2024-03-16T12:15:47.085209Z",
     "start_time": "2024-03-16T12:15:46.875114Z"
    }
   },
   "execution_count": 49
  },
  {
   "cell_type": "code",
   "outputs": [],
   "source": [
    "criterion = nn.MSELoss()\n",
    "optimizer = torch.optim.SGD(simple_model.parameters(), lr=0.1)"
   ],
   "metadata": {
    "collapsed": false,
    "ExecuteTime": {
     "end_time": "2024-03-16T12:15:48.216269Z",
     "start_time": "2024-03-16T12:15:48.212640Z"
    }
   },
   "execution_count": 50
  },
  {
   "cell_type": "code",
   "outputs": [
    {
     "name": "stdout",
     "output_type": "stream",
     "text": [
      "0.09570144861936569\n",
      "0.07788550853729248\n",
      "0.06540592759847641\n",
      "0.0564945749938488\n",
      "0.05002888664603233\n",
      "0.045273467898368835\n",
      "0.04173417389392853\n",
      "0.039072103798389435\n",
      "0.03705062344670296\n",
      "0.03550201281905174\n",
      "0.03430582582950592\n",
      "0.03337453678250313\n",
      "0.032643865793943405\n",
      "0.03206619247794151\n",
      "0.03160589933395386\n",
      "0.031236179172992706\n",
      "0.03093670681118965\n",
      "0.03069196082651615\n",
      "0.030490050092339516\n",
      "0.03032178059220314\n",
      "0.030180050060153008\n",
      "0.03005930781364441\n",
      "0.029955236241221428\n",
      "0.029864441603422165\n",
      "0.029784251004457474\n",
      "0.02971256710588932\n",
      "0.029647711664438248\n",
      "0.029588371515274048\n",
      "0.029533494263887405\n",
      "0.029482239857316017\n",
      "0.02943393960595131\n",
      "0.029388058930635452\n",
      "0.029344165697693825\n",
      "0.029301920905709267\n",
      "0.029261043295264244\n",
      "0.029221313074231148\n",
      "0.029182542115449905\n",
      "0.029144594445824623\n",
      "0.0291073489934206\n",
      "0.02907070517539978\n",
      "0.02903459593653679\n",
      "0.02899894304573536\n",
      "0.028963711112737656\n",
      "0.0289288442581892\n",
      "0.028894318267703056\n",
      "0.028860097751021385\n",
      "0.028826160356402397\n",
      "0.0287924911826849\n",
      "0.028759069740772247\n",
      "0.028725886717438698\n",
      "0.028692925348877907\n",
      "0.028660180047154427\n",
      "0.02862764149904251\n",
      "0.028595298528671265\n",
      "0.028563152998685837\n",
      "0.02853119559586048\n",
      "0.0284994225949049\n",
      "0.028467826545238495\n",
      "0.028436411172151566\n",
      "0.02840515971183777\n",
      "0.028374087065458298\n",
      "0.028343182057142258\n",
      "0.028312435373663902\n",
      "0.02828185260295868\n",
      "0.02825143374502659\n",
      "0.028221169486641884\n",
      "0.028191065415740013\n",
      "0.02816111221909523\n",
      "0.028131311759352684\n",
      "0.028101660311222076\n",
      "0.028072161599993706\n",
      "0.028042808175086975\n",
      "0.028013601899147034\n",
      "0.027984537184238434\n",
      "0.027955619618296623\n",
      "0.027926838025450706\n",
      "0.02789819799363613\n",
      "0.0278696957975626\n",
      "0.02784133516252041\n",
      "0.027813103049993515\n",
      "0.027785010635852814\n",
      "0.02775704674422741\n",
      "0.02772921696305275\n",
      "0.027701517567038536\n",
      "0.02767394855618477\n",
      "0.02764650620520115\n",
      "0.027619188651442528\n",
      "0.027591999620199203\n",
      "0.02756493352353573\n",
      "0.027537988498806953\n",
      "0.02751116268336773\n",
      "0.027484465390443802\n",
      "0.027457883581519127\n",
      "0.027431420981884003\n",
      "0.02740507945418358\n",
      "0.02737884782254696\n",
      "0.02735273540019989\n",
      "0.027326734736561775\n",
      "0.027300849556922913\n",
      "0.027275077998638153\n"
     ]
    }
   ],
   "source": [
    "for epoch in range(100):\n",
    "    optimizer.zero_grad()\n",
    "    output = simple_model(x)\n",
    "    loss = criterion(output, y)\n",
    "    loss.backward()\n",
    "    optimizer.step()\n",
    "    print(loss.item())"
   ],
   "metadata": {
    "collapsed": false,
    "ExecuteTime": {
     "end_time": "2024-03-16T12:15:51.081709Z",
     "start_time": "2024-03-16T12:15:51.012821Z"
    }
   },
   "execution_count": 51
  },
  {
   "cell_type": "code",
   "outputs": [],
   "source": [
    "simple_model.eval()\n",
    "\n",
    "simple_model[0].weight = nn.Parameter(torch.tensor([[1.0, -1.0]]))\n",
    "simple_model[0].bias = nn.Parameter(torch.tensor([1.0]))"
   ],
   "metadata": {
    "collapsed": false,
    "ExecuteTime": {
     "end_time": "2024-03-16T12:27:57.707745Z",
     "start_time": "2024-03-16T12:27:57.703695Z"
    }
   },
   "execution_count": 85
  },
  {
   "cell_type": "code",
   "outputs": [
    {
     "data": {
      "text/plain": "4.0"
     },
     "execution_count": 91,
     "metadata": {},
     "output_type": "execute_result"
    }
   ],
   "source": [
    "simple_model(torch.tensor([[4.0, 1.0]])).item()"
   ],
   "metadata": {
    "collapsed": false,
    "ExecuteTime": {
     "end_time": "2024-03-16T12:28:11.581261Z",
     "start_time": "2024-03-16T12:28:11.577161Z"
    }
   },
   "execution_count": 91
  }
 ],
 "metadata": {
  "kernelspec": {
   "name": "python3",
   "language": "python",
   "display_name": "Python 3 (ipykernel)"
  },
  "language_info": {
   "codemirror_mode": {
    "name": "ipython",
    "version": 3
   },
   "file_extension": ".py",
   "mimetype": "text/x-python",
   "name": "python",
   "nbconvert_exporter": "python",
   "pygments_lexer": "ipython3",
   "version": "3.6.3"
  },
  "colab": {
   "provenance": [],
   "gpuType": "T4"
  },
  "accelerator": "GPU"
 },
 "nbformat": 4,
 "nbformat_minor": 0
}
